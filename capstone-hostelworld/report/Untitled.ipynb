{
 "cells": [
  {
   "cell_type": "markdown",
   "metadata": {
    "slideshow": {
     "slide_type": "-"
    }
   },
   "source": [
    "# Hostel World\n",
    "- Caitlin Mowdy\n",
    "- DSI-SF-2"
   ]
  },
  {
   "cell_type": "markdown",
   "metadata": {},
   "source": [
    "## Problem Statement\n",
    "- Hostelworld is a website to help budget travelers and backpackers find hostels\n",
    "- I want to cluster users based on their reviews, descriptions of hostels they've stayed at, age, travel group type, and nationality\n",
    "- I wanted to do this because "
   ]
  },
  {
   "cell_type": "markdown",
   "metadata": {},
   "source": [
    "## Collecting Data\n",
    "### User IDs\n",
    "- To view anonymously all the reviews made by a single user the following Xpath can be used with a unique ID inserted inplace of 'USER-ID \n",
    "    - http://www.hostelworld.com/profile/USER-ID/reviews\n",
    "- To collect users I randomly genrated IDs and tested them in the Xpath to see if they belonged to user who have reviewed hostels\n",
    "- to view code\n",
    "    - https://github.com/caitlinmowdy/DSI-SF-2-caitlinmowdy/blob/master/capstone-hostelworld/code/Get%20User%20IDs%201.ipynb"
   ]
  },
  {
   "cell_type": "markdown",
   "metadata": {},
   "source": [
    "### User and Review Details\n",
    "- Used the list of IDs that belong to reviewers\n",
    "- For users: \n",
    "    - collected age, travel group type, age group, and number of reviews \n",
    "- For reviews:\n",
    "    - collected reiew text, date, score, hostel, link to hostel, and location\n",
    "    \n",
    "### Hostel Details\n",
    "- Used links collected in reviews\n",
    "- tested that links belong to hostels that still exist\n",
    "- scraped for location, rating, review features, descriptions, amenities, policies, and awards\n",
    "\n",
    "- to view code\n",
    "    - https://github.com/caitlinmowdy/DSI-SF-2-caitlinmowdy/blob/master/capstone-hostelworld/code/Collect%20Raw%20Data.ipynb"
   ]
  },
  {
   "cell_type": "markdown",
   "metadata": {},
   "source": [
    "## Cleaning Data \n",
    "- First step in cleaning my data was deleting some of my users and reviews\n",
    "    - Some of the reviews belonged to hostels that No longer exist\n",
    "    - Also the reviews that weren't in english had to be deleted\n",
    "    - Deleting those reveiws left some userse who no longer had reviews\n",
    "- I removed odd spacing and html tags\n",
    "- seperated about_user, date, and location columns \n",
    "- to view code\n",
    "    - https://github.com/caitlinmowdy/DSI-SF-2-caitlinmowdy/blob/master/capstone-hostelworld/code/Clean%20Data.ipynb"
   ]
  },
  {
   "cell_type": "markdown",
   "metadata": {},
   "source": [
    "## EDA\n",
    "### Reviews\n",
    "- What countries are recieving the most reviews \n",
    "    - Italy, Spain, England\n",
    "- mean scores of reviews by country\n",
    "    - Tunisia, Antigua, San Marino\n",
    "- number of reviews by Month\n",
    "    - Jan, Dec, and July are the Months with the highest reviews\n",
    "- distribution of review scores\n",
    "    - Found that most reviews are positive\n",
    "\n",
    "### Users \n",
    "- What countries are most users from\n",
    "    - USA, England, Australia\n",
    "- In countries do users leave the most reviews\n",
    "    - Looked at mean(num_revs) grouped by country\n",
    "    - Bouvet Island, Poland, and Pakistan\n",
    "- What are the most poplular travel group types\n",
    "    - male, female, couple\n",
    "- What are the most common age groups\n",
    "    - not specified was most common by far, second was 25-30, then 18-24 was third\n",
    "- histogram of number of reviews by user\n",
    "    - most users leave 1 or 2 reviews\n",
    "    \n",
    "### Hostels\n",
    "- histogram of hostel scores\n",
    "    - most hostels have a score between 8 and 9.5\n",
    "- What countries have the most hostels\n",
    "    - Italy, Spain, Australia\n",
    "    \n",
    "- to view code\n",
    "    - https://github.com/caitlinmowdy/DSI-SF-2-caitlinmowdy/blob/master/capstone-hostelworld/code/eda.ipynb"
   ]
  },
  {
   "cell_type": "markdown",
   "metadata": {},
   "source": [
    "## Clustering \n",
    "- I haven't made it here yet\n",
    "- I plan to use k modes or DBSCAN "
   ]
  },
  {
   "cell_type": "code",
   "execution_count": null,
   "metadata": {
    "collapsed": true
   },
   "outputs": [],
   "source": []
  },
  {
   "cell_type": "code",
   "execution_count": null,
   "metadata": {
    "collapsed": true
   },
   "outputs": [],
   "source": []
  }
 ],
 "metadata": {
  "anaconda-cloud": {},
  "kernelspec": {
   "display_name": "Python [dsi]",
   "language": "python",
   "name": "Python [dsi]"
  },
  "language_info": {
   "codemirror_mode": {
    "name": "ipython",
    "version": 2
   },
   "file_extension": ".py",
   "mimetype": "text/x-python",
   "name": "python",
   "nbconvert_exporter": "python",
   "pygments_lexer": "ipython2",
   "version": "2.7.12"
  }
 },
 "nbformat": 4,
 "nbformat_minor": 0
}

{
 "cells": [
  {
   "cell_type": "markdown",
   "metadata": {
    "slideshow": {
     "slide_type": "-"
    }
   },
   "source": [
    "# Hostel World\n",
    "- Caitlin Mowdy\n",
    "- DSI-SF-2"
   ]
  },
  {
   "cell_type": "code",
   "execution_count": 18,
   "metadata": {
    "collapsed": true
   },
   "outputs": [],
   "source": [
    "import numpy as np\n",
    "import scipy \n",
    "import seaborn as sns\n",
    "import pandas as pd\n",
    "import sys\n",
    "from IPython.display import display"
   ]
  },
  {
   "cell_type": "code",
   "execution_count": 19,
   "metadata": {
    "collapsed": true
   },
   "outputs": [],
   "source": [
    "hostel_dist = pd.read_csv('/Users/caitlinmowdy/Desktop/DSI-SF-2-caitlinmowdy/capstone-hostelworld/clean-data/hostel_dist_oct10.csv')\n",
    "user_dist = pd.read_csv('/Users/caitlinmowdy/Desktop/DSI-SF-2-caitlinmowdy/capstone-hostelworld/clean-data/user_dist_oct10.csv')"
   ]
  },
  {
   "cell_type": "markdown",
   "metadata": {},
   "source": [
    "## Problem Statement\n",
    "- Hostelworld is a website that connects independent, budget, and youthful travelers to hostels. For the past 10 years Hostelworld has lead the market in online reservations for this demographic. The website lets users search for hostels given a location, group size, and dates. It also lets the user filter for prefered features and prices. \n",
    "- The goal of this project is to make hostel recommendation for a users based on other users that are similar to them, and hostels that are similar to those they have reviewed highly.\n",
    "- However most hostels have very similar features, and given that hostels are budget accommodation they usually fall in the same price range. For this reason the text of hostel descriptions and reviews needs to be taken into account when making hostel recommendations."
   ]
  },
  {
   "cell_type": "markdown",
   "metadata": {},
   "source": [
    "## Collecting Data\n",
    "### User IDs\n",
    "- To view anonymously all the reviews made by a single user the following Xpath can be used with a unique ID inserted inplace of 'USER-ID \n",
    "    - http://www.hostelworld.com/profile/USER-ID/reviews\n",
    "- I randomly generated codes and checked that they belonged to users’ profiles\n",
    "- to view code\n",
    "    - https://github.com/caitlinmowdy/DSI-SF-2-caitlinmowdy/blob/master/capstone-hostelworld/code/Get%20User%20IDs%201.ipynb"
   ]
  },
  {
   "cell_type": "markdown",
   "metadata": {},
   "source": [
    "### User and Review Details\n",
    "- Used the list of IDs that belong to reviewers\n",
    "- For users: \n",
    "    - collected age, travel group type, age group, and number of reviews \n",
    "- For reviews:\n",
    "    - collected reiew text, date, score, hostel, link to hostel, and location\n",
    "    \n",
    "### Hostel Details\n",
    "- Used links collected in reviews\n",
    "- tested that links belong to hostels that were still on hostel world\n",
    "- scraped for location, rating, review features, descriptions, amenities, policies, and awards\n",
    "\n",
    "- to view code\n",
    "    - https://github.com/caitlinmowdy/DSI-SF-2-caitlinmowdy/blob/master/capstone-hostelworld/code/Collect%20Raw%20Data.ipynb"
   ]
  },
  {
   "cell_type": "markdown",
   "metadata": {},
   "source": [
    "## Cleaning Data \n",
    "- First step in cleaning my data was deleting some of my users and reviews\n",
    "    - Some of the reviews belonged to hostels that No longer exist\n",
    "    - Also the reviews that weren't in english had to be deleted\n",
    "    - Deleting those reveiws left some userse who no longer had reviews\n",
    "- I removed odd spacing and html tags\n",
    "- seperated about_user, date, and location columns\n",
    "- Created hostel and country IDs\n",
    "- to view code\n",
    "    - https://github.com/caitlinmowdy/DSI-SF-2-caitlinmowdy/blob/master/capstone-hostelworld/code/Clean%20Data.ipynb"
   ]
  },
  {
   "cell_type": "markdown",
   "metadata": {},
   "source": [
    "## EDA\n",
    "### Reviews\n",
    "- What countries are recieving the most reviews \n",
    "    - Italy, Spain, England\n",
    "- mean scores of reviews by country\n",
    "    - Tunisia, Antigua, San Marino\n",
    "- number of reviews by Month\n",
    "    - Jan, Dec, and July are the Months with the highest reviews\n",
    "- distribution of review scores\n",
    "    - Found that most reviews are positive\n",
    "\n",
    "### Users \n",
    "- What countries are most users from\n",
    "    - USA, England, Australia\n",
    "- In countries do users leave the most reviews\n",
    "    - Looked at mean(num_revs) grouped by country\n",
    "    - Bouvet Island, Poland, and Pakistan\n",
    "- What are the most poplular travel group types\n",
    "    - male, female, couple\n",
    "- What are the most common age groups\n",
    "    - not specified was most common by far, second was 25-30, then 18-24 was third\n",
    "- histogram of number of reviews by user\n",
    "    - most users leave 1 or 2 reviews\n",
    "    \n",
    "### Hostels\n",
    "- histogram of hostel scores\n",
    "    - most hostels have a score between 8 and 9.5\n",
    "- What countries have the most hostels\n",
    "    - Italy, Spain, Australia\n",
    "    \n",
    "- to view code\n",
    "    - https://github.com/caitlinmowdy/DSI-SF-2-caitlinmowdy/blob/master/capstone-hostelworld/code/eda.ipynb"
   ]
  },
  {
   "cell_type": "markdown",
   "metadata": {},
   "source": [
    "## Topic Modeling\n",
    "- I decided to use topic modeling on both my reviews and hostel descriptions. For both of them I created 10 topics and found the topic probabilities for every review and hostel description.\n",
    "- To view code "
   ]
  },
  {
   "cell_type": "markdown",
   "metadata": {},
   "source": [
    "- Once I had the topic probabilities I edited some of my hostel features to fit a regression for hostel scores. I eventually gave up on fitting a regression model for hostel ratings and review scores. The correlation matrix in my code help explain why my regression scores were so low. "
   ]
  },
  {
   "cell_type": "markdown",
   "metadata": {},
   "source": [
    "## Hostel and User Distance\n",
    "- I used jaccard distance for finding the distances between hostels and users. \n",
    " - len( intersection of setA and setB) divided by len( union of setA and setA)\n",
    "- To use jaccard distance I first had to change my user and hostel information into sets."
   ]
  },
  {
   "cell_type": "markdown",
   "metadata": {
    "collapsed": true
   },
   "source": [
    "### User Distance \n",
    "- I created a distance function for users that would take a given user and find the distance between that user and every other user. It returns the users closest to the given users and lists of hostels those users have rated highly."
   ]
  },
  {
   "cell_type": "code",
   "execution_count": 21,
   "metadata": {
    "collapsed": true
   },
   "outputs": [],
   "source": [
    "def j_user_dist(user):\n",
    "    distance = []\n",
    "    users1 = []\n",
    "    hostels = []\n",
    "    user_a = set(user_dist ['user_stuff'][user_dist.user_id == user].values[0].replace('[','').replace(']','').split(', '))\n",
    "    \n",
    "    for i,id in enumerate(user_dist.user_id):\n",
    "        user_b = set(user_dist.user_stuff[i].replace('[','').replace(']','').split(', '))\n",
    "        numerator = len(user_a.intersection(user_b)) * 1.0\n",
    "        denominator = len(user_a.union(user_b)) * 1.0\n",
    "        distance.append(numerator / denominator)\n",
    "        users1.append(id)\n",
    "        hostels.append(user_dist['hsts_liked'][i])\n",
    "    distances = pd.DataFrame()\n",
    "    distances['users'] = users1\n",
    "    distances['distances']=distance\n",
    "    distances['hostels'] = hostels\n",
    "    return distances.sort_values('distances', ascending = False)[1:4]"
   ]
  },
  {
   "cell_type": "markdown",
   "metadata": {},
   "source": [
    "### Hostel Distance\n",
    "- The function for finding hostel distance is very similar to the function for user distance. It takes in a given hostel and a list of hostels, and finds the distance between the first hostel and every hostel in that list. It returns the hotels closest to the first hostel and links to them."
   ]
  },
  {
   "cell_type": "code",
   "execution_count": 22,
   "metadata": {
    "collapsed": true
   },
   "outputs": [],
   "source": [
    "def j_hostel_dist(hst,hostel_list):\n",
    "    distance = []\n",
    "    hostels1 = []\n",
    "    links = []\n",
    "    distances = pd.DataFrame()\n",
    "    \n",
    "    hostel_a = set(hostel_dist['hostel_info'][hostel_dist.hostel == hst].values[0].split(', '))\n",
    "    \n",
    "    for h in hostel_list:\n",
    "        \n",
    "        hostel_b = set(hostel_dist['hostel_info'][hostel_dist['hostel']==h].values[0].split(', '))\n",
    "        \n",
    "        numerator = len(hostel_a.intersection(hostel_b)) * 1.0 \n",
    "        denominator = len(hostel_a.union(hostel_b)) * 1.0\n",
    "        distance.append(numerator / denominator)\n",
    "        \n",
    "        hostels1.append(h)\n",
    "        links.append(hostel_dist['link'][hostel_dist['hostel']==h].values[0])\n",
    "        \n",
    "    distances['hostel'] = hostels1\n",
    "    distances['distances']=distance\n",
    "    distances['link'] = links\n",
    "    \n",
    "    return distances.sort_values('distances', ascending = False)[:1]"
   ]
  },
  {
   "cell_type": "markdown",
   "metadata": {},
   "source": [
    "## Hostel Recomendations\n",
    "- Using the hostel distance and user distance functions I made a function that would give hostel recommendations for a given user. The function first uses the user distance function to find the users closest to the given users. It collects the hostels the  given user has rated highly, and the hostels the closest users have rated. The function then takes every hostel the given user has rated highly and compares it to the list of hostels the best matched users have rated highly using the hostel distance function. It then returns a list of recommended hotels and links to those hostels"
   ]
  },
  {
   "cell_type": "code",
   "execution_count": 23,
   "metadata": {
    "collapsed": true
   },
   "outputs": [],
   "source": [
    "def hostel_rec(user):\n",
    "    rec = pd.DataFrame()\n",
    "    \n",
    "    h_list = []\n",
    "    for h in list(j_user_dist(user)['hostels'].values):\n",
    "        for H in h.replace('[','').replace(']','').split(', '):\n",
    "            if H != '':\n",
    "                h_list.append(H)\n",
    "            \n",
    "    users_hsts = [h.replace('[','').replace(']','')\n",
    "                 for h in user_dist['hsts_liked'][user_dist['user_id']==user].values[0].split(', ')]\n",
    "    \n",
    "    for hst in users_hsts:\n",
    "        rec = rec.append(j_hostel_dist(hst,h_list),ignore_index=True)\n",
    "        \n",
    "    rec['user_hostel'] = users_hsts\n",
    "    return rec[['user_hostel','hostel','distances','link']]"
   ]
  },
  {
   "cell_type": "code",
   "execution_count": 24,
   "metadata": {
    "collapsed": false
   },
   "outputs": [
    {
     "data": {
      "text/html": [
       "<div>\n",
       "<table border=\"1\" class=\"dataframe\">\n",
       "  <thead>\n",
       "    <tr style=\"text-align: right;\">\n",
       "      <th></th>\n",
       "      <th>user_hostel</th>\n",
       "      <th>hostel</th>\n",
       "      <th>distances</th>\n",
       "      <th>link</th>\n",
       "    </tr>\n",
       "  </thead>\n",
       "  <tbody>\n",
       "    <tr>\n",
       "      <th>0</th>\n",
       "      <td>Bed &amp; Bike Barcelona</td>\n",
       "      <td>Way Hostel</td>\n",
       "      <td>0.530612</td>\n",
       "      <td>http://www.hostelworld.com/hosteldetails.php/W...</td>\n",
       "    </tr>\n",
       "    <tr>\n",
       "      <th>1</th>\n",
       "      <td>B&amp;B Giovy</td>\n",
       "      <td>Hostal Andalucia</td>\n",
       "      <td>0.375000</td>\n",
       "      <td>http://www.hostelworld.com/hosteldetails.php/H...</td>\n",
       "    </tr>\n",
       "    <tr>\n",
       "      <th>2</th>\n",
       "      <td>CroParadise Green Hostel</td>\n",
       "      <td>Way Hostel</td>\n",
       "      <td>0.418182</td>\n",
       "      <td>http://www.hostelworld.com/hosteldetails.php/W...</td>\n",
       "    </tr>\n",
       "    <tr>\n",
       "      <th>3</th>\n",
       "      <td>B&amp;B Giovy</td>\n",
       "      <td>Hostal Andalucia</td>\n",
       "      <td>0.375000</td>\n",
       "      <td>http://www.hostelworld.com/hosteldetails.php/H...</td>\n",
       "    </tr>\n",
       "  </tbody>\n",
       "</table>\n",
       "</div>"
      ],
      "text/plain": [
       "                user_hostel            hostel  distances  \\\n",
       "0      Bed & Bike Barcelona        Way Hostel   0.530612   \n",
       "1                 B&B Giovy  Hostal Andalucia   0.375000   \n",
       "2  CroParadise Green Hostel        Way Hostel   0.418182   \n",
       "3                 B&B Giovy  Hostal Andalucia   0.375000   \n",
       "\n",
       "                                                link  \n",
       "0  http://www.hostelworld.com/hosteldetails.php/W...  \n",
       "1  http://www.hostelworld.com/hosteldetails.php/H...  \n",
       "2  http://www.hostelworld.com/hosteldetails.php/W...  \n",
       "3  http://www.hostelworld.com/hosteldetails.php/H...  "
      ]
     },
     "execution_count": 24,
     "metadata": {},
     "output_type": "execute_result"
    }
   ],
   "source": [
    "hostel_rec(3298399)"
   ]
  },
  {
   "cell_type": "code",
   "execution_count": null,
   "metadata": {
    "collapsed": true
   },
   "outputs": [],
   "source": []
  }
 ],
 "metadata": {
  "anaconda-cloud": {},
  "kernelspec": {
   "display_name": "Python [dsi]",
   "language": "python",
   "name": "Python [dsi]"
  },
  "language_info": {
   "codemirror_mode": {
    "name": "ipython",
    "version": 2
   },
   "file_extension": ".py",
   "mimetype": "text/x-python",
   "name": "python",
   "nbconvert_exporter": "python",
   "pygments_lexer": "ipython2",
   "version": "2.7.12"
  }
 },
 "nbformat": 4,
 "nbformat_minor": 0
}

{
 "cells": [
  {
   "cell_type": "code",
   "execution_count": null,
   "metadata": {
    "collapsed": true
   },
   "outputs": [],
   "source": [
    "# extras from revs:\n",
    "#score breakdown, \n",
    "scores = //li[@class='ratinglist']/ul[@class='ratingbreakdown no-bullet']//span/text()\n",
    "# rev date\n",
    "date = //span[@class='reviewdate']/text()\n",
    "\n",
    "# extras from hostels \n",
    "review caps\n",
    "//div[@class='small-12 medium-4 large-3 columns hide-for-small']/div/ul/li/span[@class='ratingfactorlabel']/text()\n",
    "#num of reviews \n",
    "//div[@class='microsite_rating clearfix']/div/span[@class='reviews-count']/text()\n",
    ".split(\" \")[0]\n",
    "# num of awards\n",
    "//ul[@class='small-block-grid-1 medium-block-grid-2 large-block-grid-3']/li/b/text()\n",
    "len()"
   ]
  },
  {
   "cell_type": "code",
   "execution_count": null,
   "metadata": {
    "collapsed": true
   },
   "outputs": [],
   "source": [
    "http://www.hostelworld.com/search?search_keywords=Budapest%2C+Hungary&country=Hungary&city=Budapest&date_from=2017-01-11&date_to=2017-01-12&number_of_guests=1&sort=price&prevSort=price"
   ]
  }
 ],
 "metadata": {
  "anaconda-cloud": {},
  "kernelspec": {
   "display_name": "Python [dsi]",
   "language": "python",
   "name": "Python [dsi]"
  },
  "language_info": {
   "codemirror_mode": {
    "name": "ipython",
    "version": 2
   },
   "file_extension": ".py",
   "mimetype": "text/x-python",
   "name": "python",
   "nbconvert_exporter": "python",
   "pygments_lexer": "ipython2",
   "version": "2.7.12"
  }
 },
 "nbformat": 4,
 "nbformat_minor": 0
}

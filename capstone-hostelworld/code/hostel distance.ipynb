{
 "cells": [
  {
   "cell_type": "code",
   "execution_count": 1,
   "metadata": {
    "collapsed": true
   },
   "outputs": [],
   "source": [
    "import numpy as np\n",
    "import scipy \n",
    "import seaborn as sns\n",
    "import pandas as pd\n",
    "import sys"
   ]
  },
  {
   "cell_type": "code",
   "execution_count": 4,
   "metadata": {
    "collapsed": false
   },
   "outputs": [
    {
     "data": {
      "text/html": [
       "<div>\n",
       "<table border=\"1\" class=\"dataframe\">\n",
       "  <thead>\n",
       "    <tr style=\"text-align: right;\">\n",
       "      <th></th>\n",
       "      <th>rating</th>\n",
       "      <th>desc</th>\n",
       "      <th>FREE</th>\n",
       "      <th>GENERAL</th>\n",
       "      <th>SERVICES</th>\n",
       "      <th>FOOD_DRINK</th>\n",
       "      <th>ENTERTAINMENT</th>\n",
       "      <th>POLICIES</th>\n",
       "      <th>hostel</th>\n",
       "      <th>location</th>\n",
       "      <th>...</th>\n",
       "      <th>H_t2</th>\n",
       "      <th>H_t3</th>\n",
       "      <th>H_t4</th>\n",
       "      <th>H_t5</th>\n",
       "      <th>H_t6</th>\n",
       "      <th>H_t7</th>\n",
       "      <th>H_t8</th>\n",
       "      <th>H_t9</th>\n",
       "      <th>H_t10</th>\n",
       "      <th>max_prob</th>\n",
       "    </tr>\n",
       "  </thead>\n",
       "  <tbody>\n",
       "    <tr>\n",
       "      <th>0</th>\n",
       "      <td>2.0</td>\n",
       "      <td>[stay with us near to the city center of budap...</td>\n",
       "      <td>[Linen Included , Free City Maps , Towels Incl...</td>\n",
       "      <td>[Breakfast Not Included, Air Conditioning, Out...</td>\n",
       "      <td>[Airport Transfers, Bicycle Hire, Luggage Stor...</td>\n",
       "      <td>[Restaurant, Meals Available, ]</td>\n",
       "      <td>[Wi-Fi, ]</td>\n",
       "      <td>[]</td>\n",
       "      <td>Fortuna Botel</td>\n",
       "      <td>Budapest, Hungary</td>\n",
       "      <td>...</td>\n",
       "      <td>0.986955</td>\n",
       "      <td>0.0</td>\n",
       "      <td>0.0</td>\n",
       "      <td>0.0</td>\n",
       "      <td>0.0</td>\n",
       "      <td>0.0</td>\n",
       "      <td>0.0</td>\n",
       "      <td>0.0</td>\n",
       "      <td>0.000000</td>\n",
       "      <td>0.986955</td>\n",
       "    </tr>\n",
       "    <tr>\n",
       "      <th>1</th>\n",
       "      <td>7.5</td>\n",
       "      <td>[the equity point sea is a lively hostel locat...</td>\n",
       "      <td>[Free Breakfast , Free Internet Access ]</td>\n",
       "      <td>[Wheelchair Friendly, Security Lockers, Common...</td>\n",
       "      <td>[Luggage Storage, 24 Hour Reception, Tours/Tra...</td>\n",
       "      <td>[Restaurant, Bar, ]</td>\n",
       "      <td>[Games Room, ]</td>\n",
       "      <td>[Age Restriction, Credit Cards Accepted, No Cu...</td>\n",
       "      <td>Equity Point Sea</td>\n",
       "      <td>Barcelona, Spain</td>\n",
       "      <td>...</td>\n",
       "      <td>0.000000</td>\n",
       "      <td>0.0</td>\n",
       "      <td>0.0</td>\n",
       "      <td>0.0</td>\n",
       "      <td>0.0</td>\n",
       "      <td>0.0</td>\n",
       "      <td>0.0</td>\n",
       "      <td>0.0</td>\n",
       "      <td>0.994193</td>\n",
       "      <td>0.994193</td>\n",
       "    </tr>\n",
       "  </tbody>\n",
       "</table>\n",
       "<p>2 rows × 33 columns</p>\n",
       "</div>"
      ],
      "text/plain": [
       "   rating                                               desc  \\\n",
       "0     2.0  [stay with us near to the city center of budap...   \n",
       "1     7.5  [the equity point sea is a lively hostel locat...   \n",
       "\n",
       "                                                FREE  \\\n",
       "0  [Linen Included , Free City Maps , Towels Incl...   \n",
       "1           [Free Breakfast , Free Internet Access ]   \n",
       "\n",
       "                                             GENERAL  \\\n",
       "0  [Breakfast Not Included, Air Conditioning, Out...   \n",
       "1  [Wheelchair Friendly, Security Lockers, Common...   \n",
       "\n",
       "                                            SERVICES  \\\n",
       "0  [Airport Transfers, Bicycle Hire, Luggage Stor...   \n",
       "1  [Luggage Storage, 24 Hour Reception, Tours/Tra...   \n",
       "\n",
       "                        FOOD_DRINK   ENTERTAINMENT  \\\n",
       "0  [Restaurant, Meals Available, ]       [Wi-Fi, ]   \n",
       "1              [Restaurant, Bar, ]  [Games Room, ]   \n",
       "\n",
       "                                            POLICIES            hostel  \\\n",
       "0                                                 []     Fortuna Botel   \n",
       "1  [Age Restriction, Credit Cards Accepted, No Cu...  Equity Point Sea   \n",
       "\n",
       "            location    ...         H_t2 H_t3 H_t4 H_t5  H_t6  H_t7  H_t8  \\\n",
       "0  Budapest, Hungary    ...     0.986955  0.0  0.0  0.0   0.0   0.0   0.0   \n",
       "1   Barcelona, Spain    ...     0.000000  0.0  0.0  0.0   0.0   0.0   0.0   \n",
       "\n",
       "   H_t9     H_t10  max_prob  \n",
       "0   0.0  0.000000  0.986955  \n",
       "1   0.0  0.994193  0.994193  \n",
       "\n",
       "[2 rows x 33 columns]"
      ]
     },
     "execution_count": 4,
     "metadata": {},
     "output_type": "execute_result"
    }
   ],
   "source": [
    "# import hostel data\n",
    "hostel_rev = pd.read_csv('/Users/caitlinmowdy/Desktop/DSI-SF-2-caitlinmowdy/capstone-hostelworld/clean-data/hostel_revs_oct9.csv')\n",
    "del hostel_rev['Unnamed: 0']\n",
    "del hostel_rev['Unnamed: 0.1']\n",
    "hostel_rev.head(2)"
   ]
  },
  {
   "cell_type": "code",
   "execution_count": 7,
   "metadata": {
    "collapsed": false
   },
   "outputs": [
    {
     "data": {
      "text/html": [
       "<div>\n",
       "<table border=\"1\" class=\"dataframe\">\n",
       "  <thead>\n",
       "    <tr style=\"text-align: right;\">\n",
       "      <th></th>\n",
       "      <th>rating</th>\n",
       "      <th>desc</th>\n",
       "      <th>FREE</th>\n",
       "      <th>GENERAL</th>\n",
       "      <th>SERVICES</th>\n",
       "      <th>FOOD_DRINK</th>\n",
       "      <th>ENTERTAINMENT</th>\n",
       "      <th>POLICIES</th>\n",
       "      <th>hostel</th>\n",
       "      <th>location</th>\n",
       "      <th>...</th>\n",
       "      <th>H_t3</th>\n",
       "      <th>H_t4</th>\n",
       "      <th>H_t5</th>\n",
       "      <th>H_t6</th>\n",
       "      <th>H_t7</th>\n",
       "      <th>H_t8</th>\n",
       "      <th>H_t9</th>\n",
       "      <th>H_t10</th>\n",
       "      <th>max_prob</th>\n",
       "      <th>topics</th>\n",
       "    </tr>\n",
       "  </thead>\n",
       "  <tbody>\n",
       "    <tr>\n",
       "      <th>0</th>\n",
       "      <td>2.0</td>\n",
       "      <td>[stay with us near to the city center of budap...</td>\n",
       "      <td>[Linen Included , Free City Maps , Towels Incl...</td>\n",
       "      <td>[Breakfast Not Included, Air Conditioning, Out...</td>\n",
       "      <td>[Airport Transfers, Bicycle Hire, Luggage Stor...</td>\n",
       "      <td>[Restaurant, Meals Available, ]</td>\n",
       "      <td>[Wi-Fi, ]</td>\n",
       "      <td>[]</td>\n",
       "      <td>Fortuna Botel</td>\n",
       "      <td>Budapest, Hungary</td>\n",
       "      <td>...</td>\n",
       "      <td>0.0</td>\n",
       "      <td>0.0</td>\n",
       "      <td>0.0</td>\n",
       "      <td>0.0</td>\n",
       "      <td>0.0</td>\n",
       "      <td>0.0</td>\n",
       "      <td>0.0</td>\n",
       "      <td>0.000000</td>\n",
       "      <td>0.986955</td>\n",
       "      <td>[H_t2]</td>\n",
       "    </tr>\n",
       "    <tr>\n",
       "      <th>1</th>\n",
       "      <td>7.5</td>\n",
       "      <td>[the equity point sea is a lively hostel locat...</td>\n",
       "      <td>[Free Breakfast , Free Internet Access ]</td>\n",
       "      <td>[Wheelchair Friendly, Security Lockers, Common...</td>\n",
       "      <td>[Luggage Storage, 24 Hour Reception, Tours/Tra...</td>\n",
       "      <td>[Restaurant, Bar, ]</td>\n",
       "      <td>[Games Room, ]</td>\n",
       "      <td>[Age Restriction, Credit Cards Accepted, No Cu...</td>\n",
       "      <td>Equity Point Sea</td>\n",
       "      <td>Barcelona, Spain</td>\n",
       "      <td>...</td>\n",
       "      <td>0.0</td>\n",
       "      <td>0.0</td>\n",
       "      <td>0.0</td>\n",
       "      <td>0.0</td>\n",
       "      <td>0.0</td>\n",
       "      <td>0.0</td>\n",
       "      <td>0.0</td>\n",
       "      <td>0.994193</td>\n",
       "      <td>0.994193</td>\n",
       "      <td>[H_t10]</td>\n",
       "    </tr>\n",
       "  </tbody>\n",
       "</table>\n",
       "<p>2 rows × 34 columns</p>\n",
       "</div>"
      ],
      "text/plain": [
       "   rating                                               desc  \\\n",
       "0     2.0  [stay with us near to the city center of budap...   \n",
       "1     7.5  [the equity point sea is a lively hostel locat...   \n",
       "\n",
       "                                                FREE  \\\n",
       "0  [Linen Included , Free City Maps , Towels Incl...   \n",
       "1           [Free Breakfast , Free Internet Access ]   \n",
       "\n",
       "                                             GENERAL  \\\n",
       "0  [Breakfast Not Included, Air Conditioning, Out...   \n",
       "1  [Wheelchair Friendly, Security Lockers, Common...   \n",
       "\n",
       "                                            SERVICES  \\\n",
       "0  [Airport Transfers, Bicycle Hire, Luggage Stor...   \n",
       "1  [Luggage Storage, 24 Hour Reception, Tours/Tra...   \n",
       "\n",
       "                        FOOD_DRINK   ENTERTAINMENT  \\\n",
       "0  [Restaurant, Meals Available, ]       [Wi-Fi, ]   \n",
       "1              [Restaurant, Bar, ]  [Games Room, ]   \n",
       "\n",
       "                                            POLICIES            hostel  \\\n",
       "0                                                 []     Fortuna Botel   \n",
       "1  [Age Restriction, Credit Cards Accepted, No Cu...  Equity Point Sea   \n",
       "\n",
       "            location   ...     H_t3 H_t4 H_t5 H_t6  H_t7  H_t8  H_t9  \\\n",
       "0  Budapest, Hungary   ...      0.0  0.0  0.0  0.0   0.0   0.0   0.0   \n",
       "1   Barcelona, Spain   ...      0.0  0.0  0.0  0.0   0.0   0.0   0.0   \n",
       "\n",
       "      H_t10  max_prob   topics  \n",
       "0  0.000000  0.986955   [H_t2]  \n",
       "1  0.994193  0.994193  [H_t10]  \n",
       "\n",
       "[2 rows x 34 columns]"
      ]
     },
     "execution_count": 7,
     "metadata": {},
     "output_type": "execute_result"
    }
   ],
   "source": [
    "# make a list of topics hostels have a high prob in \n",
    "top_topics = []\n",
    "for i,u in enumerate(hostel_rev['hostel']):\n",
    "    topics = []\n",
    "    if hostel_rev['H_t1'][i] >= 0.7:\n",
    "        topics.append('H_t1')\n",
    "    if hostel_rev['H_t2'][i] >= .7:\n",
    "        topics.append('H_t2')\n",
    "    if hostel_rev['H_t3'][i] >=.7:\n",
    "        topics.append('H_t3')\n",
    "    if hostel_rev['H_t4'][i] >=.7:\n",
    "        topics.append('H_t4')\n",
    "    if hostel_rev['H_t5'][i] >=.7:\n",
    "        topics.append('H_t5')\n",
    "    if hostel_rev['H_t6'][i] >=.7:\n",
    "        topics.append('H_t6')\n",
    "    if hostel_rev['H_t7'][i] >=.7:\n",
    "        topics.append('H_t7')\n",
    "    if hostel_rev['H_t8'][i] >=.7:\n",
    "        topics.append('H_t8')\n",
    "    if hostel_rev['H_t9'][i] >=.7:\n",
    "        topics.append('H_t9')\n",
    "    if hostel_rev['H_t10'][i] >=.7:\n",
    "        topics.append('H_t10')\n",
    "    top_topics.append(topics)\n",
    "    \n",
    "hostel_rev['topics'] = top_topics\n",
    "hostel_rev.head(2)"
   ]
  },
  {
   "cell_type": "code",
   "execution_count": 11,
   "metadata": {
    "collapsed": false
   },
   "outputs": [
    {
     "data": {
      "text/html": [
       "<div>\n",
       "<table border=\"1\" class=\"dataframe\">\n",
       "  <thead>\n",
       "    <tr style=\"text-align: right;\">\n",
       "      <th></th>\n",
       "      <th>rating</th>\n",
       "      <th>desc</th>\n",
       "      <th>FREE</th>\n",
       "      <th>GENERAL</th>\n",
       "      <th>SERVICES</th>\n",
       "      <th>FOOD_DRINK</th>\n",
       "      <th>ENTERTAINMENT</th>\n",
       "      <th>POLICIES</th>\n",
       "      <th>hostel</th>\n",
       "      <th>location</th>\n",
       "      <th>...</th>\n",
       "      <th>H_t3</th>\n",
       "      <th>H_t4</th>\n",
       "      <th>H_t5</th>\n",
       "      <th>H_t6</th>\n",
       "      <th>H_t7</th>\n",
       "      <th>H_t8</th>\n",
       "      <th>H_t9</th>\n",
       "      <th>H_t10</th>\n",
       "      <th>max_prob</th>\n",
       "      <th>topics</th>\n",
       "    </tr>\n",
       "  </thead>\n",
       "  <tbody>\n",
       "    <tr>\n",
       "      <th>0</th>\n",
       "      <td>&lt;5</td>\n",
       "      <td>[stay with us near to the city center of budap...</td>\n",
       "      <td>[Linen Included , Free City Maps , Towels Incl...</td>\n",
       "      <td>[Breakfast Not Included, Air Conditioning, Out...</td>\n",
       "      <td>[Airport Transfers, Bicycle Hire, Luggage Stor...</td>\n",
       "      <td>[Restaurant, Meals Available, ]</td>\n",
       "      <td>[Wi-Fi, ]</td>\n",
       "      <td>[]</td>\n",
       "      <td>Fortuna Botel</td>\n",
       "      <td>Budapest, Hungary</td>\n",
       "      <td>...</td>\n",
       "      <td>0.0</td>\n",
       "      <td>0.0</td>\n",
       "      <td>0.0</td>\n",
       "      <td>0.0</td>\n",
       "      <td>0.0</td>\n",
       "      <td>0.0</td>\n",
       "      <td>0.0</td>\n",
       "      <td>0.000000</td>\n",
       "      <td>0.986955</td>\n",
       "      <td>[H_t2]</td>\n",
       "    </tr>\n",
       "    <tr>\n",
       "      <th>1</th>\n",
       "      <td>7-8.5</td>\n",
       "      <td>[the equity point sea is a lively hostel locat...</td>\n",
       "      <td>[Free Breakfast , Free Internet Access ]</td>\n",
       "      <td>[Wheelchair Friendly, Security Lockers, Common...</td>\n",
       "      <td>[Luggage Storage, 24 Hour Reception, Tours/Tra...</td>\n",
       "      <td>[Restaurant, Bar, ]</td>\n",
       "      <td>[Games Room, ]</td>\n",
       "      <td>[Age Restriction, Credit Cards Accepted, No Cu...</td>\n",
       "      <td>Equity Point Sea</td>\n",
       "      <td>Barcelona, Spain</td>\n",
       "      <td>...</td>\n",
       "      <td>0.0</td>\n",
       "      <td>0.0</td>\n",
       "      <td>0.0</td>\n",
       "      <td>0.0</td>\n",
       "      <td>0.0</td>\n",
       "      <td>0.0</td>\n",
       "      <td>0.0</td>\n",
       "      <td>0.994193</td>\n",
       "      <td>0.994193</td>\n",
       "      <td>[H_t10]</td>\n",
       "    </tr>\n",
       "  </tbody>\n",
       "</table>\n",
       "<p>2 rows × 34 columns</p>\n",
       "</div>"
      ],
      "text/plain": [
       "  rating                                               desc  \\\n",
       "0     <5  [stay with us near to the city center of budap...   \n",
       "1  7-8.5  [the equity point sea is a lively hostel locat...   \n",
       "\n",
       "                                                FREE  \\\n",
       "0  [Linen Included , Free City Maps , Towels Incl...   \n",
       "1           [Free Breakfast , Free Internet Access ]   \n",
       "\n",
       "                                             GENERAL  \\\n",
       "0  [Breakfast Not Included, Air Conditioning, Out...   \n",
       "1  [Wheelchair Friendly, Security Lockers, Common...   \n",
       "\n",
       "                                            SERVICES  \\\n",
       "0  [Airport Transfers, Bicycle Hire, Luggage Stor...   \n",
       "1  [Luggage Storage, 24 Hour Reception, Tours/Tra...   \n",
       "\n",
       "                        FOOD_DRINK   ENTERTAINMENT  \\\n",
       "0  [Restaurant, Meals Available, ]       [Wi-Fi, ]   \n",
       "1              [Restaurant, Bar, ]  [Games Room, ]   \n",
       "\n",
       "                                            POLICIES            hostel  \\\n",
       "0                                                 []     Fortuna Botel   \n",
       "1  [Age Restriction, Credit Cards Accepted, No Cu...  Equity Point Sea   \n",
       "\n",
       "            location   ...     H_t3 H_t4 H_t5 H_t6  H_t7  H_t8  H_t9  \\\n",
       "0  Budapest, Hungary   ...      0.0  0.0  0.0  0.0   0.0   0.0   0.0   \n",
       "1   Barcelona, Spain   ...      0.0  0.0  0.0  0.0   0.0   0.0   0.0   \n",
       "\n",
       "      H_t10  max_prob   topics  \n",
       "0  0.000000  0.986955   [H_t2]  \n",
       "1  0.994193  0.994193  [H_t10]  \n",
       "\n",
       "[2 rows x 34 columns]"
      ]
     },
     "execution_count": 11,
     "metadata": {},
     "output_type": "execute_result"
    }
   ],
   "source": [
    "# put rating in groups\n",
    "def score(value):\n",
    "    if value >8.5:\n",
    "        return '>8.5'\n",
    "    elif value > 7:\n",
    "        return '7-8.5'\n",
    "    elif value >5:\n",
    "        return '5-7'\n",
    "    else:\n",
    "        return '<5'\n",
    "\n",
    "hostel_rev['rating'] = hostel_rev['rating'].map(score)\n",
    "hostel_rev.head(2)"
   ]
  },
  {
   "cell_type": "code",
   "execution_count": 12,
   "metadata": {
    "collapsed": false
   },
   "outputs": [
    {
     "data": {
      "text/plain": [
       "array(['rating', 'desc', 'FREE', 'GENERAL', 'SERVICES', 'FOOD_DRINK',\n",
       "       'ENTERTAINMENT', 'POLICIES', 'hostel', 'location', 'num_awards',\n",
       "       'rev_highlights', 'country', 'city', 'hostel_id', 'country_id',\n",
       "       'num_free', 'num_serv', 'num_food', 'num_ent', 'num_poli',\n",
       "       'num_highlights', 'H_t1', 'H_t2', 'H_t3', 'H_t4', 'H_t5', 'H_t6',\n",
       "       'H_t7', 'H_t8', 'H_t9', 'H_t10', 'max_prob', 'topics'], dtype=object)"
      ]
     },
     "execution_count": 12,
     "metadata": {},
     "output_type": "execute_result"
    }
   ],
   "source": [
    "hostel_rev.columns.values"
   ]
  },
  {
   "cell_type": "code",
   "execution_count": 22,
   "metadata": {
    "collapsed": true
   },
   "outputs": [],
   "source": [
    "hostels_rev2 = hostel_rev[['hostel','rating', 'FREE', 'GENERAL', 'SERVICES', 'FOOD_DRINK',\n",
    "       'ENTERTAINMENT', 'POLICIES', 'location', 'num_awards',\n",
    "       'rev_highlights', 'country', 'city', 'topics']]"
   ]
  },
  {
   "cell_type": "code",
   "execution_count": 24,
   "metadata": {
    "collapsed": false
   },
   "outputs": [],
   "source": [
    "# add awards to hostel num awards values\n",
    "def numA(value):\n",
    "    return 'Awards:'+ str(value)\n",
    "\n",
    "hostels_rev2['num_awards'] = hostels_rev2['num_awards'].map(numA)"
   ]
  },
  {
   "cell_type": "code",
   "execution_count": 92,
   "metadata": {
    "collapsed": false
   },
   "outputs": [],
   "source": [
    "# create lists of hostel informaion\n",
    "hostel_info = []\n",
    "for i,h in enumerate(hostels_rev2['hostel']):\n",
    "    h_info = []\n",
    "    h_info.append(hostels_rev2['rating'][i])\n",
    "    h_info.append(hostels_rev2['num_awards'][i])\n",
    "    h_info.append(hostels_rev2['country'][i])\n",
    "    h_info.append(hostels_rev2['city'][i])    \n",
    "    for f in hostels_rev2['FREE'][i].split(' , '):\n",
    "        h_info.append(f.replace('[','').replace(']',''))\n",
    "    for g in hostels_rev2['GENERAL'][i].split(', ')[:-1]:\n",
    "        h_info.append(g.replace('[','').replace(']',''))\n",
    "    for s in hostels_rev2['SERVICES'][i].split(', ')[:-1]:\n",
    "        h_info.append(s.replace('[','').replace(']','')) \n",
    "    for f in hostels_rev2['FOOD_DRINK'][i].split(', ')[:-1]:\n",
    "        h_info.append(f.replace('[','').replace(']',''))\n",
    "    for e in hostels_rev2['ENTERTAINMENT'][i].split(', ')[:-1]:\n",
    "        h_info.append(e.replace('[','').replace(']',''))\n",
    "    for p in hostels_rev2['POLICIES'][i].split(', '):\n",
    "        if p != '':\n",
    "            h_info.append(p.replace('[','').replace(']','').replace(',',''))\n",
    "    for t in hostels_rev2['topics'][i]:\n",
    "        h_info.append(t)\n",
    "    hostel_info.append(h_info)"
   ]
  },
  {
   "cell_type": "code",
   "execution_count": 94,
   "metadata": {
    "collapsed": false
   },
   "outputs": [],
   "source": [
    "hostels_rev2['hostel_info'] = hostel_info"
   ]
  },
  {
   "cell_type": "code",
   "execution_count": 115,
   "metadata": {
    "collapsed": false
   },
   "outputs": [],
   "source": [
    "hostels = hostels_rev2[['hostel','hostel_info']]"
   ]
  },
  {
   "cell_type": "code",
   "execution_count": 99,
   "metadata": {
    "collapsed": false
   },
   "outputs": [],
   "source": [
    "# import rev data\n",
    "rev_df = pd.read_csv('/Users/caitlinmowdy/Desktop/DSI-SF-2-caitlinmowdy/capstone-hostelworld/clean-data/clean_revs_oct7.csv')"
   ]
  },
  {
   "cell_type": "code",
   "execution_count": 112,
   "metadata": {
    "collapsed": false
   },
   "outputs": [],
   "source": [
    "hos_links = rev_df.groupby(['hostel'])[['link']].max().reset_index()"
   ]
  },
  {
   "cell_type": "code",
   "execution_count": 117,
   "metadata": {
    "collapsed": false
   },
   "outputs": [
    {
     "data": {
      "text/html": [
       "<div>\n",
       "<table border=\"1\" class=\"dataframe\">\n",
       "  <thead>\n",
       "    <tr style=\"text-align: right;\">\n",
       "      <th></th>\n",
       "      <th>hostel</th>\n",
       "      <th>hostel_info</th>\n",
       "      <th>link</th>\n",
       "    </tr>\n",
       "  </thead>\n",
       "  <tbody>\n",
       "    <tr>\n",
       "      <th>0</th>\n",
       "      <td>Fortuna Botel</td>\n",
       "      <td>[&lt;5, Awards:0, Hungary, Budapest, Linen Includ...</td>\n",
       "      <td>http://www.hostelworld.com/hosteldetails.php/F...</td>\n",
       "    </tr>\n",
       "    <tr>\n",
       "      <th>1</th>\n",
       "      <td>Equity Point Sea</td>\n",
       "      <td>[7-8.5, Awards:0, Spain, Barcelona, Free Break...</td>\n",
       "      <td>http://www.hostelworld.com/hosteldetails.php/E...</td>\n",
       "    </tr>\n",
       "    <tr>\n",
       "      <th>2</th>\n",
       "      <td>The Naughty Squirrel Backpackers Hostel</td>\n",
       "      <td>[&gt;8.5, Awards:16, Latvia, Riga, Linen Included...</td>\n",
       "      <td>http://www.hostelworld.com/hosteldetails.php/T...</td>\n",
       "    </tr>\n",
       "  </tbody>\n",
       "</table>\n",
       "</div>"
      ],
      "text/plain": [
       "                                    hostel  \\\n",
       "0                            Fortuna Botel   \n",
       "1                         Equity Point Sea   \n",
       "2  The Naughty Squirrel Backpackers Hostel   \n",
       "\n",
       "                                         hostel_info  \\\n",
       "0  [<5, Awards:0, Hungary, Budapest, Linen Includ...   \n",
       "1  [7-8.5, Awards:0, Spain, Barcelona, Free Break...   \n",
       "2  [>8.5, Awards:16, Latvia, Riga, Linen Included...   \n",
       "\n",
       "                                                link  \n",
       "0  http://www.hostelworld.com/hosteldetails.php/F...  \n",
       "1  http://www.hostelworld.com/hosteldetails.php/E...  \n",
       "2  http://www.hostelworld.com/hosteldetails.php/T...  "
      ]
     },
     "execution_count": 117,
     "metadata": {},
     "output_type": "execute_result"
    }
   ],
   "source": [
    "# merge hostels and links\n",
    "hostel_dist = pd.merge(hostels, hos_links, on='hostel')\n",
    "hostel_dist.head(3)"
   ]
  },
  {
   "cell_type": "code",
   "execution_count": 121,
   "metadata": {
    "collapsed": true
   },
   "outputs": [],
   "source": [
    "# save data that is used to calculate distance\n",
    "hostel_dist.to_csv(path_or_buf='/Users/caitlinmowdy/Desktop/DSI-SF-2-caitlinmowdy/capstone-hostelworld/clean-data/hostel_dist_oct10.csv',encoding='utf8')"
   ]
  },
  {
   "cell_type": "code",
   "execution_count": 118,
   "metadata": {
    "collapsed": true
   },
   "outputs": [],
   "source": [
    "# function to calculate jaccard distance for hostels \n",
    "def j_dist(hst):\n",
    "    distance = []\n",
    "    hostels1 = []\n",
    "    links = []\n",
    "    hostel_a = set(hostel_dist['hostel_info'][hostel_dist.hostel == hst].values[0])\n",
    "    for i,h in enumerate(hostel_dist.hostel):\n",
    "        hostel_b = set(hostel_dist.hostel_info[i])\n",
    "\n",
    "        numerator = len(hostel_a.intersection(hostel_b)) * 1.0 # * 1.0 to cast as a float\n",
    "        denominator = len(hostel_a.union(hostel_b)) * 1.0\n",
    "        distance.append(numerator / denominator)\n",
    "        hostels1.append(h)\n",
    "        links.append(hostel_dist['link'][i])\n",
    "    distances = pd.DataFrame()\n",
    "    distances['hostel'] = hostels1\n",
    "    distances['distances']=distance\n",
    "    distances['link'] = links\n",
    "    return distances.sort_values('distances', ascending = False)[1:5]"
   ]
  },
  {
   "cell_type": "code",
   "execution_count": 120,
   "metadata": {
    "collapsed": false
   },
   "outputs": [
    {
     "data": {
      "text/html": [
       "<div>\n",
       "<table border=\"1\" class=\"dataframe\">\n",
       "  <thead>\n",
       "    <tr style=\"text-align: right;\">\n",
       "      <th></th>\n",
       "      <th>hostel</th>\n",
       "      <th>distances</th>\n",
       "      <th>link</th>\n",
       "    </tr>\n",
       "  </thead>\n",
       "  <tbody>\n",
       "    <tr>\n",
       "      <th>3383</th>\n",
       "      <td>Perez Montilla</td>\n",
       "      <td>0.472222</td>\n",
       "      <td>http://www.hostelworld.com/hosteldetails.php/P...</td>\n",
       "    </tr>\n",
       "    <tr>\n",
       "      <th>5338</th>\n",
       "      <td>Broadway Hostel &amp; Apartments</td>\n",
       "      <td>0.431818</td>\n",
       "      <td>http://www.hostelworld.com/hosteldetails.php/B...</td>\n",
       "    </tr>\n",
       "    <tr>\n",
       "      <th>2809</th>\n",
       "      <td>Cambodia Backpacker Guesthouse</td>\n",
       "      <td>0.418605</td>\n",
       "      <td>http://www.hostelworld.com/hosteldetails.php/C...</td>\n",
       "    </tr>\n",
       "    <tr>\n",
       "      <th>3262</th>\n",
       "      <td>Douarskoll Guesthouse</td>\n",
       "      <td>0.418605</td>\n",
       "      <td>http://www.hostelworld.com/hosteldetails.php/D...</td>\n",
       "    </tr>\n",
       "  </tbody>\n",
       "</table>\n",
       "</div>"
      ],
      "text/plain": [
       "                              hostel  distances  \\\n",
       "3383                  Perez Montilla   0.472222   \n",
       "5338    Broadway Hostel & Apartments   0.431818   \n",
       "2809  Cambodia Backpacker Guesthouse   0.418605   \n",
       "3262           Douarskoll Guesthouse   0.418605   \n",
       "\n",
       "                                                   link  \n",
       "3383  http://www.hostelworld.com/hosteldetails.php/P...  \n",
       "5338  http://www.hostelworld.com/hosteldetails.php/B...  \n",
       "2809  http://www.hostelworld.com/hosteldetails.php/C...  \n",
       "3262  http://www.hostelworld.com/hosteldetails.php/D...  "
      ]
     },
     "execution_count": 120,
     "metadata": {},
     "output_type": "execute_result"
    }
   ],
   "source": [
    "j_dist('Fortuna Botel')"
   ]
  },
  {
   "cell_type": "code",
   "execution_count": null,
   "metadata": {
    "collapsed": true
   },
   "outputs": [],
   "source": []
  }
 ],
 "metadata": {
  "kernelspec": {
   "display_name": "Python [dsi]",
   "language": "python",
   "name": "Python [dsi]"
  },
  "language_info": {
   "codemirror_mode": {
    "name": "ipython",
    "version": 2
   },
   "file_extension": ".py",
   "mimetype": "text/x-python",
   "name": "python",
   "nbconvert_exporter": "python",
   "pygments_lexer": "ipython2",
   "version": "2.7.12"
  }
 },
 "nbformat": 4,
 "nbformat_minor": 0
}

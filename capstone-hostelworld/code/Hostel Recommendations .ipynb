{
 "cells": [
  {
   "cell_type": "code",
   "execution_count": 188,
   "metadata": {
    "collapsed": true
   },
   "outputs": [],
   "source": [
    "import numpy as np\n",
    "import scipy \n",
    "import seaborn as sns\n",
    "import pandas as pd\n",
    "import sys\n",
    "from IPython.display import display"
   ]
  },
  {
   "cell_type": "code",
   "execution_count": 3,
   "metadata": {
    "collapsed": false
   },
   "outputs": [],
   "source": [
    "# impot hostel and user data for finding distance \n",
    "hostel_dist = pd.read_csv('/Users/caitlinmowdy/Desktop/DSI-SF-2-caitlinmowdy/capstone-hostelworld/clean-data/hostel_dist_oct10.csv')\n",
    "user_dist = pd.read_csv('/Users/caitlinmowdy/Desktop/DSI-SF-2-caitlinmowdy/capstone-hostelworld/clean-data/user_dist_oct10.csv')"
   ]
  },
  {
   "cell_type": "code",
   "execution_count": 262,
   "metadata": {
    "collapsed": false
   },
   "outputs": [
    {
     "data": {
      "text/html": [
       "<div>\n",
       "<table border=\"1\" class=\"dataframe\">\n",
       "  <thead>\n",
       "    <tr style=\"text-align: right;\">\n",
       "      <th></th>\n",
       "      <th>Unnamed: 0</th>\n",
       "      <th>user_id</th>\n",
       "      <th>user_stuff</th>\n",
       "      <th>hsts_liked</th>\n",
       "    </tr>\n",
       "  </thead>\n",
       "  <tbody>\n",
       "    <tr>\n",
       "      <th>0</th>\n",
       "      <td>0</td>\n",
       "      <td>1189474</td>\n",
       "      <td>[Fortuna Botel, Hungary, 7-8.5, Hs:1, Rt6, nat...</td>\n",
       "      <td>[Fortuna Botel]</td>\n",
       "    </tr>\n",
       "    <tr>\n",
       "      <th>1</th>\n",
       "      <td>1</td>\n",
       "      <td>1595059</td>\n",
       "      <td>[Equity Point Sea, Spain, 7-8.5, Hs:1, Rt2, na...</td>\n",
       "      <td>[Equity Point Sea]</td>\n",
       "    </tr>\n",
       "    <tr>\n",
       "      <th>2</th>\n",
       "      <td>2</td>\n",
       "      <td>3637809</td>\n",
       "      <td>[The Naughty Squirrel Backpackers Hostel, Latv...</td>\n",
       "      <td>[The Naughty Squirrel Backpackers Hostel]</td>\n",
       "    </tr>\n",
       "    <tr>\n",
       "      <th>3</th>\n",
       "      <td>3</td>\n",
       "      <td>3835945</td>\n",
       "      <td>[Chile, 5-7, Hs:1, Rt3, nationality: England, ...</td>\n",
       "      <td>[]</td>\n",
       "    </tr>\n",
       "    <tr>\n",
       "      <th>4</th>\n",
       "      <td>4</td>\n",
       "      <td>3461306</td>\n",
       "      <td>[Spain, &lt;5, Hs:1, Rt4, nationality: Canada, na...</td>\n",
       "      <td>[]</td>\n",
       "    </tr>\n",
       "  </tbody>\n",
       "</table>\n",
       "</div>"
      ],
      "text/plain": [
       "   Unnamed: 0  user_id                                         user_stuff  \\\n",
       "0           0  1189474  [Fortuna Botel, Hungary, 7-8.5, Hs:1, Rt6, nat...   \n",
       "1           1  1595059  [Equity Point Sea, Spain, 7-8.5, Hs:1, Rt2, na...   \n",
       "2           2  3637809  [The Naughty Squirrel Backpackers Hostel, Latv...   \n",
       "3           3  3835945  [Chile, 5-7, Hs:1, Rt3, nationality: England, ...   \n",
       "4           4  3461306  [Spain, <5, Hs:1, Rt4, nationality: Canada, na...   \n",
       "\n",
       "                                  hsts_liked  \n",
       "0                            [Fortuna Botel]  \n",
       "1                         [Equity Point Sea]  \n",
       "2  [The Naughty Squirrel Backpackers Hostel]  \n",
       "3                                         []  \n",
       "4                                         []  "
      ]
     },
     "execution_count": 262,
     "metadata": {},
     "output_type": "execute_result"
    }
   ],
   "source": [
    "user_dist.head()"
   ]
  },
  {
   "cell_type": "code",
   "execution_count": 281,
   "metadata": {
    "collapsed": false
   },
   "outputs": [
    {
     "name": "stdout",
     "output_type": "stream",
     "text": [
      "3637809\n",
      "[The Naughty Squirrel Backpackers Hostel, Latvia, >8.5, Hs:1, nationality: Australia, Male, 31-40]\n"
     ]
    }
   ],
   "source": [
    "print user_dist.user_id[2]\n",
    "print user_dist.user_stuff[2]"
   ]
  },
  {
   "cell_type": "code",
   "execution_count": 283,
   "metadata": {
    "collapsed": false
   },
   "outputs": [
    {
     "name": "stdout",
     "output_type": "stream",
     "text": [
      "The Naughty Squirrel Backpackers Hostel\n",
      "[>8.5, Awards:16, Latvia, Riga, Linen Included, Free City Maps, Towels Included, Free WiFi, Free Internet Access , Security Lockers, Key Card Access, Common Room, Adaptors, Book Exchange, Hot Showers, Self-Catering Facilities, Hair Dryers, Safe Deposit Box, Steam Room, Internet Access, Laundry Facilities, Luggage Storage, 24 Hour Reception, Tours/Travel Desk, Postal Service, 24 Hour Security, Bar, Tea & Coffee Making Facilities, DVD's, Board Games, Foosball, Credit Cards Accepted, No Curfew, Non Smoking, Taxes Included, H_t6]\n"
     ]
    }
   ],
   "source": [
    "print hostel_dist.hostel[2]\n",
    "print hostel_dist.hostel_info[2]"
   ]
  },
  {
   "cell_type": "code",
   "execution_count": 270,
   "metadata": {
    "collapsed": false
   },
   "outputs": [],
   "source": [
    "# usser distance function \n",
    "def j_user_dist(user):\n",
    "    distance = []\n",
    "    users1 = []\n",
    "    hostels = []\n",
    "    user_a = set(user_dist ['user_stuff'][user_dist.user_id == user].values[0].replace('[','').replace(']','').split(', '))\n",
    "    \n",
    "    for i,id in enumerate(user_dist.user_id):\n",
    "        user_b = set(user_dist.user_stuff[i].replace('[','').replace(']','').split(', '))\n",
    "        numerator = len(user_a.intersection(user_b)) * 1.0\n",
    "        denominator = len(user_a.union(user_b)) * 1.0\n",
    "        distance.append(numerator / denominator)\n",
    "        users1.append(id)\n",
    "        hostels.append(user_dist['hsts_liked'][i])\n",
    "    distances = pd.DataFrame()\n",
    "    distances['users'] = users1\n",
    "    distances['distances']=distance\n",
    "    distances['hostels'] = hostels\n",
    "    return distances.sort_values('distances', ascending = False)[1:4]"
   ]
  },
  {
   "cell_type": "code",
   "execution_count": 271,
   "metadata": {
    "collapsed": false
   },
   "outputs": [
    {
     "data": {
      "text/html": [
       "<div>\n",
       "<table border=\"1\" class=\"dataframe\">\n",
       "  <thead>\n",
       "    <tr style=\"text-align: right;\">\n",
       "      <th></th>\n",
       "      <th>users</th>\n",
       "      <th>distances</th>\n",
       "      <th>hostels</th>\n",
       "    </tr>\n",
       "  </thead>\n",
       "  <tbody>\n",
       "    <tr>\n",
       "      <th>6563</th>\n",
       "      <td>8144810</td>\n",
       "      <td>0.312500</td>\n",
       "      <td>[Iva Apartments]</td>\n",
       "    </tr>\n",
       "    <tr>\n",
       "      <th>3767</th>\n",
       "      <td>9802505</td>\n",
       "      <td>0.300000</td>\n",
       "      <td>[El Jardin Hostal, Way Hostel, Hostel Rosemary]</td>\n",
       "    </tr>\n",
       "    <tr>\n",
       "      <th>9161</th>\n",
       "      <td>9936860</td>\n",
       "      <td>0.277778</td>\n",
       "      <td>[Boipeba Bed and Breakfast, Hostal Andalucia]</td>\n",
       "    </tr>\n",
       "  </tbody>\n",
       "</table>\n",
       "</div>"
      ],
      "text/plain": [
       "        users  distances                                          hostels\n",
       "6563  8144810   0.312500                                 [Iva Apartments]\n",
       "3767  9802505   0.300000  [El Jardin Hostal, Way Hostel, Hostel Rosemary]\n",
       "9161  9936860   0.277778    [Boipeba Bed and Breakfast, Hostal Andalucia]"
      ]
     },
     "execution_count": 271,
     "metadata": {},
     "output_type": "execute_result"
    }
   ],
   "source": [
    "j_user_dist(3298399)"
   ]
  },
  {
   "cell_type": "code",
   "execution_count": 272,
   "metadata": {
    "collapsed": false
   },
   "outputs": [],
   "source": [
    "for h in list(j_user_dist(1189474)['hostels'].values):\n",
    "    for H in h.replace('[','').replace(']','').split(', '):\n",
    "        if H != '':\n",
    "            print H"
   ]
  },
  {
   "cell_type": "code",
   "execution_count": 273,
   "metadata": {
    "collapsed": false
   },
   "outputs": [],
   "source": [
    "# hostel distance function \n",
    "def j_hostel_dist(hst,hostel_list):\n",
    "    distance = []\n",
    "    hostels1 = []\n",
    "    links = []\n",
    "    distances = pd.DataFrame()\n",
    "    \n",
    "    hostel_a = set(hostel_dist['hostel_info'][hostel_dist.hostel == hst].values[0].split(', '))\n",
    "    \n",
    "    for h in hostel_list:\n",
    "        \n",
    "        hostel_b = set(hostel_dist['hostel_info'][hostel_dist['hostel']==h].values[0].split(', '))\n",
    "        \n",
    "        numerator = len(hostel_a.intersection(hostel_b)) * 1.0 \n",
    "        denominator = len(hostel_a.union(hostel_b)) * 1.0\n",
    "        distance.append(numerator / denominator)\n",
    "        \n",
    "        hostels1.append(h)\n",
    "        links.append(hostel_dist['link'][hostel_dist['hostel']==h].values[0])\n",
    "        \n",
    "    distances['hostel'] = hostels1\n",
    "    distances['distances']=distance\n",
    "    distances['link'] = links\n",
    "    \n",
    "    return distances.sort_values('distances', ascending = False)[:1]"
   ]
  },
  {
   "cell_type": "code",
   "execution_count": 274,
   "metadata": {
    "collapsed": false
   },
   "outputs": [
    {
     "data": {
      "text/html": [
       "<div>\n",
       "<table border=\"1\" class=\"dataframe\">\n",
       "  <thead>\n",
       "    <tr style=\"text-align: right;\">\n",
       "      <th></th>\n",
       "      <th>hostel</th>\n",
       "      <th>distances</th>\n",
       "      <th>link</th>\n",
       "    </tr>\n",
       "  </thead>\n",
       "  <tbody>\n",
       "    <tr>\n",
       "      <th>2</th>\n",
       "      <td>Way Hostel</td>\n",
       "      <td>0.530612</td>\n",
       "      <td>http://www.hostelworld.com/hosteldetails.php/W...</td>\n",
       "    </tr>\n",
       "  </tbody>\n",
       "</table>\n",
       "</div>"
      ],
      "text/plain": [
       "       hostel  distances                                               link\n",
       "2  Way Hostel   0.530612  http://www.hostelworld.com/hosteldetails.php/W..."
      ]
     },
     "execution_count": 274,
     "metadata": {},
     "output_type": "execute_result"
    }
   ],
   "source": [
    "h_list = ['Iva Apartments','El Jardin Hostal','Way Hostel','Hostel Rosemary',\n",
    "          'Boipeba Bed and Breakfast','Hostal Andalucia','Hvar Out Hostel']\n",
    "\n",
    "j_hostel_dist('Bed & Bike Barcelona',h_list)"
   ]
  },
  {
   "cell_type": "code",
   "execution_count": 275,
   "metadata": {
    "collapsed": false
   },
   "outputs": [],
   "source": [
    "def hostel_rec(user):\n",
    "    rec = pd.DataFrame()\n",
    "    \n",
    "    h_list = []\n",
    "    for h in list(j_user_dist(user)['hostels'].values):\n",
    "        for H in h.replace('[','').replace(']','').split(', '):\n",
    "            if H != '':\n",
    "                h_list.append(H)\n",
    "            \n",
    "    users_hsts = [h.replace('[','').replace(']','')\n",
    "                 for h in user_dist['hsts_liked'][user_dist['user_id']==user].values[0].split(', ')]\n",
    "    \n",
    "    for hst in users_hsts:\n",
    "        rec = rec.append(j_hostel_dist(hst,h_list),ignore_index=True)\n",
    "        \n",
    "    rec['user_hostel'] = users_hsts\n",
    "    return rec[['user_hostel','hostel','distances','link']]"
   ]
  },
  {
   "cell_type": "code",
   "execution_count": 276,
   "metadata": {
    "collapsed": false
   },
   "outputs": [
    {
     "data": {
      "text/html": [
       "<div>\n",
       "<table border=\"1\" class=\"dataframe\">\n",
       "  <thead>\n",
       "    <tr style=\"text-align: right;\">\n",
       "      <th></th>\n",
       "      <th>user_hostel</th>\n",
       "      <th>hostel</th>\n",
       "      <th>distances</th>\n",
       "      <th>link</th>\n",
       "    </tr>\n",
       "  </thead>\n",
       "  <tbody>\n",
       "    <tr>\n",
       "      <th>0</th>\n",
       "      <td>Fortuna Botel</td>\n",
       "      <td>NaN</td>\n",
       "      <td>NaN</td>\n",
       "      <td>NaN</td>\n",
       "    </tr>\n",
       "  </tbody>\n",
       "</table>\n",
       "</div>"
      ],
      "text/plain": [
       "     user_hostel  hostel  distances  link\n",
       "0  Fortuna Botel     NaN        NaN   NaN"
      ]
     },
     "execution_count": 276,
     "metadata": {},
     "output_type": "execute_result"
    }
   ],
   "source": [
    "hostel_rec(1189474)"
   ]
  },
  {
   "cell_type": "code",
   "execution_count": 277,
   "metadata": {
    "collapsed": false
   },
   "outputs": [
    {
     "data": {
      "text/html": [
       "<div>\n",
       "<table border=\"1\" class=\"dataframe\">\n",
       "  <thead>\n",
       "    <tr style=\"text-align: right;\">\n",
       "      <th></th>\n",
       "      <th>user_hostel</th>\n",
       "      <th>hostel</th>\n",
       "      <th>distances</th>\n",
       "      <th>link</th>\n",
       "    </tr>\n",
       "  </thead>\n",
       "  <tbody>\n",
       "    <tr>\n",
       "      <th>0</th>\n",
       "      <td>Equity Point Sea</td>\n",
       "      <td>Equity Point Sea</td>\n",
       "      <td>1.0</td>\n",
       "      <td>http://www.hostelworld.com/hosteldetails.php/E...</td>\n",
       "    </tr>\n",
       "  </tbody>\n",
       "</table>\n",
       "</div>"
      ],
      "text/plain": [
       "        user_hostel            hostel  distances  \\\n",
       "0  Equity Point Sea  Equity Point Sea        1.0   \n",
       "\n",
       "                                                link  \n",
       "0  http://www.hostelworld.com/hosteldetails.php/E...  "
      ]
     },
     "execution_count": 277,
     "metadata": {},
     "output_type": "execute_result"
    }
   ],
   "source": [
    "hostel_rec(1595059)"
   ]
  },
  {
   "cell_type": "code",
   "execution_count": 278,
   "metadata": {
    "collapsed": false
   },
   "outputs": [
    {
     "data": {
      "text/html": [
       "<div>\n",
       "<table border=\"1\" class=\"dataframe\">\n",
       "  <thead>\n",
       "    <tr style=\"text-align: right;\">\n",
       "      <th></th>\n",
       "      <th>user_hostel</th>\n",
       "      <th>hostel</th>\n",
       "      <th>distances</th>\n",
       "      <th>link</th>\n",
       "    </tr>\n",
       "  </thead>\n",
       "  <tbody>\n",
       "    <tr>\n",
       "      <th>0</th>\n",
       "      <td>Bed &amp; Bike Barcelona</td>\n",
       "      <td>Way Hostel</td>\n",
       "      <td>0.530612</td>\n",
       "      <td>http://www.hostelworld.com/hosteldetails.php/W...</td>\n",
       "    </tr>\n",
       "    <tr>\n",
       "      <th>1</th>\n",
       "      <td>B&amp;B Giovy</td>\n",
       "      <td>Hostal Andalucia</td>\n",
       "      <td>0.375000</td>\n",
       "      <td>http://www.hostelworld.com/hosteldetails.php/H...</td>\n",
       "    </tr>\n",
       "    <tr>\n",
       "      <th>2</th>\n",
       "      <td>CroParadise Green Hostel</td>\n",
       "      <td>Way Hostel</td>\n",
       "      <td>0.418182</td>\n",
       "      <td>http://www.hostelworld.com/hosteldetails.php/W...</td>\n",
       "    </tr>\n",
       "    <tr>\n",
       "      <th>3</th>\n",
       "      <td>B&amp;B Giovy</td>\n",
       "      <td>Hostal Andalucia</td>\n",
       "      <td>0.375000</td>\n",
       "      <td>http://www.hostelworld.com/hosteldetails.php/H...</td>\n",
       "    </tr>\n",
       "  </tbody>\n",
       "</table>\n",
       "</div>"
      ],
      "text/plain": [
       "                user_hostel            hostel  distances  \\\n",
       "0      Bed & Bike Barcelona        Way Hostel   0.530612   \n",
       "1                 B&B Giovy  Hostal Andalucia   0.375000   \n",
       "2  CroParadise Green Hostel        Way Hostel   0.418182   \n",
       "3                 B&B Giovy  Hostal Andalucia   0.375000   \n",
       "\n",
       "                                                link  \n",
       "0  http://www.hostelworld.com/hosteldetails.php/W...  \n",
       "1  http://www.hostelworld.com/hosteldetails.php/H...  \n",
       "2  http://www.hostelworld.com/hosteldetails.php/W...  \n",
       "3  http://www.hostelworld.com/hosteldetails.php/H...  "
      ]
     },
     "execution_count": 278,
     "metadata": {},
     "output_type": "execute_result"
    }
   ],
   "source": [
    "hostel_rec(3298399)"
   ]
  }
 ],
 "metadata": {
  "anaconda-cloud": {},
  "kernelspec": {
   "display_name": "Python [dsi]",
   "language": "python",
   "name": "Python [dsi]"
  },
  "language_info": {
   "codemirror_mode": {
    "name": "ipython",
    "version": 2
   },
   "file_extension": ".py",
   "mimetype": "text/x-python",
   "name": "python",
   "nbconvert_exporter": "python",
   "pygments_lexer": "ipython2",
   "version": "2.7.12"
  }
 },
 "nbformat": 4,
 "nbformat_minor": 0
}

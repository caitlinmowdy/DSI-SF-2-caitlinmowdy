{
 "cells": [
  {
   "cell_type": "markdown",
   "metadata": {},
   "source": [
    "# Topic Modeling of Hostels"
   ]
  },
  {
   "cell_type": "code",
   "execution_count": 1,
   "metadata": {
    "collapsed": true
   },
   "outputs": [],
   "source": [
    "import pandas as pd\n",
    "from IPython.display import display\n",
    "from sklearn.feature_extraction.text import CountVectorizer\n",
    "from collections import Counter"
   ]
  },
  {
   "cell_type": "code",
   "execution_count": 5,
   "metadata": {
    "collapsed": false
   },
   "outputs": [
    {
     "data": {
      "text/plain": [
       "(2370, 10)"
      ]
     },
     "metadata": {},
     "output_type": "display_data"
    },
    {
     "data": {
      "text/html": [
       "<div>\n",
       "<table border=\"1\" class=\"dataframe\">\n",
       "  <thead>\n",
       "    <tr style=\"text-align: right;\">\n",
       "      <th></th>\n",
       "      <th>Unnamed: 0</th>\n",
       "      <th>rating</th>\n",
       "      <th>desc</th>\n",
       "      <th>FREE</th>\n",
       "      <th>GENERAL</th>\n",
       "      <th>SERVICES</th>\n",
       "      <th>FOOD_DRINK</th>\n",
       "      <th>ENTERTAINMENT</th>\n",
       "      <th>POLICIES</th>\n",
       "      <th>hostel</th>\n",
       "    </tr>\n",
       "  </thead>\n",
       "  <tbody>\n",
       "    <tr>\n",
       "      <th>0</th>\n",
       "      <td>0</td>\n",
       "      <td>8.4</td>\n",
       "      <td>[Please confirm your check in time with us., ,...</td>\n",
       "      <td>[Linen Included , Free City Maps , Towels Incl...</td>\n",
       "      <td>[Security Lockers, Breakfast Not Included, Hot...</td>\n",
       "      <td>[Internet Access, Luggage Storage, ]</td>\n",
       "      <td>[Tea &amp; Coffee Making Facilities, ]</td>\n",
       "      <td>[]</td>\n",
       "      <td>[No Curfew, Non Smoking, Taxes Included,]</td>\n",
       "      <td>Hostel Bell</td>\n",
       "    </tr>\n",
       "    <tr>\n",
       "      <th>1</th>\n",
       "      <td>1</td>\n",
       "      <td>8.5</td>\n",
       "      <td>[Le Beau Site is a welcoming alternative for t...</td>\n",
       "      <td>[Free Breakfast , Free City Maps , Free WiFi ,...</td>\n",
       "      <td>[Wheelchair Friendly, Elevator, Adaptors, Cots...</td>\n",
       "      <td>[Internet Access, Luggage Storage, Direct Dial...</td>\n",
       "      <td>[Minibar, ]</td>\n",
       "      <td>[]</td>\n",
       "      <td>[Child Friendly, Pet Friendly, Taxes Not Inclu...</td>\n",
       "      <td>Beau Site</td>\n",
       "    </tr>\n",
       "  </tbody>\n",
       "</table>\n",
       "</div>"
      ],
      "text/plain": [
       "   Unnamed: 0  rating                                               desc  \\\n",
       "0           0     8.4  [Please confirm your check in time with us., ,...   \n",
       "1           1     8.5  [Le Beau Site is a welcoming alternative for t...   \n",
       "\n",
       "                                                FREE  \\\n",
       "0  [Linen Included , Free City Maps , Towels Incl...   \n",
       "1  [Free Breakfast , Free City Maps , Free WiFi ,...   \n",
       "\n",
       "                                             GENERAL  \\\n",
       "0  [Security Lockers, Breakfast Not Included, Hot...   \n",
       "1  [Wheelchair Friendly, Elevator, Adaptors, Cots...   \n",
       "\n",
       "                                            SERVICES  \\\n",
       "0               [Internet Access, Luggage Storage, ]   \n",
       "1  [Internet Access, Luggage Storage, Direct Dial...   \n",
       "\n",
       "                           FOOD_DRINK ENTERTAINMENT  \\\n",
       "0  [Tea & Coffee Making Facilities, ]            []   \n",
       "1                         [Minibar, ]            []   \n",
       "\n",
       "                                            POLICIES       hostel  \n",
       "0          [No Curfew, Non Smoking, Taxes Included,]  Hostel Bell  \n",
       "1  [Child Friendly, Pet Friendly, Taxes Not Inclu...    Beau Site  "
      ]
     },
     "metadata": {},
     "output_type": "display_data"
    }
   ],
   "source": [
    "# import clean revs data\n",
    "\n",
    "hostels_clean_df = pd.read_csv('/Users/caitlinmowdy/Desktop/DSI-SF-2-caitlinmowdy/capstone-hostelworld/clean-data/clean_hostels1.csv')\n",
    "display(hostels_clean_df.shape, hostels_clean_df.head(2))"
   ]
  },
  {
   "cell_type": "markdown",
   "metadata": {},
   "source": [
    "# Find Most common words in Hostel Descriptions \n",
    "- Subset into like and dislike dfs\n",
    "- Find  the most common words in each\n",
    "- Add binary columns to revs_df to show if each revew contains those words"
   ]
  },
  {
   "cell_type": "code",
   "execution_count": null,
   "metadata": {
    "collapsed": true
   },
   "outputs": [],
   "source": []
  }
 ],
 "metadata": {
  "anaconda-cloud": {},
  "kernelspec": {
   "display_name": "Python [dsi]",
   "language": "python",
   "name": "Python [dsi]"
  },
  "language_info": {
   "codemirror_mode": {
    "name": "ipython",
    "version": 2
   },
   "file_extension": ".py",
   "mimetype": "text/x-python",
   "name": "python",
   "nbconvert_exporter": "python",
   "pygments_lexer": "ipython2",
   "version": "2.7.12"
  }
 },
 "nbformat": 4,
 "nbformat_minor": 0
}

{
 "cells": [
  {
   "cell_type": "markdown",
   "metadata": {},
   "source": [
    "# Get Random User IDs "
   ]
  },
  {
   "cell_type": "code",
   "execution_count": 17,
   "metadata": {
    "collapsed": true
   },
   "outputs": [],
   "source": [
    "import pandas as pd\n",
    "import numpy as np\n",
    "from scrapy.selector import Selector\n",
    "from scrapy.http import HtmlResponse\n",
    "import requests\n",
    "import random\n",
    "import sys\n",
    "\n",
    "# create a list of random numbers\n",
    "numbs = np.random.randint(10000000,50000000,1000000)"
   ]
  },
  {
   "cell_type": "code",
   "execution_count": 22,
   "metadata": {
    "collapsed": false
   },
   "outputs": [],
   "source": [
    "# check if numbers from numbs list belong to profiels \n",
    "\n",
    "%time\n",
    "users2 = []\n",
    "\n",
    "for i,n in enumerate(numbs):\n",
    "    N = str(n)\n",
    "    X = 'http://www.hostelworld.com/profile/' + N + '/reviews'\n",
    "    response = requests.get(X)\n",
    "    HTML = response.text\n",
    "    revs = Selector(text=HTML).xpath(\"//div[@class='reviewlisting clearfix']/div[@class='reviewdetails rounded']/div[@class='ratingsection']/div[@class='textrating']\").extract()\n",
    "    if len(revs) != 0:\n",
    "        users2.append(N)\n",
    "    if i%100 == 0:\n",
    "        sys.stdout.write('\\r'+ str((float(i)/len(numbs))*100)+'%')\n",
    "print len(users2)"
   ]
  },
  {
   "cell_type": "code",
   "execution_count": 19,
   "metadata": {
    "collapsed": false
   },
   "outputs": [],
   "source": [
    "# save list of numbers that belong to profiels to a dataframe\n",
    "\n",
    "len(users2)\n",
    "user3 = pd.DataFrame(users2)"
   ]
  },
  {
   "cell_type": "code",
   "execution_count": 20,
   "metadata": {
    "collapsed": true
   },
   "outputs": [],
   "source": [
    "# same df to csv\n",
    "\n",
    "user3.to_csv(path_or_buf='/Users/caitlinmowdy/Desktop/DSI-SF-2-caitlinmowdy/capstone-hostelworld/raw-data/user_ids3_sep27.csv')\n"
   ]
  }
 ],
 "metadata": {
  "anaconda-cloud": {},
  "kernelspec": {
   "display_name": "Python [dsi]",
   "language": "python",
   "name": "Python [dsi]"
  },
  "language_info": {
   "codemirror_mode": {
    "name": "ipython",
    "version": 2
   },
   "file_extension": ".py",
   "mimetype": "text/x-python",
   "name": "python",
   "nbconvert_exporter": "python",
   "pygments_lexer": "ipython2",
   "version": "2.7.12"
  }
 },
 "nbformat": 4,
 "nbformat_minor": 0
}

{
 "cells": [
  {
   "cell_type": "markdown",
   "metadata": {},
   "source": [
    "# Cleaning Data"
   ]
  },
  {
   "cell_type": "code",
   "execution_count": 56,
   "metadata": {
    "collapsed": false
   },
   "outputs": [],
   "source": [
    "import numpy as np\n",
    "import scipy \n",
    "import seaborn as sns\n",
    "import pandas as pd\n",
    "import patsy\n",
    "import matplotlib\n",
    "import matplotlib.pyplot as plt\n",
    "from scrapy.selector import Selector\n",
    "from scrapy.http import HtmlResponse\n",
    "import requests\n",
    "import random\n",
    "import sys\n",
    "%config InlineBackend.figure_format = 'retina'\n",
    "%matplotlib inline\n",
    "plt.style.use('fivethirtyeight')\n",
    "from IPython.display import display\n",
    "from bs4 import BeautifulSoup\n"
   ]
  },
  {
   "cell_type": "code",
   "execution_count": 132,
   "metadata": {
    "collapsed": true
   },
   "outputs": [],
   "source": [
    "# import raw data\n",
    "\n",
    "users_df = pd.read_csv('/Users/caitlinmowdy/Desktop/DSI-SF-2-caitlinmowdy/capstone-hostelworld/raw-data/raw_users.csv')\n",
    "revs_df = pd.read_csv('/Users/caitlinmowdy/Desktop/DSI-SF-2-caitlinmowdy/capstone-hostelworld/raw-data/raw_revs.csv')\n",
    "hostels_df = pd.read_csv('/Users/caitlinmowdy/Desktop/DSI-SF-2-caitlinmowdy/capstone-hostelworld/raw-data/raw_hostels.csv')"
   ]
  },
  {
   "cell_type": "code",
   "execution_count": 216,
   "metadata": {
    "collapsed": false
   },
   "outputs": [
    {
     "data": {
      "text/plain": [
       "'users_df.head(2)'"
      ]
     },
     "metadata": {},
     "output_type": "display_data"
    },
    {
     "data": {
      "text/html": [
       "<div>\n",
       "<table border=\"1\" class=\"dataframe\">\n",
       "  <thead>\n",
       "    <tr style=\"text-align: right;\">\n",
       "      <th></th>\n",
       "      <th>user_id</th>\n",
       "      <th>num_revs</th>\n",
       "      <th>nationality</th>\n",
       "      <th>group</th>\n",
       "      <th>age</th>\n",
       "    </tr>\n",
       "  </thead>\n",
       "  <tbody>\n",
       "    <tr>\n",
       "      <th>0</th>\n",
       "      <td>2204119</td>\n",
       "      <td>1</td>\n",
       "      <td>Spain</td>\n",
       "      <td>NaN</td>\n",
       "      <td>NaN</td>\n",
       "    </tr>\n",
       "    <tr>\n",
       "      <th>1</th>\n",
       "      <td>3765998</td>\n",
       "      <td>1</td>\n",
       "      <td>Northern Ireland</td>\n",
       "      <td>NaN</td>\n",
       "      <td>NaN</td>\n",
       "    </tr>\n",
       "  </tbody>\n",
       "</table>\n",
       "</div>"
      ],
      "text/plain": [
       "   user_id  num_revs       nationality group  age\n",
       "0  2204119         1             Spain   NaN  NaN\n",
       "1  3765998         1  Northern Ireland   NaN  NaN"
      ]
     },
     "metadata": {},
     "output_type": "display_data"
    },
    {
     "data": {
      "text/plain": [
       "'revs_df.head(2)'"
      ]
     },
     "metadata": {},
     "output_type": "display_data"
    },
    {
     "data": {
      "text/html": [
       "<div>\n",
       "<table border=\"1\" class=\"dataframe\">\n",
       "  <thead>\n",
       "    <tr style=\"text-align: right;\">\n",
       "      <th></th>\n",
       "      <th>Unnamed: 0</th>\n",
       "      <th>text</th>\n",
       "      <th>user_id</th>\n",
       "      <th>score</th>\n",
       "      <th>hostel</th>\n",
       "      <th>location</th>\n",
       "      <th>link</th>\n",
       "      <th>country</th>\n",
       "      <th>city</th>\n",
       "    </tr>\n",
       "  </thead>\n",
       "  <tbody>\n",
       "    <tr>\n",
       "      <th>0</th>\n",
       "      <td>2</td>\n",
       "      <td>Overall the hostel was great and nice, if a li...</td>\n",
       "      <td>2384221</td>\n",
       "      <td>8.0</td>\n",
       "      <td>Hostel Bell</td>\n",
       "      <td>Prague, Czech Republic</td>\n",
       "      <td>http://www.hostelworld.com/hosteldetails.php/H...</td>\n",
       "      <td>Czech Republic</td>\n",
       "      <td>Prague</td>\n",
       "    </tr>\n",
       "    <tr>\n",
       "      <th>1</th>\n",
       "      <td>3</td>\n",
       "      <td>There is free internet computer, near the metr...</td>\n",
       "      <td>2378241</td>\n",
       "      <td>9.7</td>\n",
       "      <td>Beau Site</td>\n",
       "      <td>Brussels, Belgium</td>\n",
       "      <td>http://www.hostelworld.com/hosteldetails.php/B...</td>\n",
       "      <td>Belgium</td>\n",
       "      <td>Brussels</td>\n",
       "    </tr>\n",
       "  </tbody>\n",
       "</table>\n",
       "</div>"
      ],
      "text/plain": [
       "   Unnamed: 0                                               text  user_id  \\\n",
       "0           2  Overall the hostel was great and nice, if a li...  2384221   \n",
       "1           3  There is free internet computer, near the metr...  2378241   \n",
       "\n",
       "   score       hostel                location  \\\n",
       "0    8.0  Hostel Bell  Prague, Czech Republic   \n",
       "1    9.7    Beau Site       Brussels, Belgium   \n",
       "\n",
       "                                                link          country  \\\n",
       "0  http://www.hostelworld.com/hosteldetails.php/H...   Czech Republic   \n",
       "1  http://www.hostelworld.com/hosteldetails.php/B...          Belgium   \n",
       "\n",
       "       city  \n",
       "0    Prague  \n",
       "1  Brussels  "
      ]
     },
     "metadata": {},
     "output_type": "display_data"
    },
    {
     "data": {
      "text/plain": [
       "'hostels_df.head(2)'"
      ]
     },
     "metadata": {},
     "output_type": "display_data"
    },
    {
     "data": {
      "text/html": [
       "<div>\n",
       "<table border=\"1\" class=\"dataframe\">\n",
       "  <thead>\n",
       "    <tr style=\"text-align: right;\">\n",
       "      <th></th>\n",
       "      <th>rating</th>\n",
       "      <th>desc</th>\n",
       "      <th>FREE</th>\n",
       "      <th>GENERAL</th>\n",
       "      <th>SERVICES</th>\n",
       "      <th>FOOD_DRINK</th>\n",
       "      <th>ENTERTAINMENT</th>\n",
       "      <th>POLICIES</th>\n",
       "      <th>hostel</th>\n",
       "    </tr>\n",
       "  </thead>\n",
       "  <tbody>\n",
       "    <tr>\n",
       "      <th>0</th>\n",
       "      <td>8.4</td>\n",
       "      <td>[Please confirm your check in time with us., ,...</td>\n",
       "      <td>[Linen Included , Free City Maps , Towels Incl...</td>\n",
       "      <td>[Security Lockers, Breakfast Not Included, Hot...</td>\n",
       "      <td>[Internet Access, Luggage Storage, ]</td>\n",
       "      <td>[Tea &amp; Coffee Making Facilities, ]</td>\n",
       "      <td>[]</td>\n",
       "      <td>[No Curfew, Non Smoking, Taxes Included,]</td>\n",
       "      <td>Hostel Bell</td>\n",
       "    </tr>\n",
       "    <tr>\n",
       "      <th>1</th>\n",
       "      <td>8.5</td>\n",
       "      <td>[Le Beau Site is a welcoming alternative for t...</td>\n",
       "      <td>[Free Breakfast , Free City Maps , Free WiFi ,...</td>\n",
       "      <td>[Wheelchair Friendly, Elevator, Adaptors, Cots...</td>\n",
       "      <td>[Internet Access, Luggage Storage, Direct Dial...</td>\n",
       "      <td>[Minibar, ]</td>\n",
       "      <td>[]</td>\n",
       "      <td>[Child Friendly, Pet Friendly, Taxes Not Inclu...</td>\n",
       "      <td>Beau Site</td>\n",
       "    </tr>\n",
       "  </tbody>\n",
       "</table>\n",
       "</div>"
      ],
      "text/plain": [
       "   rating                                               desc  \\\n",
       "0     8.4  [Please confirm your check in time with us., ,...   \n",
       "1     8.5  [Le Beau Site is a welcoming alternative for t...   \n",
       "\n",
       "                                                FREE  \\\n",
       "0  [Linen Included , Free City Maps , Towels Incl...   \n",
       "1  [Free Breakfast , Free City Maps , Free WiFi ,...   \n",
       "\n",
       "                                             GENERAL  \\\n",
       "0  [Security Lockers, Breakfast Not Included, Hot...   \n",
       "1  [Wheelchair Friendly, Elevator, Adaptors, Cots...   \n",
       "\n",
       "                                            SERVICES  \\\n",
       "0               [Internet Access, Luggage Storage, ]   \n",
       "1  [Internet Access, Luggage Storage, Direct Dial...   \n",
       "\n",
       "                           FOOD_DRINK ENTERTAINMENT  \\\n",
       "0  [Tea & Coffee Making Facilities, ]            []   \n",
       "1                         [Minibar, ]            []   \n",
       "\n",
       "                                            POLICIES       hostel  \n",
       "0          [No Curfew, Non Smoking, Taxes Included,]  Hostel Bell  \n",
       "1  [Child Friendly, Pet Friendly, Taxes Not Inclu...    Beau Site  "
      ]
     },
     "metadata": {},
     "output_type": "display_data"
    }
   ],
   "source": [
    "# look at data\n",
    "\n",
    "display(\"users_df.head(2)\",users_df.head(2),'revs_df.head(2)',revs_df.head(2),\n",
    "        'hostels_df.head(2)',hostels_df.head(2))"
   ]
  },
  {
   "cell_type": "code",
   "execution_count": 154,
   "metadata": {
    "collapsed": false
   },
   "outputs": [],
   "source": [
    "# defs to remove tags and ugly things\n",
    "\n",
    "def no_space_n(value):\n",
    "    return value.replace('\\n','').replace('  ','') \n",
    "def no_r(value):\n",
    "    return value.replace('\\r','') \n",
    "def no_n(value):\n",
    "    return value.replace('\\n','') \n",
    "def no_nc(value):\n",
    "    return value.replace('\\n,','').replace(',\\n','') \n",
    "def add_c(value):\n",
    "    return value.replace('  ',',')\n",
    "def del_ec(value):\n",
    "    return value.replace(',,,','').replace(',,',',')\n",
    "def del_ec2(value):\n",
    "    return value.replace(',,',',').replace(',,,',',').replace(',,',',')\n",
    "\n",
    "def soupit(value):\n",
    "    soup = BeautifulSoup(str(value))\n",
    "    value = ''.join(soup.findAll(text=True))\n",
    "    return value\n",
    "\n",
    "def no_uni(value):\n",
    "    return value.decode('unicode_escape').encode('ascii','ignore')"
   ]
  },
  {
   "cell_type": "markdown",
   "metadata": {},
   "source": [
    "# Clean Hostels_DF"
   ]
  },
  {
   "cell_type": "code",
   "execution_count": 156,
   "metadata": {
    "collapsed": false
   },
   "outputs": [],
   "source": [
    "# clean hostel df\n",
    "\n",
    "hostels_df['FREE'] = hostels_df['FREE'].map(no_space_n)\n",
    "hostels_df['desc'] = hostels_df['desc'].map(no_space_n).map(no_r)\n",
    "hostels_df['GENERAL'] = hostels_df['GENERAL'].map(soupit).map(add_c).map(del_ec).map(no_nc).map(no_uni)\n",
    "hostels_df['SERVICES'] = hostels_df['SERVICES'].map(soupit).map(add_c).map(del_ec).map(no_nc) #.map(no_uni)\n",
    "hostels_df['FOOD_DRINK'] = hostels_df['FOOD_DRINK'].map(soupit).map(add_c).map(del_ec).map(no_nc) #.map(no_uni)\n",
    "hostels_df['ENTERTAINMENT'] = hostels_df['ENTERTAINMENT'].map(soupit).map(add_c).map(del_ec).map(no_nc).map(no_uni)\n",
    "hostels_df['POLICIES'] = hostels_df['POLICIES'].map(soupit).map(add_c).map(del_ec2).map(no_nc).map(no_uni)\n",
    "\n",
    "# split location\n",
    "\n",
    "# hostels_df['country'] = [a.split(\",\")[1] for a in hostels_df.location]\n",
    "# hostels_df['city'] = [a.split(\",\")[0] for a in hostels_df.location]\n",
    "\n",
    "# del unnamed col\n",
    "\n",
    "del hostels_df['Unnamed: 0']"
   ]
  },
  {
   "cell_type": "code",
   "execution_count": 226,
   "metadata": {
    "collapsed": false
   },
   "outputs": [
    {
     "data": {
      "text/html": [
       "<div>\n",
       "<table border=\"1\" class=\"dataframe\">\n",
       "  <thead>\n",
       "    <tr style=\"text-align: right;\">\n",
       "      <th></th>\n",
       "      <th>rating</th>\n",
       "      <th>desc</th>\n",
       "      <th>FREE</th>\n",
       "      <th>GENERAL</th>\n",
       "      <th>SERVICES</th>\n",
       "      <th>FOOD_DRINK</th>\n",
       "      <th>ENTERTAINMENT</th>\n",
       "      <th>POLICIES</th>\n",
       "      <th>hostel</th>\n",
       "    </tr>\n",
       "  </thead>\n",
       "  <tbody>\n",
       "    <tr>\n",
       "      <th>0</th>\n",
       "      <td>8.4</td>\n",
       "      <td>[Please confirm your check in time with us., ,...</td>\n",
       "      <td>[Linen Included , Free City Maps , Towels Incl...</td>\n",
       "      <td>[Security Lockers, Breakfast Not Included, Hot...</td>\n",
       "      <td>[Internet Access, Luggage Storage, ]</td>\n",
       "      <td>[Tea &amp; Coffee Making Facilities, ]</td>\n",
       "      <td>[]</td>\n",
       "      <td>[No Curfew, Non Smoking, Taxes Included,]</td>\n",
       "      <td>Hostel Bell</td>\n",
       "    </tr>\n",
       "    <tr>\n",
       "      <th>1</th>\n",
       "      <td>8.5</td>\n",
       "      <td>[Le Beau Site is a welcoming alternative for t...</td>\n",
       "      <td>[Free Breakfast , Free City Maps , Free WiFi ,...</td>\n",
       "      <td>[Wheelchair Friendly, Elevator, Adaptors, Cots...</td>\n",
       "      <td>[Internet Access, Luggage Storage, Direct Dial...</td>\n",
       "      <td>[Minibar, ]</td>\n",
       "      <td>[]</td>\n",
       "      <td>[Child Friendly, Pet Friendly, Taxes Not Inclu...</td>\n",
       "      <td>Beau Site</td>\n",
       "    </tr>\n",
       "  </tbody>\n",
       "</table>\n",
       "</div>"
      ],
      "text/plain": [
       "   rating                                               desc  \\\n",
       "0     8.4  [Please confirm your check in time with us., ,...   \n",
       "1     8.5  [Le Beau Site is a welcoming alternative for t...   \n",
       "\n",
       "                                                FREE  \\\n",
       "0  [Linen Included , Free City Maps , Towels Incl...   \n",
       "1  [Free Breakfast , Free City Maps , Free WiFi ,...   \n",
       "\n",
       "                                             GENERAL  \\\n",
       "0  [Security Lockers, Breakfast Not Included, Hot...   \n",
       "1  [Wheelchair Friendly, Elevator, Adaptors, Cots...   \n",
       "\n",
       "                                            SERVICES  \\\n",
       "0               [Internet Access, Luggage Storage, ]   \n",
       "1  [Internet Access, Luggage Storage, Direct Dial...   \n",
       "\n",
       "                           FOOD_DRINK ENTERTAINMENT  \\\n",
       "0  [Tea & Coffee Making Facilities, ]            []   \n",
       "1                         [Minibar, ]            []   \n",
       "\n",
       "                                            POLICIES       hostel  \n",
       "0          [No Curfew, Non Smoking, Taxes Included,]  Hostel Bell  \n",
       "1  [Child Friendly, Pet Friendly, Taxes Not Inclu...    Beau Site  "
      ]
     },
     "execution_count": 226,
     "metadata": {},
     "output_type": "execute_result"
    }
   ],
   "source": [
    "# look at cleanded hostels_df\n",
    "\n",
    "hostels_df.head(2)"
   ]
  },
  {
   "cell_type": "code",
   "execution_count": 223,
   "metadata": {
    "collapsed": true
   },
   "outputs": [],
   "source": [
    "# save cleaned hostels\n",
    "\n",
    "hostels_df.to_csv(path_or_buf='/Users/caitlinmowdy/Desktop/DSI-SF-2-caitlinmowdy/capstone-hostelworld/clean-data/clean_hostels1.csv',encoding='utf8')"
   ]
  },
  {
   "cell_type": "markdown",
   "metadata": {},
   "source": [
    "# Cleaning Users_DF"
   ]
  },
  {
   "cell_type": "code",
   "execution_count": 180,
   "metadata": {
    "collapsed": false
   },
   "outputs": [],
   "source": [
    "# clean about users \n",
    "\n",
    "users_df.about = users_df.about.map(no_space_n)"
   ]
  },
  {
   "cell_type": "code",
   "execution_count": 182,
   "metadata": {
    "collapsed": false
   },
   "outputs": [],
   "source": [
    "# split about into 3 columns \n",
    "\n",
    "users_df['nationality'] = [a.split(\",\")[0] for a in users_df.about]\n",
    "users_df['group'] = [a.split(\",\")[1] if len(a.split(\",\")) == 3 else np.nan for a in users_df.about]\n",
    "users_df['age'] = [a.split(\",\")[2] if len(a.split(\",\")) == 3 else np.nan for a in users_df.about]\n",
    "\n",
    "# del about and unnamed col\n",
    "\n",
    "del users_df['about']\n",
    "del users_df['Unnamed: 0']"
   ]
  },
  {
   "cell_type": "code",
   "execution_count": 187,
   "metadata": {
    "collapsed": false
   },
   "outputs": [
    {
     "data": {
      "text/html": [
       "<div>\n",
       "<table border=\"1\" class=\"dataframe\">\n",
       "  <thead>\n",
       "    <tr style=\"text-align: right;\">\n",
       "      <th></th>\n",
       "      <th>user_id</th>\n",
       "      <th>num_revs</th>\n",
       "      <th>nationality</th>\n",
       "      <th>group</th>\n",
       "      <th>age</th>\n",
       "    </tr>\n",
       "  </thead>\n",
       "  <tbody>\n",
       "    <tr>\n",
       "      <th>0</th>\n",
       "      <td>2204119</td>\n",
       "      <td>1</td>\n",
       "      <td>Spain</td>\n",
       "      <td>NaN</td>\n",
       "      <td>NaN</td>\n",
       "    </tr>\n",
       "    <tr>\n",
       "      <th>1</th>\n",
       "      <td>3765998</td>\n",
       "      <td>1</td>\n",
       "      <td>Northern Ireland</td>\n",
       "      <td>NaN</td>\n",
       "      <td>NaN</td>\n",
       "    </tr>\n",
       "  </tbody>\n",
       "</table>\n",
       "</div>"
      ],
      "text/plain": [
       "   user_id  num_revs       nationality group  age\n",
       "0  2204119         1             Spain   NaN  NaN\n",
       "1  3765998         1  Northern Ireland   NaN  NaN"
      ]
     },
     "execution_count": 187,
     "metadata": {},
     "output_type": "execute_result"
    }
   ],
   "source": [
    "# look at cleaned users_df\n",
    "\n",
    "users_df1.head(2)"
   ]
  },
  {
   "cell_type": "code",
   "execution_count": 224,
   "metadata": {
    "collapsed": true
   },
   "outputs": [],
   "source": [
    "# save cleaned users\n",
    "\n",
    "users_df.to_csv(path_or_buf='/Users/caitlinmowdy/Desktop/DSI-SF-2-caitlinmowdy/capstone-hostelworld/clean-data/clean_users1.csv',encoding='utf8')"
   ]
  },
  {
   "cell_type": "markdown",
   "metadata": {},
   "source": [
    "# Cleaning Rev_DF"
   ]
  },
  {
   "cell_type": "code",
   "execution_count": 217,
   "metadata": {
    "collapsed": true
   },
   "outputs": [],
   "source": [
    "# split location \n",
    "\n",
    "revs_df['country'] = [a.split(\",\")[1] for a in revs_df.location]\n",
    "revs_df['city'] = [a.split(\",\")[0] for a in revs_df.location]\n",
    "del revs_df['Unnamed: 0']"
   ]
  },
  {
   "cell_type": "code",
   "execution_count": 218,
   "metadata": {
    "collapsed": false
   },
   "outputs": [
    {
     "data": {
      "text/html": [
       "<div>\n",
       "<table border=\"1\" class=\"dataframe\">\n",
       "  <thead>\n",
       "    <tr style=\"text-align: right;\">\n",
       "      <th></th>\n",
       "      <th>text</th>\n",
       "      <th>user_id</th>\n",
       "      <th>score</th>\n",
       "      <th>hostel</th>\n",
       "      <th>location</th>\n",
       "      <th>link</th>\n",
       "      <th>country</th>\n",
       "      <th>city</th>\n",
       "    </tr>\n",
       "  </thead>\n",
       "  <tbody>\n",
       "    <tr>\n",
       "      <th>0</th>\n",
       "      <td>Overall the hostel was great and nice, if a li...</td>\n",
       "      <td>2384221</td>\n",
       "      <td>8.0</td>\n",
       "      <td>Hostel Bell</td>\n",
       "      <td>Prague, Czech Republic</td>\n",
       "      <td>http://www.hostelworld.com/hosteldetails.php/H...</td>\n",
       "      <td>Czech Republic</td>\n",
       "      <td>Prague</td>\n",
       "    </tr>\n",
       "    <tr>\n",
       "      <th>1</th>\n",
       "      <td>There is free internet computer, near the metr...</td>\n",
       "      <td>2378241</td>\n",
       "      <td>9.7</td>\n",
       "      <td>Beau Site</td>\n",
       "      <td>Brussels, Belgium</td>\n",
       "      <td>http://www.hostelworld.com/hosteldetails.php/B...</td>\n",
       "      <td>Belgium</td>\n",
       "      <td>Brussels</td>\n",
       "    </tr>\n",
       "  </tbody>\n",
       "</table>\n",
       "</div>"
      ],
      "text/plain": [
       "                                                text  user_id  score  \\\n",
       "0  Overall the hostel was great and nice, if a li...  2384221    8.0   \n",
       "1  There is free internet computer, near the metr...  2378241    9.7   \n",
       "\n",
       "        hostel                location  \\\n",
       "0  Hostel Bell  Prague, Czech Republic   \n",
       "1    Beau Site       Brussels, Belgium   \n",
       "\n",
       "                                                link          country  \\\n",
       "0  http://www.hostelworld.com/hosteldetails.php/H...   Czech Republic   \n",
       "1  http://www.hostelworld.com/hosteldetails.php/B...          Belgium   \n",
       "\n",
       "       city  \n",
       "0    Prague  \n",
       "1  Brussels  "
      ]
     },
     "execution_count": 218,
     "metadata": {},
     "output_type": "execute_result"
    }
   ],
   "source": [
    "# look at cleaned revs_df\n",
    "\n",
    "revs_df.head(2)"
   ]
  },
  {
   "cell_type": "code",
   "execution_count": 225,
   "metadata": {
    "collapsed": true
   },
   "outputs": [],
   "source": [
    "# save cleaned revs\n",
    "\n",
    "revs_df.to_csv(path_or_buf='/Users/caitlinmowdy/Desktop/DSI-SF-2-caitlinmowdy/capstone-hostelworld/clean-data/clean_revs1.csv',encoding='utf8')"
   ]
  },
  {
   "cell_type": "code",
   "execution_count": null,
   "metadata": {
    "collapsed": true
   },
   "outputs": [],
   "source": []
  }
 ],
 "metadata": {
  "kernelspec": {
   "display_name": "Python [dsi]",
   "language": "python",
   "name": "Python [dsi]"
  },
  "language_info": {
   "codemirror_mode": {
    "name": "ipython",
    "version": 2
   },
   "file_extension": ".py",
   "mimetype": "text/x-python",
   "name": "python",
   "nbconvert_exporter": "python",
   "pygments_lexer": "ipython2",
   "version": "2.7.12"
  }
 },
 "nbformat": 4,
 "nbformat_minor": 0
}

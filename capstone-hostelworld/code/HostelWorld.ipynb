{
 "cells": [
  {
   "cell_type": "code",
   "execution_count": 615,
   "metadata": {
    "collapsed": true
   },
   "outputs": [],
   "source": [
    "import numpy as np\n",
    "import scipy \n",
    "import seaborn as sns\n",
    "import pandas as pd\n",
    "import patsy\n",
    "import matplotlib\n",
    "import matplotlib.pyplot as plt\n",
    "from scrapy.selector import Selector\n",
    "from scrapy.http import HtmlResponse\n",
    "import requests\n",
    "import random\n",
    "import sys\n",
    "%config InlineBackend.figure_format = 'retina'\n",
    "%matplotlib inline\n",
    "plt.style.use('fivethirtyeight')\n"
   ]
  },
  {
   "cell_type": "code",
   "execution_count": 536,
   "metadata": {
    "collapsed": false
   },
   "outputs": [],
   "source": [
    "#                                      importing list of user numbers\n",
    "# users1 = pd.read_csv('/Users/caitlinmowdy/users2500.csv')\n",
    "# users2 = pd.read_csv('/Users/caitlinmowdy/users2.csv')\n",
    "# users3 = pd.read_csv('/Users/caitlinmowdy/user3.csv')\n",
    "\n",
    "# user_id_list=[]\n",
    "# for x in users1['0'].unique():\n",
    "#     user_id_list.append(x)\n",
    "# for x in users2['0'].unique():\n",
    "#     user_id_list.append(x)\n",
    "# for x in users3['0'].unique():\n",
    "#     user_id_list.append(x)\n"
   ]
  },
  {
   "cell_type": "code",
   "execution_count": 574,
   "metadata": {
    "collapsed": true
   },
   "outputs": [],
   "source": [
    "# import user_ids\n",
    "real_users1 = pd.read_csv('/Users/caitlinmowdy/real_users1.csv')\n",
    "real_users2 = pd.read_csv('/Users/caitlinmowdy/real_users2.csv')"
   ]
  },
  {
   "cell_type": "code",
   "execution_count": 584,
   "metadata": {
    "collapsed": true
   },
   "outputs": [],
   "source": [
    "# put user_ids in a lits\n",
    "real_user_id_list=[]\n",
    "for x in real_users1['0'].unique():\n",
    "    real_user_id_list.append(x)\n",
    "for x in real_users2['0'].unique():\n",
    "    real_user_id_list.append(x)"
   ]
  },
  {
   "cell_type": "code",
   "execution_count": 640,
   "metadata": {
    "collapsed": false
   },
   "outputs": [
    {
     "data": {
      "text/plain": [
       "2827"
      ]
     },
     "execution_count": 640,
     "metadata": {},
     "output_type": "execute_result"
    }
   ],
   "source": [
    "len(real_user_id_list)"
   ]
  },
  {
   "cell_type": "code",
   "execution_count": 599,
   "metadata": {
    "collapsed": true
   },
   "outputs": [],
   "source": [
    "# init DataFrames \n",
    "\n",
    "revs_df = pd.DataFrame()\n",
    "users_df = pd.DataFrame()\n",
    "hostels_df = pd.DataFrame()\n"
   ]
  },
  {
   "cell_type": "code",
   "execution_count": 638,
   "metadata": {
    "collapsed": false
   },
   "outputs": [
    {
     "name": "stdout",
     "output_type": "stream",
     "text": [
      "15.5642023346%"
     ]
    }
   ],
   "source": [
    "# Get details for user and rev DFs\n",
    "\n",
    "for i,user in enumerate(real_user_id_list[2382:]):\n",
    "    \n",
    "    rv_df = pd.DataFrame()\n",
    "    us_df = pd.DataFrame()\n",
    "    X = 'http://www.hostelworld.com/profile/' + str(user) + '/reviews'\n",
    "    response = requests.get(X)\n",
    "    HTML = response.text\n",
    "    \n",
    "    rv_df['text'] = Selector(text=HTML).xpath('//div[@id]/p/text()').extract()\n",
    "    rv_df['user_id'] = [user]*len(rv_df['text'])\n",
    "    rv_df['score'] = Selector(text=HTML).xpath(\"//div[@class='textrating']/text()\").extract()\n",
    "    rv_df['hostel'] = Selector(text=HTML).xpath(\"//div[@class='popupreviewlocation']/a/text()\").extract()\n",
    "    rv_df['location'] = Selector(text=HTML).xpath(\"//div[@class='popupreviewlocation']/span/text()\").extract()\n",
    "    rv_df['link'] = Selector(text=HTML).xpath(\"//div[@class='popupreviewlocation']/a/@href\").extract()\n",
    "    \n",
    "    us_df['user_id'] = [user]\n",
    "    us_df['about'] = [Selector(text=HTML).xpath(\"//li[@class='reviewerdetails']/text()\").extract()[0]] \n",
    "    us_df['num_revs']=len(rv_df['text'])\n",
    "    # us_df['avg_score'] = np.mean(df1['score']) \n",
    "     \n",
    "    if i%10 == 0:\n",
    "        sys.stdout.write('\\r'+ str((float(i)/len(real_user_id_list))*100)+'%')\n",
    "     \n",
    "    users_df = users_df.append(us_df,ignore_index=True)\n",
    "    revs_df = revs_df.append(rv_df,ignore_index=True)\n",
    "    "
   ]
  },
  {
   "cell_type": "code",
   "execution_count": 639,
   "metadata": {
    "collapsed": false
   },
   "outputs": [
    {
     "data": {
      "text/plain": [
       "((2828, 3), (5809, 6))"
      ]
     },
     "execution_count": 639,
     "metadata": {},
     "output_type": "execute_result"
    }
   ],
   "source": [
    "users_df.shape, revs_df.shape"
   ]
  },
  {
   "cell_type": "code",
   "execution_count": null,
   "metadata": {
    "collapsed": false
   },
   "outputs": [
    {
     "name": "stdout",
     "output_type": "stream",
     "text": [
      "17.895185343%"
     ]
    }
   ],
   "source": [
    "# get details for hostel DF\n",
    "hostels_df = pd.DataFrame()\n",
    "for i,url in enumerate(revs_df.link):\n",
    "    hst_df = pd.DataFrame()\n",
    "    X = str(url)\n",
    "    response = requests.get(X)\n",
    "    HTML = response.text\n",
    "    \n",
    "    free = Selector(text=HTML).xpath('//li[1]/div/p/text()').extract()\n",
    "    general = Selector(text=HTML).xpath('//li[2]/div/p').extract()\n",
    "    services = Selector(text=HTML).xpath('//li[3]/div/p').extract()\n",
    "    food_drink = Selector(text=HTML).xpath('//li[4]/div/p').extract()\n",
    "    entertainment = Selector(text=HTML).xpath('//li[5]/div/p').extract()\n",
    "    policies = Selector(text=HTML).xpath(\"//div[@id='panel4']/p\").extract()\n",
    "    ratings = Selector(text=HTML).xpath(\"//div[@class='ratingbox']/text()\").extract()\n",
    "    description = Selector(text=HTML).xpath(\"//div[@class='section-propertytext']/div[@class='prop-intro']/div[@class='microdetailstext hiddentext prop-text bigtext ']/text()\").extract()\n",
    "    hst = revs_df.hostel.iloc[i]\n",
    "    \n",
    "    if i%10 == 0:\n",
    "        sys.stdout.write('\\r'+ str((float(i)/len(revs_df.link))*100)+'%')\n",
    "        \n",
    "    if len(ratings) != 0:\n",
    "        if float(ratings[0]) != 0.0:\n",
    "\n",
    "            hst_df['rating'] = [float(ratings[0])]\n",
    "            hst_df['desc'] = [description]\n",
    "            hst_df['FREE'] = [free]\n",
    "            hst_df['GENERAL'] = [general] \n",
    "            hst_df['SERVICES'] = [services]\n",
    "            hst_df['FOOD_DRINK'] = [food_drink]\n",
    "            hst_df['ENTERTAINMENT'] = [entertainment]\n",
    "            hst_df['POLICIES'] = [policies]\n",
    "            hst_df['hostel']= hst\n",
    "        \n",
    "            hostels_df = hostels_df.append(hst_df,ignore_index=True)\n",
    "            \n",
    "        # else statment to del a rev from revs_df is the hostel no longer exists\n",
    "        else:\n",
    "            revs_df.drop(revs_df.index[i], inplace=True)\n",
    "    # else statment to del a rev from revs_df is the hostel no longer exists\n",
    "    else:\n",
    "        revs_df.drop(revs_df.index[i], inplace=True)"
   ]
  },
  {
   "cell_type": "code",
   "execution_count": 691,
   "metadata": {
    "collapsed": false
   },
   "outputs": [
    {
     "data": {
      "text/html": [
       "<div>\n",
       "<table border=\"1\" class=\"dataframe\">\n",
       "  <thead>\n",
       "    <tr style=\"text-align: right;\">\n",
       "      <th></th>\n",
       "      <th>rating</th>\n",
       "      <th>desc</th>\n",
       "      <th>FREE</th>\n",
       "      <th>GENERAL</th>\n",
       "      <th>SERVICES</th>\n",
       "      <th>FOOD_DRINK</th>\n",
       "      <th>ENTERTAINMENT</th>\n",
       "      <th>POLICIES</th>\n",
       "      <th>hostel</th>\n",
       "    </tr>\n",
       "  </thead>\n",
       "  <tbody>\n",
       "    <tr>\n",
       "      <th>0</th>\n",
       "      <td>8.4</td>\n",
       "      <td>[\\n                    Please confirm your che...</td>\n",
       "      <td>[\\n                                           ...</td>\n",
       "      <td>[&lt;p&gt;\\n                                        ...</td>\n",
       "      <td>[&lt;p&gt;\\n                                        ...</td>\n",
       "      <td>[&lt;p&gt;\\n                                        ...</td>\n",
       "      <td>[]</td>\n",
       "      <td>[&lt;p&gt;\\n            No Curfew&lt;i class=\"fa fa-cir...</td>\n",
       "      <td>Hostel Bell</td>\n",
       "    </tr>\n",
       "    <tr>\n",
       "      <th>1</th>\n",
       "      <td>8.5</td>\n",
       "      <td>[\\n                    Le Beau Site is a welco...</td>\n",
       "      <td>[\\n                                           ...</td>\n",
       "      <td>[&lt;p&gt;\\n                                        ...</td>\n",
       "      <td>[&lt;p&gt;\\n                                        ...</td>\n",
       "      <td>[&lt;p&gt;\\n                                        ...</td>\n",
       "      <td>[]</td>\n",
       "      <td>[&lt;p&gt;\\n            Child Friendly&lt;i class=\"fa f...</td>\n",
       "      <td>Beau Site</td>\n",
       "    </tr>\n",
       "    <tr>\n",
       "      <th>2</th>\n",
       "      <td>8.2</td>\n",
       "      <td>[\\n                    Old Prague Hostel is on...</td>\n",
       "      <td>[\\n                                           ...</td>\n",
       "      <td>[&lt;p&gt;\\n                                        ...</td>\n",
       "      <td>[&lt;p&gt;\\n                                        ...</td>\n",
       "      <td>[&lt;p&gt;\\n                                        ...</td>\n",
       "      <td>[&lt;p&gt;\\n                                        ...</td>\n",
       "      <td>[&lt;p&gt;\\n            No Curfew&lt;i class=\"fa fa-cir...</td>\n",
       "      <td>Old Prague Hostel</td>\n",
       "    </tr>\n",
       "    <tr>\n",
       "      <th>3</th>\n",
       "      <td>8.2</td>\n",
       "      <td>[\\n                    Â« Special offer till 2...</td>\n",
       "      <td>[\\n                                           ...</td>\n",
       "      <td>[&lt;p&gt;\\n                                        ...</td>\n",
       "      <td>[&lt;p&gt;\\n                                        ...</td>\n",
       "      <td>[&lt;p&gt;\\n                                        ...</td>\n",
       "      <td>[&lt;p&gt;\\n                                        ...</td>\n",
       "      <td>[&lt;p&gt;\\n            Credit Cards Accepted&lt;i clas...</td>\n",
       "      <td>Le Montclair Montmartre Hostel &amp; Budget Hotel</td>\n",
       "    </tr>\n",
       "    <tr>\n",
       "      <th>4</th>\n",
       "      <td>8.0</td>\n",
       "      <td>[\\n                    Charming hotel two star...</td>\n",
       "      <td>[\\n                                           ...</td>\n",
       "      <td>[&lt;p&gt;\\n                                        ...</td>\n",
       "      <td>[&lt;p&gt;\\n                                        ...</td>\n",
       "      <td>[]</td>\n",
       "      <td>[]</td>\n",
       "      <td>[&lt;p&gt;\\n            Credit Cards Accepted&lt;i clas...</td>\n",
       "      <td>Hotel de la Tour Eiffel</td>\n",
       "    </tr>\n",
       "  </tbody>\n",
       "</table>\n",
       "</div>"
      ],
      "text/plain": [
       "   rating                                               desc  \\\n",
       "0     8.4  [\\n                    Please confirm your che...   \n",
       "1     8.5  [\\n                    Le Beau Site is a welco...   \n",
       "2     8.2  [\\n                    Old Prague Hostel is on...   \n",
       "3     8.2  [\\n                    Â« Special offer till 2...   \n",
       "4     8.0  [\\n                    Charming hotel two star...   \n",
       "\n",
       "                                                FREE  \\\n",
       "0  [\\n                                           ...   \n",
       "1  [\\n                                           ...   \n",
       "2  [\\n                                           ...   \n",
       "3  [\\n                                           ...   \n",
       "4  [\\n                                           ...   \n",
       "\n",
       "                                             GENERAL  \\\n",
       "0  [<p>\\n                                        ...   \n",
       "1  [<p>\\n                                        ...   \n",
       "2  [<p>\\n                                        ...   \n",
       "3  [<p>\\n                                        ...   \n",
       "4  [<p>\\n                                        ...   \n",
       "\n",
       "                                            SERVICES  \\\n",
       "0  [<p>\\n                                        ...   \n",
       "1  [<p>\\n                                        ...   \n",
       "2  [<p>\\n                                        ...   \n",
       "3  [<p>\\n                                        ...   \n",
       "4  [<p>\\n                                        ...   \n",
       "\n",
       "                                          FOOD_DRINK  \\\n",
       "0  [<p>\\n                                        ...   \n",
       "1  [<p>\\n                                        ...   \n",
       "2  [<p>\\n                                        ...   \n",
       "3  [<p>\\n                                        ...   \n",
       "4                                                 []   \n",
       "\n",
       "                                       ENTERTAINMENT  \\\n",
       "0                                                 []   \n",
       "1                                                 []   \n",
       "2  [<p>\\n                                        ...   \n",
       "3  [<p>\\n                                        ...   \n",
       "4                                                 []   \n",
       "\n",
       "                                            POLICIES  \\\n",
       "0  [<p>\\n            No Curfew<i class=\"fa fa-cir...   \n",
       "1  [<p>\\n            Child Friendly<i class=\"fa f...   \n",
       "2  [<p>\\n            No Curfew<i class=\"fa fa-cir...   \n",
       "3  [<p>\\n            Credit Cards Accepted<i clas...   \n",
       "4  [<p>\\n            Credit Cards Accepted<i clas...   \n",
       "\n",
       "                                          hostel  \n",
       "0                                    Hostel Bell  \n",
       "1                                      Beau Site  \n",
       "2                              Old Prague Hostel  \n",
       "3  Le Montclair Montmartre Hostel & Budget Hotel  \n",
       "4                        Hotel de la Tour Eiffel  "
      ]
     },
     "execution_count": 691,
     "metadata": {},
     "output_type": "execute_result"
    }
   ],
   "source": [
    "hostels_df.head()"
   ]
  },
  {
   "cell_type": "code",
   "execution_count": null,
   "metadata": {
    "collapsed": true
   },
   "outputs": [],
   "source": [
    "# code to remove html tags from data \n",
    "import re\n",
    "TAG_RE = re.compile(r'<[^>]+>')\n",
    "\n",
    "def remove_tags(text):\n",
    "    return TAG_RE.sub('', text)"
   ]
  },
  {
   "cell_type": "code",
   "execution_count": null,
   "metadata": {
    "collapsed": true
   },
   "outputs": [],
   "source": []
  },
  {
   "cell_type": "code",
   "execution_count": null,
   "metadata": {
    "collapsed": true
   },
   "outputs": [],
   "source": [
    "#   df1['age'] = Selector(text=HTML).xpath(\"//li[@class='reviewerrank']/text()\").extract()\n",
    "#   df1['nationality'] = Selector(text=HTML).xpath(\"//li[@class='reviewerdetails']/text()\").extract()\n",
    "\n",
    "# df[\"country\"],df[\"group\"],df[\"age\"] = zip(*df[\"about\"].str.split().tolist())\n",
    "# del df['about']\n",
    "# df.head()"
   ]
  },
  {
   "cell_type": "code",
   "execution_count": null,
   "metadata": {
    "collapsed": true
   },
   "outputs": [],
   "source": []
  },
  {
   "cell_type": "code",
   "execution_count": null,
   "metadata": {
    "collapsed": true
   },
   "outputs": [],
   "source": []
  },
  {
   "cell_type": "code",
   "execution_count": null,
   "metadata": {
    "collapsed": true
   },
   "outputs": [],
   "source": [
    "#         new_hostels['GENERAL'] = Selector(text=HTML).xpath('//li[2]/div/p').extract()\n",
    "#         new_hostels['SERVICES'] = Selector(text=HTML).xpath('//li[3]/div/p').extract()\n",
    "#         new_hostels['FOOD_DRINK'] = Selector(text=HTML).xpath('//li[4]/div/p').extract()\n",
    "#         new_hostels['ENTERTAINMENT'] = Selector(text=HTML).xpath('//li[5]/div/p').extract()\n",
    "#         new_hostels['POLICIES'] = Selector(text=HTML).xpath(\"//div[@id='panel4']/p\").extract()"
   ]
  },
  {
   "cell_type": "code",
   "execution_count": null,
   "metadata": {
    "collapsed": true
   },
   "outputs": [],
   "source": [
    "#                                           test with one user number\n",
    "\n",
    "# df_test = pd.DataFrame()\n",
    "\n",
    "# X = 'http://www.hostelworld.com/profile/14645677/reviews'\n",
    "# response = requests.get(X)\n",
    "# HTML = response.text\n",
    "\n",
    "# df_test['user'] =[14645677]*4\n",
    "# df_test['text'] = Selector(text=HTML).xpath('//div[@id]/p/text()').extract()\n",
    "# df_test['score'] = Selector(text=HTML).xpath(\"//div[@class='textrating']/text()\").extract()\n",
    "# df_test['hostel'] = Selector(text=HTML).xpath(\"//div[@class='popupreviewlocation']/a/text()\").extract()\n",
    "# df_test['location'] = Selector(text=HTML).xpath(\"//div[@class='popupreviewlocation']/span/text()\").extract()\n",
    "# df_test['about'] =  Selector(text=HTML).xpath(\"//li[@class='reviewerdetails']/text()\").extract()"
   ]
  },
  {
   "cell_type": "code",
   "execution_count": null,
   "metadata": {
    "collapsed": true
   },
   "outputs": [],
   "source": [
    "# Split user.about into thee columns\n",
    "# df_test[\"country\"],df_test[\"group\"],df_test[\"age\"] = zip(*df_test[\"about\"].str.split().tolist())\n",
    "# del df_test['about']"
   ]
  },
  {
   "cell_type": "code",
   "execution_count": null,
   "metadata": {
    "collapsed": true
   },
   "outputs": [],
   "source": [
    "#                                          Hostel details for one hostel\n",
    "\n",
    "# hostels = pd.DataFrame()\n",
    "# X = 'http://www.hostelworld.com/hosteldetails.php/Fat-Cod-Backpackers/Picton/2899'\n",
    "# response = requests.get(X)\n",
    "# HTML = response.text\n",
    "\n",
    "# hostels['rating'] = Selector(text=HTML).xpath(\"normalize-space(//div[@class='microsite_rating clearfix']/div[@class='ratingbox'])\").extract()\n",
    "# hostels['Description'] = [Selector(text=HTML).xpath(\"//div[@class='section-propertytext']/div[@class='prop-intro']/div[@class='microdetailstext hiddentext prop-text bigtext ']/text()\").extract()]\n",
    "# hostels['FREE'] = Selector(text=HTML).xpath('//li[1]/div/p').extract()\n",
    "# hostels['GENERAL'] = Selector(text=HTML).xpath('//li[2]/div/p').extract()\n",
    "# hostels['SERVICES'] = Selector(text=HTML).xpath('//li[3]/div/p').extract()\n",
    "# hostels['FOOD_DRINK'] = Selector(text=HTML).xpath('//li[4]/div/p').extract()\n",
    "# hostels['ENTERTAINMENT'] = Selector(text=HTML).xpath('//li[5]/div/p').extract()\n",
    "# hostels['POLICIES'] = Selector(text=HTML).xpath(\"//div[@id='panel4']/p\").extract()"
   ]
  }
 ],
 "metadata": {
  "kernelspec": {
   "display_name": "Python [dsi]",
   "language": "python",
   "name": "Python [dsi]"
  },
  "language_info": {
   "codemirror_mode": {
    "name": "ipython",
    "version": 2
   },
   "file_extension": ".py",
   "mimetype": "text/x-python",
   "name": "python",
   "nbconvert_exporter": "python",
   "pygments_lexer": "ipython2",
   "version": "2.7.12"
  }
 },
 "nbformat": 4,
 "nbformat_minor": 0
}

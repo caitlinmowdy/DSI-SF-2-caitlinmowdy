{
 "cells": [
  {
   "cell_type": "markdown",
   "metadata": {},
   "source": [
    "# Collecting Raw Data"
   ]
  },
  {
   "cell_type": "code",
   "execution_count": 6,
   "metadata": {
    "collapsed": true
   },
   "outputs": [],
   "source": [
    "import numpy as np\n",
    "import scipy \n",
    "import seaborn as sns\n",
    "import pandas as pd\n",
    "import patsy\n",
    "import matplotlib\n",
    "import matplotlib.pyplot as plt\n",
    "from scrapy.selector import Selector\n",
    "from scrapy.http import HtmlResponse\n",
    "import requests\n",
    "import random\n",
    "import sys\n",
    "%config InlineBackend.figure_format = 'retina'\n",
    "%matplotlib inline\n",
    "plt.style.use('fivethirtyeight')\n",
    "from IPython.display import display\n",
    "from bs4 import BeautifulSoup"
   ]
  },
  {
   "cell_type": "code",
   "execution_count": 7,
   "metadata": {
    "collapsed": true
   },
   "outputs": [],
   "source": [
    "# import user_ids\n",
    "\n",
    "real_users1 = pd.read_csv('/Users/caitlinmowdy/Desktop/DSI-SF-2-caitlinmowdy/capstone-hostelworld/raw-data/real_users1.csv')\n",
    "real_users2 = pd.read_csv('/Users/caitlinmowdy/Desktop/DSI-SF-2-caitlinmowdy/capstone-hostelworld/raw-data/real_users2.csv')\n",
    "real_users3 = pd.read_csv('/Users/caitlinmowdy/Desktop/DSI-SF-2-caitlinmowdy/capstone-hostelworld/raw-data/real_users3.csv')\n",
    "real_users4 = pd.read_csv('/Users/caitlinmowdy/Desktop/DSI-SF-2-caitlinmowdy/capstone-hostelworld/raw-data/real_users4.csv')"
   ]
  },
  {
   "cell_type": "code",
   "execution_count": 8,
   "metadata": {
    "collapsed": true
   },
   "outputs": [],
   "source": [
    "# get list of unique user_ids\n",
    "\n",
    "users = pd.DataFrame()\n",
    "users = users.append(real_users1,ignore_index=True)\n",
    "users = users.append(real_users2,ignore_index=True)\n",
    "users = users.append(real_users3,ignore_index=True)\n",
    "users = users.append(real_users4,ignore_index=True)\n",
    "user_id_list = users['0'].unique()"
   ]
  },
  {
   "cell_type": "code",
   "execution_count": 9,
   "metadata": {
    "collapsed": true
   },
   "outputs": [],
   "source": [
    "# init DataFrames \n",
    "\n",
    "revs_df = pd.DataFrame()\n",
    "users_df = pd.DataFrame()\n",
    "hostels_df = pd.DataFrame()"
   ]
  },
  {
   "cell_type": "markdown",
   "metadata": {},
   "source": [
    "# Scrape for Users and Revs Data"
   ]
  },
  {
   "cell_type": "code",
   "execution_count": 10,
   "metadata": {
    "collapsed": false
   },
   "outputs": [
    {
     "name": "stdout",
     "output_type": "stream",
     "text": [
      "98.6696230599%"
     ]
    }
   ],
   "source": [
    "# Get details for user and rev DFs\n",
    "\n",
    "for i,user in enumerate(user_id_list[50:]):\n",
    "    \n",
    "    rv_df = pd.DataFrame()\n",
    "    us_df = pd.DataFrame()\n",
    "    X = 'http://www.hostelworld.com/profile/' + str(user) + '/reviews'\n",
    "    response = requests.get(X)\n",
    "    HTML = response.text\n",
    "    \n",
    "    rv_df['text'] = Selector(text=HTML).xpath('//div[@id]/p/text()').extract()\n",
    "    rv_df['user_id'] = [user]*len(rv_df['text'])\n",
    "    rv_df['score'] = Selector(text=HTML).xpath(\"//div[@class='textrating']/text()\").extract()\n",
    "    rv_df['hostel'] = Selector(text=HTML).xpath(\"//div[@class='popupreviewlocation']/a/text()\").extract()\n",
    "    rv_df['location'] = Selector(text=HTML).xpath(\"//div[@class='popupreviewlocation']/span/text()\").extract()\n",
    "    rv_df['link'] = Selector(text=HTML).xpath(\"//div[@class='popupreviewlocation']/a/@href\").extract()\n",
    "    \n",
    "    us_df['user_id'] = [user]\n",
    "    us_df['about'] = [Selector(text=HTML).xpath(\"//li[@class='reviewerdetails']/text()\").extract()[0]] \n",
    "    us_df['num_revs']=len(rv_df['text'])\n",
    "    # us_df['avg_score'] = np.mean(df1['score']) \n",
    "  \n",
    "    \n",
    "    if i%10 == 0:\n",
    "        sys.stdout.write('\\r'+ str((float(i)/len(user_id_list))*100)+'%')\n",
    "     \n",
    "    users_df = users_df.append(us_df,ignore_index=True)\n",
    "    revs_df = revs_df.append(rv_df,ignore_index=True)\n",
    "    "
   ]
  },
  {
   "cell_type": "code",
   "execution_count": null,
   "metadata": {
    "collapsed": true
   },
   "outputs": [],
   "source": [
    "\n",
    "users_df.shape, revs_df.shape"
   ]
  },
  {
   "cell_type": "code",
   "execution_count": null,
   "metadata": {
    "collapsed": true
   },
   "outputs": [],
   "source": [
    "# save user and rev dfs\n",
    "\n",
    "users_df.to_csv(path_or_buf='/Users/caitlinmowdy/Desktop/DSI-SF-2-caitlinmowdy/capstone-hostelworld/raw-data/raw_users3.csv', encoding='utf8')\n",
    "revs_df.to_csv(path_or_buf='/Users/caitlinmowdy/Desktop/DSI-SF-2-caitlinmowdy/capstone-hostelworld/raw-data/raw_revs3.csv',encoding='utf8')"
   ]
  },
  {
   "cell_type": "markdown",
   "metadata": {},
   "source": [
    "# Scrape for Hostels Data"
   ]
  },
  {
   "cell_type": "code",
   "execution_count": null,
   "metadata": {
    "collapsed": false
   },
   "outputs": [
    {
     "name": "stdout",
     "output_type": "stream",
     "text": [
      "0.420698359276%"
     ]
    }
   ],
   "source": [
    "# Get data for hostels \n",
    "\n",
    "for i,url in enumerate(revs_df.link):\n",
    "    hst_df = pd.DataFrame()\n",
    "    X = str(url)\n",
    "    response = requests.get(X)\n",
    "    HTML = response.text\n",
    "    \n",
    "    free = Selector(text=HTML).xpath('//li[1]/div/p/text()').extract()\n",
    "    general = Selector(text=HTML).xpath('//li[2]/div/p').extract()\n",
    "    services = Selector(text=HTML).xpath('//li[3]/div/p').extract()\n",
    "    food_drink = Selector(text=HTML).xpath('//li[4]/div/p').extract()\n",
    "    entertainment = Selector(text=HTML).xpath('//li[5]/div/p').extract()\n",
    "    policies = Selector(text=HTML).xpath(\"//div[@id='panel4']/p\").extract()\n",
    "    ratings = Selector(text=HTML).xpath(\"//div[@class='ratingbox']/text()\").extract()\n",
    "    description = Selector(text=HTML).xpath(\"//div[@class='section-propertytext']/div[@class='prop-intro']/div[@class='microdetailstext hiddentext prop-text bigtext ']/text()\").extract()\n",
    "    hst = revs_df.hostel.iloc[i]\n",
    "    loc = revs_df.location.iloc[i]\n",
    "    \n",
    "    if i%10 == 0:\n",
    "        sys.stdout.write('\\r'+ str((float(i)/len(revs_df.link))*100)+'%')\n",
    "        \n",
    "    if len(ratings) != 0:\n",
    "        if float(ratings[0]) != 0.0:\n",
    "\n",
    "            hst_df['rating'] = [float(ratings[0])]\n",
    "            hst_df['desc'] = [description]\n",
    "            hst_df['FREE'] = [free]\n",
    "            hst_df['GENERAL'] = [general] \n",
    "            hst_df['SERVICES'] = [services]\n",
    "            hst_df['FOOD_DRINK'] = [food_drink]\n",
    "            hst_df['ENTERTAINMENT'] = [entertainment]\n",
    "            hst_df['POLICIES'] = [policies]\n",
    "            hst_df['hostel']= hst\n",
    "            hst_df['location']= loc\n",
    "        \n",
    "            hostels_df = hostels_df.append(hst_df,ignore_index=True)\n",
    "            \n",
    "        # else statment to del a rev from revs_df is the hostel no longer exists\n",
    "        else:\n",
    "            revs_df.drop(revs_df.index[i], inplace=True)\n",
    "    # else statment to del a rev from revs_df is the hostel no longer exists\n",
    "    else:\n",
    "        revs_df.drop(revs_df.index[i], inplace=True)"
   ]
  },
  {
   "cell_type": "code",
   "execution_count": null,
   "metadata": {
    "collapsed": true
   },
   "outputs": [],
   "source": [
    "\n",
    "users_df.shape, revs_df.shape, hostels_df.shape"
   ]
  },
  {
   "cell_type": "code",
   "execution_count": null,
   "metadata": {
    "collapsed": true
   },
   "outputs": [],
   "source": [
    "# save hostels df\n",
    "\n",
    "hostels_df.to_csv(path_or_buf='/Users/caitlinmowdy/Desktop/DSI-SF-2-caitlinmowdy/capstone-hostelworld/raw-data/raw_hostels3.csv',encoding='utf8')"
   ]
  },
  {
   "cell_type": "code",
   "execution_count": null,
   "metadata": {
    "collapsed": true
   },
   "outputs": [],
   "source": []
  }
 ],
 "metadata": {
  "anaconda-cloud": {},
  "kernelspec": {
   "display_name": "Python [dsi]",
   "language": "python",
   "name": "Python [dsi]"
  },
  "language_info": {
   "codemirror_mode": {
    "name": "ipython",
    "version": 2
   },
   "file_extension": ".py",
   "mimetype": "text/x-python",
   "name": "python",
   "nbconvert_exporter": "python",
   "pygments_lexer": "ipython2",
   "version": "2.7.12"
  }
 },
 "nbformat": 4,
 "nbformat_minor": 0
}

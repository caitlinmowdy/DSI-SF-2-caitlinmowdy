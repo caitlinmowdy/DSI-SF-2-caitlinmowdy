{
 "cells": [
  {
   "cell_type": "markdown",
   "metadata": {},
   "source": [
    "# Collecting Raw Data"
   ]
  },
  {
   "cell_type": "code",
   "execution_count": 1,
   "metadata": {
    "collapsed": true
   },
   "outputs": [],
   "source": [
    "import numpy as np\n",
    "import scipy \n",
    "import seaborn as sns\n",
    "import pandas as pd\n",
    "import patsy\n",
    "import matplotlib\n",
    "import matplotlib.pyplot as plt\n",
    "from scrapy.selector import Selector\n",
    "from scrapy.http import HtmlResponse\n",
    "import requests\n",
    "import random\n",
    "import sys\n",
    "from IPython.display import display\n",
    "from bs4 import BeautifulSoup\n",
    "from IPython.display import display"
   ]
  },
  {
   "cell_type": "code",
   "execution_count": 101,
   "metadata": {
    "collapsed": false
   },
   "outputs": [
    {
     "data": {
      "text/plain": [
       "15692"
      ]
     },
     "execution_count": 101,
     "metadata": {},
     "output_type": "execute_result"
    }
   ],
   "source": [
    "# import user ids\n",
    "users = pd.read_csv('/Users/caitlinmowdy/Desktop/DSI-SF-2-caitlinmowdy/capstone-hostelworld/raw-data/user_ids_sep29')\n",
    "\n",
    "# put user ids in list\n",
    "user_id_list = users['0'].unique()\n",
    "len(user_id_list)"
   ]
  },
  {
   "cell_type": "code",
   "execution_count": 18,
   "metadata": {
    "collapsed": true
   },
   "outputs": [],
   "source": [
    "# init DataFrames \n",
    "\n",
    "revs_df = pd.DataFrame()\n",
    "users_df = pd.DataFrame()\n",
    "hostels_df = pd.DataFrame()"
   ]
  },
  {
   "cell_type": "markdown",
   "metadata": {},
   "source": [
    "# Scrape for Users and Revs Data"
   ]
  },
  {
   "cell_type": "code",
   "execution_count": 32,
   "metadata": {
    "collapsed": false
   },
   "outputs": [
    {
     "name": "stdout",
     "output_type": "stream",
     "text": [
      "99.8260113093%"
     ]
    }
   ],
   "source": [
    "# Get details for user and rev DFs\n",
    "\n",
    "for i,user in enumerate(user_id_list):\n",
    "    \n",
    "    rv_df = pd.DataFrame()\n",
    "    us_df = pd.DataFrame()\n",
    "    X = 'http://www.hostelworld.com/profile/' + str(user) + '/reviews'\n",
    "    response = requests.get(X)\n",
    "    HTML = response.text\n",
    "    \n",
    "    rv_df['text'] = Selector(text=HTML).xpath('//div[@id]/p/text()').extract()\n",
    "    rv_df['user_id'] = [user]*len(rv_df['text'])\n",
    "    rv_df['rev_date'] = Selector(text=HTML).xpath(\"//span[@class='reviewdate']/text()\").extract()\n",
    "    rv_df['score'] = Selector(text=HTML).xpath(\"//div[@class='textrating']/text()\").extract()\n",
    "    rv_df['hostel'] = Selector(text=HTML).xpath(\"//div[@class='popupreviewlocation']/a/text()\").extract()\n",
    "    rv_df['location'] = Selector(text=HTML).xpath(\"//div[@class='popupreviewlocation']/span/text()\").extract()\n",
    "    rv_df['link'] = Selector(text=HTML).xpath(\"//div[@class='popupreviewlocation']/a/@href\").extract()\n",
    "\n",
    "    us_df['user_id'] = [user]\n",
    "    us_df['about'] = [Selector(text=HTML).xpath(\"//li[@class='reviewerdetails']/text()\").extract()[0]] \n",
    "    us_df['num_revs']=len(rv_df['text']) \n",
    "  \n",
    "    # prints out progress\n",
    "    if i%10 == 0:\n",
    "        sys.stdout.write('\\r'+ str((float(i)/len(user_id_list))*100)+'%')\n",
    "     \n",
    "    users_df = users_df.append(us_df,ignore_index=True)\n",
    "    revs_df = revs_df.append(rv_df,ignore_index=True)\n",
    "    "
   ]
  },
  {
   "cell_type": "code",
   "execution_count": 33,
   "metadata": {
    "collapsed": false
   },
   "outputs": [
    {
     "data": {
      "text/plain": [
       "((15777, 3), (33494, 7))"
      ]
     },
     "execution_count": 33,
     "metadata": {},
     "output_type": "execute_result"
    }
   ],
   "source": [
    "\n",
    "users_df.shape, revs_df.shape"
   ]
  },
  {
   "cell_type": "code",
   "execution_count": 28,
   "metadata": {
    "collapsed": false
   },
   "outputs": [
    {
     "data": {
      "text/plain": [
       "'users_df.head(2)'"
      ]
     },
     "metadata": {},
     "output_type": "display_data"
    },
    {
     "data": {
      "text/html": [
       "<div>\n",
       "<table border=\"1\" class=\"dataframe\">\n",
       "  <thead>\n",
       "    <tr style=\"text-align: right;\">\n",
       "      <th></th>\n",
       "      <th>user_id</th>\n",
       "      <th>about</th>\n",
       "      <th>num_revs</th>\n",
       "    </tr>\n",
       "  </thead>\n",
       "  <tbody>\n",
       "    <tr>\n",
       "      <th>0</th>\n",
       "      <td>4929738</td>\n",
       "      <td>\\n                                            ...</td>\n",
       "      <td>1</td>\n",
       "    </tr>\n",
       "    <tr>\n",
       "      <th>1</th>\n",
       "      <td>3151081</td>\n",
       "      <td>\\n                                            ...</td>\n",
       "      <td>2</td>\n",
       "    </tr>\n",
       "  </tbody>\n",
       "</table>\n",
       "</div>"
      ],
      "text/plain": [
       "   user_id                                              about  num_revs\n",
       "0  4929738  \\n                                            ...         1\n",
       "1  3151081  \\n                                            ...         2"
      ]
     },
     "metadata": {},
     "output_type": "display_data"
    },
    {
     "data": {
      "text/plain": [
       "'revs_df.head(2)'"
      ]
     },
     "metadata": {},
     "output_type": "display_data"
    },
    {
     "data": {
      "text/html": [
       "<div>\n",
       "<table border=\"1\" class=\"dataframe\">\n",
       "  <thead>\n",
       "    <tr style=\"text-align: right;\">\n",
       "      <th></th>\n",
       "      <th>text</th>\n",
       "      <th>user_id</th>\n",
       "      <th>rev_date</th>\n",
       "      <th>score</th>\n",
       "      <th>hostel</th>\n",
       "      <th>location</th>\n",
       "      <th>link</th>\n",
       "    </tr>\n",
       "  </thead>\n",
       "  <tbody>\n",
       "    <tr>\n",
       "      <th>0</th>\n",
       "      <td>I really enjoyed staying at this hostel.That w...</td>\n",
       "      <td>4929738</td>\n",
       "      <td>29th Feb 2008</td>\n",
       "      <td>10.0</td>\n",
       "      <td>Smile Hostal</td>\n",
       "      <td>Lisbon, Portugal</td>\n",
       "      <td>http://www.hostelworld.com/hosteldetails.php/S...</td>\n",
       "    </tr>\n",
       "    <tr>\n",
       "      <th>1</th>\n",
       "      <td>excellent hostel.  definitely planning on retu...</td>\n",
       "      <td>3151081</td>\n",
       "      <td>5th Aug 2006</td>\n",
       "      <td>10.0</td>\n",
       "      <td>Alberguinn Youth Hostel</td>\n",
       "      <td>Barcelona, Spain</td>\n",
       "      <td>http://www.hostelworld.com/hosteldetails.php/A...</td>\n",
       "    </tr>\n",
       "  </tbody>\n",
       "</table>\n",
       "</div>"
      ],
      "text/plain": [
       "                                                text  user_id        rev_date  \\\n",
       "0  I really enjoyed staying at this hostel.That w...  4929738   29th Feb 2008   \n",
       "1  excellent hostel.  definitely planning on retu...  3151081    5th Aug 2006   \n",
       "\n",
       "  score                   hostel          location  \\\n",
       "0  10.0             Smile Hostal  Lisbon, Portugal   \n",
       "1  10.0  Alberguinn Youth Hostel  Barcelona, Spain   \n",
       "\n",
       "                                                link  \n",
       "0  http://www.hostelworld.com/hosteldetails.php/S...  \n",
       "1  http://www.hostelworld.com/hosteldetails.php/A...  "
      ]
     },
     "metadata": {},
     "output_type": "display_data"
    }
   ],
   "source": [
    "\n",
    "display(\"users_df.head(2)\",users_df.head(2),'revs_df.head(2)',revs_df.head(2))"
   ]
  },
  {
   "cell_type": "code",
   "execution_count": 94,
   "metadata": {
    "collapsed": true
   },
   "outputs": [],
   "source": [
    "# save user and revs dfs\n",
    "\n",
    "users_df.to_csv(path_or_buf='/Users/caitlinmowdy/Desktop/DSI-SF-2-caitlinmowdy/capstone-hostelworld/raw-data/raw_users_sep29_4.csv', encoding='utf8')\n",
    "revs_df.to_csv(path_or_buf='/Users/caitlinmowdy/Desktop/DSI-SF-2-caitlinmowdy/capstone-hostelworld/raw-data/raw_revs_sep29_4.csv',encoding='utf8')"
   ]
  },
  {
   "cell_type": "markdown",
   "metadata": {},
   "source": [
    "# Scrape for Hostels Data"
   ]
  },
  {
   "cell_type": "code",
   "execution_count": 79,
   "metadata": {
    "collapsed": false
   },
   "outputs": [
    {
     "name": "stdout",
     "output_type": "stream",
     "text": [
      "CPU times: user 2 µs, sys: 1e+03 ns, total: 3 µs\n",
      "Wall time: 6.91 µs\n",
      "99.922796956%"
     ]
    }
   ],
   "source": [
    "# Get data for hostels \n",
    "\n",
    "%time\n",
    "# List to collect hostels that no longer exist\n",
    "hostels_DNE = []\n",
    "\n",
    "for i,url in enumerate(revs_df.link):\n",
    "\n",
    "    hst_df = pd.DataFrame()\n",
    "    X = str(url)\n",
    "    response = requests.get(X)\n",
    "    HTML = response.text\n",
    "    \n",
    "    free = Selector(text=HTML).xpath('//li[1]/div/p/text()').extract()\n",
    "    general = Selector(text=HTML).xpath('//li[2]/div/p').extract()\n",
    "    services = Selector(text=HTML).xpath('//li[3]/div/p').extract()\n",
    "    food_drink = Selector(text=HTML).xpath('//li[4]/div/p').extract()\n",
    "    entertainment = Selector(text=HTML).xpath('//li[5]/div/p').extract()\n",
    "    policies = Selector(text=HTML).xpath(\"//div[@id='panel4']/p\").extract()\n",
    "    ratings = Selector(text=HTML).xpath(\"//div[@class='ratingbox']/text()\").extract()\n",
    "    description = Selector(text=HTML).xpath(\"//div[@class='section-propertytext']/div[@class='prop-intro']/div[@class='microdetailstext hiddentext prop-text bigtext ']/text()\").extract()\n",
    "    awards = len(Selector(text=HTML).xpath(\"//ul[@class='small-block-grid-1 medium-block-grid-2 large-block-grid-3']/li/b/text()\").extract())\n",
    "    num_rev = str(Selector(text=HTML).xpath(\"//div[@class='microsite_rating clearfix']/div/span[@class='reviews-count']/text()\").extract()).split(\" \")[0]\n",
    "    rev_hl = Selector(text=HTML).xpath(\"//div[@class='small-12 medium-4 large-3 columns hide-for-small']/div/ul/li/span[@class='ratingfactorlabel']\").extract()\n",
    "    \n",
    "    hst = revs_df.hostel.iloc[i]\n",
    "    loc = revs_df.location.iloc[i]\n",
    "    \n",
    "    # prints out progress\n",
    "    if i%10 == 0:\n",
    "        sys.stdout.write('\\r'+ str((float(i)/len(revs_df.link))*100)+'%')\n",
    "        \n",
    "    # if statements to make sure the link goes to a hostel that still exist\n",
    "    if len(ratings) != 0:\n",
    "        if float(ratings[0]) != 0.0:\n",
    "\n",
    "            hst_df['rating'] = [float(ratings[0])]\n",
    "            hst_df['desc'] = [description]\n",
    "            hst_df['FREE'] = [free]\n",
    "            hst_df['GENERAL'] = [general] \n",
    "            hst_df['SERVICES'] = [services]\n",
    "            hst_df['FOOD_DRINK'] = [food_drink]\n",
    "            hst_df['ENTERTAINMENT'] = [entertainment]\n",
    "            hst_df['POLICIES'] = [policies]\n",
    "            hst_df['hostel']= hst\n",
    "            hst_df['location']= loc\n",
    "            hst_df['num_revs'] = num_rev\n",
    "            hst_df['num_awards'] = awards\n",
    "            hst_df['rev_highlights'] = [rev_hl]\n",
    "        \n",
    "            hostels_df = hostels_df.append(hst_df,ignore_index=True)\n",
    "            \n",
    "        # else statment to collect index where hostles no longer exist\n",
    "        else:\n",
    "            hostels_DNE.append(i)\n",
    "    # else statment to collect index where hostles no longer exist\n",
    "    else:\n",
    "        hostels_DNE.append(i)"
   ]
  },
  {
   "cell_type": "code",
   "execution_count": 83,
   "metadata": {
    "collapsed": false
   },
   "outputs": [],
   "source": [
    "hostels_df.to_csv(path_or_buf='/Users/caitlinmowdy/Desktop/DSI-SF-2-caitlinmowdy/capstone-hostelworld/raw-data/raw_hostels_oct4.csv',encoding='utf8')"
   ]
  },
  {
   "cell_type": "code",
   "execution_count": 82,
   "metadata": {
    "collapsed": false
   },
   "outputs": [
    {
     "data": {
      "text/plain": [
       "((15613, 4), (33183, 8), (23003, 13))"
      ]
     },
     "execution_count": 82,
     "metadata": {},
     "output_type": "execute_result"
    }
   ],
   "source": [
    "\n",
    "users_df.shape, revs_df.shape, hostels_df.shape"
   ]
  },
  {
   "cell_type": "markdown",
   "metadata": {},
   "source": [
    "## Drop duplicates and Hostels that DNE\n",
    "- Del reviews coresponding to hostels that do not exist \n",
    "- Del users that only reviewed hostels that do not exist\n",
    "- Drop duplicates from hostels"
   ]
  },
  {
   "cell_type": "code",
   "execution_count": 84,
   "metadata": {
    "collapsed": false
   },
   "outputs": [],
   "source": [
    "# get rid of rows in revs df that corespond to hostels in hostels_DNE list\n",
    "\n",
    "hostels_E =[i for i in revs_df.index if i not in hostels_DNE] \n",
    "revs_df_exist = revs_df.loc[revs_df.index.isin(hostels_E)].reset_index()\n",
    "del revs_df_exist['index']"
   ]
  },
  {
   "cell_type": "code",
   "execution_count": 88,
   "metadata": {
    "collapsed": false
   },
   "outputs": [],
   "source": [
    "# del users that only reviewed hostels that no longer exist\n",
    "\n",
    "revs_exist_uid =[u for u in revs_df_exist.user_id]\n",
    "users_df_revE = users_df.loc[users_df.user_id.isin(revs_exist_uid)].reset_index()\n",
    "del users_df_revE['index']"
   ]
  },
  {
   "cell_type": "code",
   "execution_count": 89,
   "metadata": {
    "collapsed": false
   },
   "outputs": [
    {
     "data": {
      "text/plain": [
       "((11498, 4), (23003, 8), (23003, 13))"
      ]
     },
     "execution_count": 89,
     "metadata": {},
     "output_type": "execute_result"
    }
   ],
   "source": [
    "# new revs and hostels df should be same length\n",
    "\n",
    "users_df_revE.shape, revs_df_exist.shape, hostels_df.shape"
   ]
  },
  {
   "cell_type": "code",
   "execution_count": 105,
   "metadata": {
    "collapsed": false
   },
   "outputs": [
    {
     "data": {
      "text/plain": [
       "5642"
      ]
     },
     "execution_count": 105,
     "metadata": {},
     "output_type": "execute_result"
    }
   ],
   "source": [
    "# look at hostel repeats\n",
    "\n",
    "len(revs_df_exist.hostel.unique())"
   ]
  },
  {
   "cell_type": "code",
   "execution_count": 114,
   "metadata": {
    "collapsed": false
   },
   "outputs": [
    {
     "data": {
      "text/html": [
       "<div>\n",
       "<table border=\"1\" class=\"dataframe\">\n",
       "  <thead>\n",
       "    <tr style=\"text-align: right;\">\n",
       "      <th></th>\n",
       "      <th>rating</th>\n",
       "      <th>desc</th>\n",
       "      <th>FREE</th>\n",
       "      <th>GENERAL</th>\n",
       "      <th>SERVICES</th>\n",
       "      <th>FOOD_DRINK</th>\n",
       "      <th>ENTERTAINMENT</th>\n",
       "      <th>POLICIES</th>\n",
       "      <th>hostel</th>\n",
       "      <th>location</th>\n",
       "      <th>num_revs</th>\n",
       "      <th>num_awards</th>\n",
       "      <th>rev_highlights</th>\n",
       "    </tr>\n",
       "  </thead>\n",
       "  <tbody>\n",
       "    <tr>\n",
       "      <th>0</th>\n",
       "      <td>2.0</td>\n",
       "      <td>[\\n                    Stay with us near to th...</td>\n",
       "      <td>[\\n                                           ...</td>\n",
       "      <td>[&lt;p&gt;\\n                                        ...</td>\n",
       "      <td>[&lt;p&gt;\\n                                        ...</td>\n",
       "      <td>[&lt;p&gt;\\n                                        ...</td>\n",
       "      <td>[&lt;p&gt;\\n                                        ...</td>\n",
       "      <td>[]</td>\n",
       "      <td>Fortuna Botel</td>\n",
       "      <td>Budapest, Hungary</td>\n",
       "      <td>[]</td>\n",
       "      <td>0</td>\n",
       "      <td>[]</td>\n",
       "    </tr>\n",
       "    <tr>\n",
       "      <th>1</th>\n",
       "      <td>7.5</td>\n",
       "      <td>[\\n                    The Equity Point Sea is...</td>\n",
       "      <td>[\\n                                           ...</td>\n",
       "      <td>[&lt;p&gt;\\n                                        ...</td>\n",
       "      <td>[&lt;p&gt;\\n                                        ...</td>\n",
       "      <td>[&lt;p&gt;\\n                                        ...</td>\n",
       "      <td>[&lt;p&gt;\\n                                        ...</td>\n",
       "      <td>[&lt;p&gt;\\n            Age Restriction&lt;i class=\"fa ...</td>\n",
       "      <td>Equity Point Sea</td>\n",
       "      <td>Barcelona, Spain</td>\n",
       "      <td>[]</td>\n",
       "      <td>0</td>\n",
       "      <td>[&lt;span class=\"ratingfactorlabel\"&gt;Perfect &lt;b&gt;Lo...</td>\n",
       "    </tr>\n",
       "  </tbody>\n",
       "</table>\n",
       "</div>"
      ],
      "text/plain": [
       "   rating                                               desc  \\\n",
       "0     2.0  [\\n                    Stay with us near to th...   \n",
       "1     7.5  [\\n                    The Equity Point Sea is...   \n",
       "\n",
       "                                                FREE  \\\n",
       "0  [\\n                                           ...   \n",
       "1  [\\n                                           ...   \n",
       "\n",
       "                                             GENERAL  \\\n",
       "0  [<p>\\n                                        ...   \n",
       "1  [<p>\\n                                        ...   \n",
       "\n",
       "                                            SERVICES  \\\n",
       "0  [<p>\\n                                        ...   \n",
       "1  [<p>\\n                                        ...   \n",
       "\n",
       "                                          FOOD_DRINK  \\\n",
       "0  [<p>\\n                                        ...   \n",
       "1  [<p>\\n                                        ...   \n",
       "\n",
       "                                       ENTERTAINMENT  \\\n",
       "0  [<p>\\n                                        ...   \n",
       "1  [<p>\\n                                        ...   \n",
       "\n",
       "                                            POLICIES            hostel  \\\n",
       "0                                                 []     Fortuna Botel   \n",
       "1  [<p>\\n            Age Restriction<i class=\"fa ...  Equity Point Sea   \n",
       "\n",
       "            location num_revs  num_awards  \\\n",
       "0  Budapest, Hungary       []           0   \n",
       "1   Barcelona, Spain       []           0   \n",
       "\n",
       "                                      rev_highlights  \n",
       "0                                                 []  \n",
       "1  [<span class=\"ratingfactorlabel\">Perfect <b>Lo...  "
      ]
     },
     "execution_count": 114,
     "metadata": {},
     "output_type": "execute_result"
    }
   ],
   "source": [
    "# create a new hostels df without repeats\n",
    "\n",
    "hostles_df2 = hostels_df.drop_duplicates(['hostel'])\n",
    "hostles_df2.head(2)"
   ]
  },
  {
   "cell_type": "code",
   "execution_count": 116,
   "metadata": {
    "collapsed": false
   },
   "outputs": [],
   "source": [
    "# save final raw user, rev, and hostel DFs\n",
    "\n",
    "users_df_revE.to_csv(path_or_buf='/Users/caitlinmowdy/Desktop/DSI-SF-2-caitlinmowdy/capstone-hostelworld/raw-data/raw_users_oct4E.csv',encoding='utf8')\n",
    "hostles_df2.to_csv(path_or_buf='/Users/caitlinmowdy/Desktop/DSI-SF-2-caitlinmowdy/capstone-hostelworld/raw-data/raw_hostels_oct4E_ND.csv',encoding='utf8')\n",
    "revs_df_exist.to_csv(path_or_buf='/Users/caitlinmowdy/Desktop/DSI-SF-2-caitlinmowdy/capstone-hostelworld/raw-data/raw_revs_oct4E.csv',encoding='utf8')"
   ]
  },
  {
   "cell_type": "code",
   "execution_count": null,
   "metadata": {
    "collapsed": true
   },
   "outputs": [],
   "source": []
  }
 ],
 "metadata": {
  "anaconda-cloud": {},
  "kernelspec": {
   "display_name": "Python [dsi]",
   "language": "python",
   "name": "Python [dsi]"
  },
  "language_info": {
   "codemirror_mode": {
    "name": "ipython",
    "version": 2
   },
   "file_extension": ".py",
   "mimetype": "text/x-python",
   "name": "python",
   "nbconvert_exporter": "python",
   "pygments_lexer": "ipython2",
   "version": "2.7.12"
  }
 },
 "nbformat": 4,
 "nbformat_minor": 0
}

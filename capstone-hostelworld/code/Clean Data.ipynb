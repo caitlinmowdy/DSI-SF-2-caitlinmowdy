{
 "cells": [
  {
   "cell_type": "markdown",
   "metadata": {},
   "source": [
    "# Cleaning Data"
   ]
  },
  {
   "cell_type": "code",
   "execution_count": 1,
   "metadata": {
    "collapsed": false
   },
   "outputs": [],
   "source": [
    "import numpy as np\n",
    "import pandas as pd\n",
    "from IPython.display import display\n",
    "from bs4 import BeautifulSoup\n"
   ]
  },
  {
   "cell_type": "code",
   "execution_count": 9,
   "metadata": {
    "collapsed": false
   },
   "outputs": [],
   "source": [
    "# import raw data\n",
    "\n",
    "users_df = pd.read_csv('/Users/caitlinmowdy/Desktop/DSI-SF-2-caitlinmowdy/capstone-hostelworld/raw-data/raw_users_oct4E.csv')\n",
    "revs_df = pd.read_csv('/Users/caitlinmowdy/Desktop/DSI-SF-2-caitlinmowdy/capstone-hostelworld/raw-data/raw_revs_oct4E.csv')\n",
    "hostels_df = pd.read_csv('/Users/caitlinmowdy/Desktop/DSI-SF-2-caitlinmowdy/capstone-hostelworld/raw-data/raw_hostels_oct4E_ND.csv')"
   ]
  },
  {
   "cell_type": "code",
   "execution_count": 10,
   "metadata": {
    "collapsed": false
   },
   "outputs": [
    {
     "data": {
      "text/plain": [
       "((11498, 5), (23003, 9), (5642, 14))"
      ]
     },
     "execution_count": 10,
     "metadata": {},
     "output_type": "execute_result"
    }
   ],
   "source": [
    "users_df.shape, revs_df.shape,hostels_df.shape"
   ]
  },
  {
   "cell_type": "code",
   "execution_count": 11,
   "metadata": {
    "collapsed": false
   },
   "outputs": [
    {
     "data": {
      "text/plain": [
       "'users_df.head(2)'"
      ]
     },
     "metadata": {},
     "output_type": "display_data"
    },
    {
     "data": {
      "text/html": [
       "<div>\n",
       "<table border=\"1\" class=\"dataframe\">\n",
       "  <thead>\n",
       "    <tr style=\"text-align: right;\">\n",
       "      <th></th>\n",
       "      <th>Unnamed: 0</th>\n",
       "      <th>Unnamed: 0.1</th>\n",
       "      <th>user_id</th>\n",
       "      <th>about</th>\n",
       "      <th>num_revs</th>\n",
       "    </tr>\n",
       "  </thead>\n",
       "  <tbody>\n",
       "    <tr>\n",
       "      <th>0</th>\n",
       "      <td>0</td>\n",
       "      <td>101</td>\n",
       "      <td>1189474</td>\n",
       "      <td>\\n                                            ...</td>\n",
       "      <td>2</td>\n",
       "    </tr>\n",
       "    <tr>\n",
       "      <th>1</th>\n",
       "      <td>1</td>\n",
       "      <td>102</td>\n",
       "      <td>1595059</td>\n",
       "      <td>\\n                                            ...</td>\n",
       "      <td>2</td>\n",
       "    </tr>\n",
       "  </tbody>\n",
       "</table>\n",
       "</div>"
      ],
      "text/plain": [
       "   Unnamed: 0  Unnamed: 0.1  user_id  \\\n",
       "0           0           101  1189474   \n",
       "1           1           102  1595059   \n",
       "\n",
       "                                               about  num_revs  \n",
       "0  \\n                                            ...         2  \n",
       "1  \\n                                            ...         2  "
      ]
     },
     "metadata": {},
     "output_type": "display_data"
    },
    {
     "data": {
      "text/plain": [
       "'revs_df.head(2)'"
      ]
     },
     "metadata": {},
     "output_type": "display_data"
    },
    {
     "data": {
      "text/html": [
       "<div>\n",
       "<table border=\"1\" class=\"dataframe\">\n",
       "  <thead>\n",
       "    <tr style=\"text-align: right;\">\n",
       "      <th></th>\n",
       "      <th>Unnamed: 0</th>\n",
       "      <th>Unnamed: 0.1</th>\n",
       "      <th>text</th>\n",
       "      <th>user_id</th>\n",
       "      <th>rev_date</th>\n",
       "      <th>score</th>\n",
       "      <th>hostel</th>\n",
       "      <th>location</th>\n",
       "      <th>link</th>\n",
       "    </tr>\n",
       "  </thead>\n",
       "  <tbody>\n",
       "    <tr>\n",
       "      <th>0</th>\n",
       "      <td>0</td>\n",
       "      <td>182</td>\n",
       "      <td>Excellent value!</td>\n",
       "      <td>1189474</td>\n",
       "      <td>30th Jun 2004</td>\n",
       "      <td>7.7</td>\n",
       "      <td>Fortuna Botel</td>\n",
       "      <td>Budapest, Hungary</td>\n",
       "      <td>http://www.hostelworld.com/hosteldetails.php/F...</td>\n",
       "    </tr>\n",
       "    <tr>\n",
       "      <th>1</th>\n",
       "      <td>1</td>\n",
       "      <td>185</td>\n",
       "      <td>I HAD A GREAT TIME THERE BECAUSE OF THE BEACH,...</td>\n",
       "      <td>1595059</td>\n",
       "      <td>23rd Dec 2004</td>\n",
       "      <td>7.7</td>\n",
       "      <td>Equity Point Sea</td>\n",
       "      <td>Barcelona, Spain</td>\n",
       "      <td>http://www.hostelworld.com/hosteldetails.php/E...</td>\n",
       "    </tr>\n",
       "  </tbody>\n",
       "</table>\n",
       "</div>"
      ],
      "text/plain": [
       "   Unnamed: 0  Unnamed: 0.1  \\\n",
       "0           0           182   \n",
       "1           1           185   \n",
       "\n",
       "                                                text  user_id        rev_date  \\\n",
       "0                                   Excellent value!  1189474   30th Jun 2004   \n",
       "1  I HAD A GREAT TIME THERE BECAUSE OF THE BEACH,...  1595059   23rd Dec 2004   \n",
       "\n",
       "   score            hostel           location  \\\n",
       "0    7.7     Fortuna Botel  Budapest, Hungary   \n",
       "1    7.7  Equity Point Sea   Barcelona, Spain   \n",
       "\n",
       "                                                link  \n",
       "0  http://www.hostelworld.com/hosteldetails.php/F...  \n",
       "1  http://www.hostelworld.com/hosteldetails.php/E...  "
      ]
     },
     "metadata": {},
     "output_type": "display_data"
    },
    {
     "data": {
      "text/plain": [
       "'hostels_df.head(2)'"
      ]
     },
     "metadata": {},
     "output_type": "display_data"
    },
    {
     "data": {
      "text/html": [
       "<div>\n",
       "<table border=\"1\" class=\"dataframe\">\n",
       "  <thead>\n",
       "    <tr style=\"text-align: right;\">\n",
       "      <th></th>\n",
       "      <th>Unnamed: 0</th>\n",
       "      <th>rating</th>\n",
       "      <th>desc</th>\n",
       "      <th>FREE</th>\n",
       "      <th>GENERAL</th>\n",
       "      <th>SERVICES</th>\n",
       "      <th>FOOD_DRINK</th>\n",
       "      <th>ENTERTAINMENT</th>\n",
       "      <th>POLICIES</th>\n",
       "      <th>hostel</th>\n",
       "      <th>location</th>\n",
       "      <th>num_revs</th>\n",
       "      <th>num_awards</th>\n",
       "      <th>rev_highlights</th>\n",
       "    </tr>\n",
       "  </thead>\n",
       "  <tbody>\n",
       "    <tr>\n",
       "      <th>0</th>\n",
       "      <td>0</td>\n",
       "      <td>2.0</td>\n",
       "      <td>[\\n                    Stay with us near to th...</td>\n",
       "      <td>[\\n                                           ...</td>\n",
       "      <td>[&lt;p&gt;\\n                                        ...</td>\n",
       "      <td>[&lt;p&gt;\\n                                        ...</td>\n",
       "      <td>[&lt;p&gt;\\n                                        ...</td>\n",
       "      <td>[&lt;p&gt;\\n                                        ...</td>\n",
       "      <td>[]</td>\n",
       "      <td>Fortuna Botel</td>\n",
       "      <td>Budapest, Hungary</td>\n",
       "      <td>[]</td>\n",
       "      <td>0</td>\n",
       "      <td>[]</td>\n",
       "    </tr>\n",
       "    <tr>\n",
       "      <th>1</th>\n",
       "      <td>1</td>\n",
       "      <td>7.5</td>\n",
       "      <td>[\\n                    The Equity Point Sea is...</td>\n",
       "      <td>[\\n                                           ...</td>\n",
       "      <td>[&lt;p&gt;\\n                                        ...</td>\n",
       "      <td>[&lt;p&gt;\\n                                        ...</td>\n",
       "      <td>[&lt;p&gt;\\n                                        ...</td>\n",
       "      <td>[&lt;p&gt;\\n                                        ...</td>\n",
       "      <td>[&lt;p&gt;\\n            Age Restriction&lt;i class=\"fa ...</td>\n",
       "      <td>Equity Point Sea</td>\n",
       "      <td>Barcelona, Spain</td>\n",
       "      <td>[]</td>\n",
       "      <td>0</td>\n",
       "      <td>[&lt;span class=\"ratingfactorlabel\"&gt;Perfect &lt;b&gt;Lo...</td>\n",
       "    </tr>\n",
       "  </tbody>\n",
       "</table>\n",
       "</div>"
      ],
      "text/plain": [
       "   Unnamed: 0  rating                                               desc  \\\n",
       "0           0     2.0  [\\n                    Stay with us near to th...   \n",
       "1           1     7.5  [\\n                    The Equity Point Sea is...   \n",
       "\n",
       "                                                FREE  \\\n",
       "0  [\\n                                           ...   \n",
       "1  [\\n                                           ...   \n",
       "\n",
       "                                             GENERAL  \\\n",
       "0  [<p>\\n                                        ...   \n",
       "1  [<p>\\n                                        ...   \n",
       "\n",
       "                                            SERVICES  \\\n",
       "0  [<p>\\n                                        ...   \n",
       "1  [<p>\\n                                        ...   \n",
       "\n",
       "                                          FOOD_DRINK  \\\n",
       "0  [<p>\\n                                        ...   \n",
       "1  [<p>\\n                                        ...   \n",
       "\n",
       "                                       ENTERTAINMENT  \\\n",
       "0  [<p>\\n                                        ...   \n",
       "1  [<p>\\n                                        ...   \n",
       "\n",
       "                                            POLICIES            hostel  \\\n",
       "0                                                 []     Fortuna Botel   \n",
       "1  [<p>\\n            Age Restriction<i class=\"fa ...  Equity Point Sea   \n",
       "\n",
       "            location num_revs  num_awards  \\\n",
       "0  Budapest, Hungary       []           0   \n",
       "1   Barcelona, Spain       []           0   \n",
       "\n",
       "                                      rev_highlights  \n",
       "0                                                 []  \n",
       "1  [<span class=\"ratingfactorlabel\">Perfect <b>Lo...  "
      ]
     },
     "metadata": {},
     "output_type": "display_data"
    }
   ],
   "source": [
    "# look at data\n",
    "\n",
    "display(\"users_df.head(2)\",users_df.head(2),'revs_df.head(2)',revs_df.head(2),\n",
    "        'hostels_df.head(2)',hostels_df.head(2))"
   ]
  },
  {
   "cell_type": "code",
   "execution_count": 12,
   "metadata": {
    "collapsed": false
   },
   "outputs": [],
   "source": [
    "# defs to remove tags and ugly things\n",
    "\n",
    "def no_space_n(value):\n",
    "    return value.replace('\\n','').replace('  ','') \n",
    "def no_r(value):\n",
    "    return value.replace('\\r','') \n",
    "def no_n(value):\n",
    "    return value.replace('\\n','') \n",
    "def no_nc(value):\n",
    "    return value.replace('\\n,','').replace(',\\n','') \n",
    "def add_c(value):\n",
    "    return value.replace('  ',',')\n",
    "def del_ec(value):\n",
    "    return value.replace(',,,','').replace(',,',',')\n",
    "def del_ec2(value):\n",
    "    return value.replace(',,',',').replace(',,,',',').replace(',,',',')\n",
    "def no_sc(value):\n",
    "    return value.replace('.','').replace(',','').replace('!','').replace('?','').replace('*','').replace('-','').replace('_','').replace(\"'\",\"\").replace('/','').replace(':','').replace(\";\",\"\")\n",
    "\n",
    "def soupit(value):\n",
    "    soup = BeautifulSoup(str(value))\n",
    "    value = ''.join(soup.findAll(text=True))\n",
    "    return value\n",
    "\n",
    "def no_uni(value):\n",
    "    return value.decode('unicode_escape').encode('ascii','ignore')\n",
    "\n",
    "def rv_s(value):\n",
    "    return value[1:]"
   ]
  },
  {
   "cell_type": "markdown",
   "metadata": {},
   "source": [
    "## Clean Hostels_DF\n",
    "- Clean FREE, desc, GENERAL, SERVICES, FOOD_DRINK, ENTERTAINMENT, POLICIES\n",
    "- split location into country and city"
   ]
  },
  {
   "cell_type": "code",
   "execution_count": 13,
   "metadata": {
    "collapsed": false
   },
   "outputs": [],
   "source": [
    "# hostels_df.info()\n",
    "# hostels_df.shape\n",
    "# hostels_df.isnull().sum()\n",
    "# hostels_df.num_revs.unique()"
   ]
  },
  {
   "cell_type": "code",
   "execution_count": 14,
   "metadata": {
    "collapsed": false
   },
   "outputs": [],
   "source": [
    "# clean hostel df\n",
    "\n",
    "hostels_df['FREE'] = hostels_df['FREE'].map(no_space_n)\n",
    "hostels_df['desc'] = hostels_df['desc'].map(no_space_n).map(no_r)\n",
    "hostels_df['GENERAL'] = hostels_df['GENERAL'].map(soupit).map(add_c).map(del_ec).map(no_nc).map(no_uni)\n",
    "hostels_df['SERVICES'] = hostels_df['SERVICES'].map(soupit).map(add_c).map(del_ec).map(no_nc) #.map(no_uni)\n",
    "hostels_df['FOOD_DRINK'] = hostels_df['FOOD_DRINK'].map(soupit).map(add_c).map(del_ec).map(no_nc) #.map(no_uni)\n",
    "hostels_df['ENTERTAINMENT'] = hostels_df['ENTERTAINMENT'].map(soupit).map(add_c).map(del_ec).map(no_nc).map(no_uni)\n",
    "hostels_df['POLICIES'] = hostels_df['POLICIES'].map(soupit).map(add_c).map(del_ec2).map(no_nc).map(no_uni)\n",
    "hostels_df['rev_highlights'] = hostels_df['rev_highlights'].map(soupit)\n",
    "\n",
    "# split location\n",
    "hostels_df['country'] = [a.split(\",\")[1] for a in hostels_df.location]\n",
    "hostels_df['city'] = [a.split(\",\")[0] for a in hostels_df.location]\n",
    "hostels_df.country = hostels_df.country.map(rv_s)\n",
    "\n",
    "# make hostel desc lowercase and remove special characters\n",
    "hostels_df.desc = [x.lower() for x in hostels_df.desc]\n",
    "hostels_df['desc'] = hostels_df['desc'].map(no_sc)\n",
    "\n",
    "# del unnamed col\n",
    "del hostels_df['Unnamed: 0']\n",
    "del hostels_df['num_revs']"
   ]
  },
  {
   "cell_type": "code",
   "execution_count": 15,
   "metadata": {
    "collapsed": false
   },
   "outputs": [
    {
     "data": {
      "text/html": [
       "<div>\n",
       "<table border=\"1\" class=\"dataframe\">\n",
       "  <thead>\n",
       "    <tr style=\"text-align: right;\">\n",
       "      <th></th>\n",
       "      <th>rating</th>\n",
       "      <th>desc</th>\n",
       "      <th>FREE</th>\n",
       "      <th>GENERAL</th>\n",
       "      <th>SERVICES</th>\n",
       "      <th>FOOD_DRINK</th>\n",
       "      <th>ENTERTAINMENT</th>\n",
       "      <th>POLICIES</th>\n",
       "      <th>hostel</th>\n",
       "      <th>location</th>\n",
       "      <th>num_awards</th>\n",
       "      <th>rev_highlights</th>\n",
       "      <th>country</th>\n",
       "      <th>city</th>\n",
       "    </tr>\n",
       "  </thead>\n",
       "  <tbody>\n",
       "    <tr>\n",
       "      <th>0</th>\n",
       "      <td>2.0</td>\n",
       "      <td>[stay with us near to the city center of budap...</td>\n",
       "      <td>[Linen Included , Free City Maps , Towels Incl...</td>\n",
       "      <td>[Breakfast Not Included, Air Conditioning, Out...</td>\n",
       "      <td>[Airport Transfers, Bicycle Hire, Luggage Stor...</td>\n",
       "      <td>[Restaurant, Meals Available, ]</td>\n",
       "      <td>[Wi-Fi, ]</td>\n",
       "      <td>[]</td>\n",
       "      <td>Fortuna Botel</td>\n",
       "      <td>Budapest, Hungary</td>\n",
       "      <td>0</td>\n",
       "      <td>[]</td>\n",
       "      <td>Hungary</td>\n",
       "      <td>Budapest</td>\n",
       "    </tr>\n",
       "    <tr>\n",
       "      <th>1</th>\n",
       "      <td>7.5</td>\n",
       "      <td>[the equity point sea is a lively hostel locat...</td>\n",
       "      <td>[Free Breakfast , Free Internet Access ]</td>\n",
       "      <td>[Wheelchair Friendly, Security Lockers, Common...</td>\n",
       "      <td>[Luggage Storage, 24 Hour Reception, Tours/Tra...</td>\n",
       "      <td>[Restaurant, Bar, ]</td>\n",
       "      <td>[Games Room, ]</td>\n",
       "      <td>[Age Restriction, Credit Cards Accepted, No Cu...</td>\n",
       "      <td>Equity Point Sea</td>\n",
       "      <td>Barcelona, Spain</td>\n",
       "      <td>0</td>\n",
       "      <td>[Perfect Location, Brilliant Staff, Good Clean...</td>\n",
       "      <td>Spain</td>\n",
       "      <td>Barcelona</td>\n",
       "    </tr>\n",
       "  </tbody>\n",
       "</table>\n",
       "</div>"
      ],
      "text/plain": [
       "   rating                                               desc  \\\n",
       "0     2.0  [stay with us near to the city center of budap...   \n",
       "1     7.5  [the equity point sea is a lively hostel locat...   \n",
       "\n",
       "                                                FREE  \\\n",
       "0  [Linen Included , Free City Maps , Towels Incl...   \n",
       "1           [Free Breakfast , Free Internet Access ]   \n",
       "\n",
       "                                             GENERAL  \\\n",
       "0  [Breakfast Not Included, Air Conditioning, Out...   \n",
       "1  [Wheelchair Friendly, Security Lockers, Common...   \n",
       "\n",
       "                                            SERVICES  \\\n",
       "0  [Airport Transfers, Bicycle Hire, Luggage Stor...   \n",
       "1  [Luggage Storage, 24 Hour Reception, Tours/Tra...   \n",
       "\n",
       "                        FOOD_DRINK   ENTERTAINMENT  \\\n",
       "0  [Restaurant, Meals Available, ]       [Wi-Fi, ]   \n",
       "1              [Restaurant, Bar, ]  [Games Room, ]   \n",
       "\n",
       "                                            POLICIES            hostel  \\\n",
       "0                                                 []     Fortuna Botel   \n",
       "1  [Age Restriction, Credit Cards Accepted, No Cu...  Equity Point Sea   \n",
       "\n",
       "            location  num_awards  \\\n",
       "0  Budapest, Hungary           0   \n",
       "1   Barcelona, Spain           0   \n",
       "\n",
       "                                      rev_highlights  country       city  \n",
       "0                                                 []  Hungary   Budapest  \n",
       "1  [Perfect Location, Brilliant Staff, Good Clean...    Spain  Barcelona  "
      ]
     },
     "execution_count": 15,
     "metadata": {},
     "output_type": "execute_result"
    }
   ],
   "source": [
    "# look at cleanded hostels_df\n",
    "\n",
    "hostels_df.head(2)"
   ]
  },
  {
   "cell_type": "code",
   "execution_count": 213,
   "metadata": {
    "collapsed": true
   },
   "outputs": [],
   "source": [
    "# save cleaned hostels\n",
    "#hostels_df.to_csv(path_or_buf='/Users/caitlinmowdy/Desktop/DSI-SF-2-caitlinmowdy/capstone-hostelworld/clean-data/clean_hostels2_oct4.csv',encoding='utf8')"
   ]
  },
  {
   "cell_type": "markdown",
   "metadata": {},
   "source": [
    "## Cleaning Users_DF\n",
    "- clean about column and split into nationality, age, and travel group \n",
    "- clean age to have categories 41+, 31-40, 25-30, 18-24, and not specified"
   ]
  },
  {
   "cell_type": "code",
   "execution_count": 16,
   "metadata": {
    "collapsed": false
   },
   "outputs": [],
   "source": [
    "# users_df.info()\n",
    "# users_df.shape\n",
    "# users_df.isnull().sum()"
   ]
  },
  {
   "cell_type": "code",
   "execution_count": 17,
   "metadata": {
    "collapsed": false
   },
   "outputs": [],
   "source": [
    "# clean users about column\n",
    "\n",
    "users_df.about = users_df.about.map(no_space_n)"
   ]
  },
  {
   "cell_type": "code",
   "execution_count": 18,
   "metadata": {
    "collapsed": false
   },
   "outputs": [],
   "source": [
    "# split about into 3 columns \n",
    "\n",
    "users_df['nationality'] = [a.split(\",\")[0] for a in users_df.about]\n",
    "users_df['group'] = [a.split(\",\")[1] if len(a.split(\",\")) == 3 else np.nan for a in users_df.about]\n",
    "users_df['age'] = [a.split(\",\")[2] if len(a.split(\",\")) == 3 else np.nan for a in users_df.about]\n",
    "\n",
    "# del about and unnamed col\n",
    "\n",
    "del users_df['about']\n",
    "del users_df['Unnamed: 0']"
   ]
  },
  {
   "cell_type": "code",
   "execution_count": 19,
   "metadata": {
    "collapsed": false
   },
   "outputs": [],
   "source": [
    "# def to clean users age column\n",
    "\n",
    "def clean_age(value):\n",
    "    \n",
    "    if value == 'THIRTYONETOFOURTY':\n",
    "        value = '31-40'\n",
    "    if value == 'FOURTYONEPLUS':\n",
    "        value = '41+'\n",
    "    if value == 'TWENTYFIVETOTHIRTY':\n",
    "        value = '25-30'\n",
    "    if value == 'EIGHTEENTOTWENTYFOUR':\n",
    "        value = '18-24'\n",
    "    if value not in  ['41+', '31-40', '25-30','18-24']:\n",
    "        value = 'not specified'\n",
    "\n",
    "    return value\n",
    "\n",
    "# map age cleaning def \n",
    "users_df['age'] = users_df['age'].map(clean_age)"
   ]
  },
  {
   "cell_type": "code",
   "execution_count": 20,
   "metadata": {
    "collapsed": false
   },
   "outputs": [
    {
     "data": {
      "text/html": [
       "<div>\n",
       "<table border=\"1\" class=\"dataframe\">\n",
       "  <thead>\n",
       "    <tr style=\"text-align: right;\">\n",
       "      <th></th>\n",
       "      <th>Unnamed: 0.1</th>\n",
       "      <th>user_id</th>\n",
       "      <th>num_revs</th>\n",
       "      <th>nationality</th>\n",
       "      <th>group</th>\n",
       "      <th>age</th>\n",
       "    </tr>\n",
       "  </thead>\n",
       "  <tbody>\n",
       "    <tr>\n",
       "      <th>0</th>\n",
       "      <td>101</td>\n",
       "      <td>1189474</td>\n",
       "      <td>2</td>\n",
       "      <td>England</td>\n",
       "      <td>NaN</td>\n",
       "      <td>not specified</td>\n",
       "    </tr>\n",
       "    <tr>\n",
       "      <th>1</th>\n",
       "      <td>102</td>\n",
       "      <td>1595059</td>\n",
       "      <td>2</td>\n",
       "      <td>Hong Kong</td>\n",
       "      <td>NaN</td>\n",
       "      <td>not specified</td>\n",
       "    </tr>\n",
       "  </tbody>\n",
       "</table>\n",
       "</div>"
      ],
      "text/plain": [
       "   Unnamed: 0.1  user_id  num_revs nationality group            age\n",
       "0           101  1189474         2     England   NaN  not specified\n",
       "1           102  1595059         2   Hong Kong   NaN  not specified"
      ]
     },
     "execution_count": 20,
     "metadata": {},
     "output_type": "execute_result"
    }
   ],
   "source": [
    "# look at cleaned users_df\n",
    "\n",
    "users_df.head(2)"
   ]
  },
  {
   "cell_type": "code",
   "execution_count": 21,
   "metadata": {
    "collapsed": true
   },
   "outputs": [],
   "source": [
    "# save cleaned users\n",
    "#users_df.to_csv(path_or_buf='/Users/caitlinmowdy/Desktop/DSI-SF-2-caitlinmowdy/capstone-hostelworld/clean-data/clean_users_oct4.csv',encoding='utf8')"
   ]
  },
  {
   "cell_type": "markdown",
   "metadata": {},
   "source": [
    "## Cleaning Rev_DF\n",
    "- split location into country and city\n",
    "- split date into day, month, and year"
   ]
  },
  {
   "cell_type": "code",
   "execution_count": 22,
   "metadata": {
    "collapsed": true
   },
   "outputs": [],
   "source": [
    "# revs_df.info()\n",
    "# revs_df.shape\n",
    "# revs_df.isnull().sum()"
   ]
  },
  {
   "cell_type": "code",
   "execution_count": 23,
   "metadata": {
    "collapsed": false
   },
   "outputs": [],
   "source": [
    "# split location \n",
    "\n",
    "revs_df['country'] = [a.split(\",\")[1] for a in revs_df.location]\n",
    "revs_df['city'] = [a.split(\",\")[0] for a in revs_df.location]\n",
    "del revs_df['Unnamed: 0.1']\n",
    "\n",
    "# split rev_date inot dat month and year\n",
    "\n",
    "revs_df['day'] = [int(d.split(' ')[1].replace('th','').replace('rd','').replace('st','').replace('nd','')) for d in revs_df.rev_date]\n",
    "revs_df['month'] = [d.split(' ')[2] for d in revs_df.rev_date]\n",
    "revs_df['year'] = [int(d.split(' ')[3]) for d in revs_df.rev_date]\n",
    "\n",
    "def month_converter(month):\n",
    "    months = ['Jan', 'Feb', 'Mar', 'Apr', 'May', 'Jun', 'Jul', 'Aug', 'Sep', 'Oct', 'Nov', 'Dec']\n",
    "    return months.index(month) + 1\n",
    "\n",
    "revs_df['month'] = revs_df['month'].map(month_converter)\n",
    "\n",
    "#make rev text all lower case and remove special characters\n",
    "revs_df.text = [x.lower() for x in revs_df.text]\n",
    "revs_df.text = revs_df['text'].map(no_sc)\n",
    "\n",
    "# remove space at front of country\n",
    "revs_df.country = revs_df.country.map(rv_s)"
   ]
  },
  {
   "cell_type": "code",
   "execution_count": 24,
   "metadata": {
    "collapsed": true
   },
   "outputs": [],
   "source": [
    "# def to detect if text is english \n",
    "\n",
    "def isEnglish(s):\n",
    "    try:\n",
    "        s.decode('ascii')\n",
    "    except UnicodeDecodeError:\n",
    "        return False\n",
    "    else:\n",
    "        return True\n",
    "    \n",
    "# collect index where rev text is not english \n",
    "\n",
    "index_nE = []\n",
    "for i,t in enumerate(revs_df.text):\n",
    "    if isEnglish(t) == False:\n",
    "        index_nE.append(i)"
   ]
  },
  {
   "cell_type": "code",
   "execution_count": 25,
   "metadata": {
    "collapsed": true
   },
   "outputs": [],
   "source": [
    "revs_en =[i for i in revs_df.index if i not in index_nE]\n",
    "revs_df_en = revs_df.loc[revs_df.index.isin(revs_en)].reset_index()\n",
    "del revs_df_en['index']"
   ]
  },
  {
   "cell_type": "code",
   "execution_count": 26,
   "metadata": {
    "collapsed": false
   },
   "outputs": [
    {
     "data": {
      "text/html": [
       "<div>\n",
       "<table border=\"1\" class=\"dataframe\">\n",
       "  <thead>\n",
       "    <tr style=\"text-align: right;\">\n",
       "      <th></th>\n",
       "      <th>Unnamed: 0</th>\n",
       "      <th>text</th>\n",
       "      <th>user_id</th>\n",
       "      <th>rev_date</th>\n",
       "      <th>score</th>\n",
       "      <th>hostel</th>\n",
       "      <th>location</th>\n",
       "      <th>link</th>\n",
       "      <th>country</th>\n",
       "      <th>city</th>\n",
       "      <th>day</th>\n",
       "      <th>month</th>\n",
       "      <th>year</th>\n",
       "    </tr>\n",
       "  </thead>\n",
       "  <tbody>\n",
       "    <tr>\n",
       "      <th>0</th>\n",
       "      <td>0</td>\n",
       "      <td>excellent value</td>\n",
       "      <td>1189474</td>\n",
       "      <td>30th Jun 2004</td>\n",
       "      <td>7.7</td>\n",
       "      <td>Fortuna Botel</td>\n",
       "      <td>Budapest, Hungary</td>\n",
       "      <td>http://www.hostelworld.com/hosteldetails.php/F...</td>\n",
       "      <td>Hungary</td>\n",
       "      <td>Budapest</td>\n",
       "      <td>30</td>\n",
       "      <td>6</td>\n",
       "      <td>2004</td>\n",
       "    </tr>\n",
       "    <tr>\n",
       "      <th>1</th>\n",
       "      <td>1</td>\n",
       "      <td>i had a great time there because of the beach ...</td>\n",
       "      <td>1595059</td>\n",
       "      <td>23rd Dec 2004</td>\n",
       "      <td>7.7</td>\n",
       "      <td>Equity Point Sea</td>\n",
       "      <td>Barcelona, Spain</td>\n",
       "      <td>http://www.hostelworld.com/hosteldetails.php/E...</td>\n",
       "      <td>Spain</td>\n",
       "      <td>Barcelona</td>\n",
       "      <td>23</td>\n",
       "      <td>12</td>\n",
       "      <td>2004</td>\n",
       "    </tr>\n",
       "  </tbody>\n",
       "</table>\n",
       "</div>"
      ],
      "text/plain": [
       "   Unnamed: 0                                               text  user_id  \\\n",
       "0           0                                    excellent value  1189474   \n",
       "1           1  i had a great time there because of the beach ...  1595059   \n",
       "\n",
       "         rev_date  score            hostel           location  \\\n",
       "0   30th Jun 2004    7.7     Fortuna Botel  Budapest, Hungary   \n",
       "1   23rd Dec 2004    7.7  Equity Point Sea   Barcelona, Spain   \n",
       "\n",
       "                                                link  country       city  day  \\\n",
       "0  http://www.hostelworld.com/hosteldetails.php/F...  Hungary   Budapest   30   \n",
       "1  http://www.hostelworld.com/hosteldetails.php/E...    Spain  Barcelona   23   \n",
       "\n",
       "   month  year  \n",
       "0      6  2004  \n",
       "1     12  2004  "
      ]
     },
     "execution_count": 26,
     "metadata": {},
     "output_type": "execute_result"
    }
   ],
   "source": [
    "# look at cleaned revs_df\n",
    "\n",
    "revs_df_en.head(2)"
   ]
  },
  {
   "cell_type": "code",
   "execution_count": 27,
   "metadata": {
    "collapsed": false
   },
   "outputs": [
    {
     "data": {
      "text/plain": [
       "(21675, 13)"
      ]
     },
     "execution_count": 27,
     "metadata": {},
     "output_type": "execute_result"
    }
   ],
   "source": [
    "revs_df_en.shape"
   ]
  },
  {
   "cell_type": "markdown",
   "metadata": {},
   "source": [
    "## Remove users from users_df where users No loger have reviews in revs_df"
   ]
  },
  {
   "cell_type": "code",
   "execution_count": 28,
   "metadata": {
    "collapsed": true
   },
   "outputs": [],
   "source": [
    "revs_exist_uid =[u for u in revs_df_en.user_id]\n",
    "users_df_en = users_df.loc[users_df.user_id.isin(revs_exist_uid)].reset_index()\n",
    "del users_df_en['index']"
   ]
  },
  {
   "cell_type": "code",
   "execution_count": 29,
   "metadata": {
    "collapsed": false
   },
   "outputs": [
    {
     "data": {
      "text/plain": [
       "(10929, 6)"
      ]
     },
     "execution_count": 29,
     "metadata": {},
     "output_type": "execute_result"
    }
   ],
   "source": [
    "users_df_en.shape"
   ]
  },
  {
   "cell_type": "markdown",
   "metadata": {},
   "source": [
    "## Remove hostels from hostels_df where hostels no longer have reviews"
   ]
  },
  {
   "cell_type": "code",
   "execution_count": 30,
   "metadata": {
    "collapsed": true
   },
   "outputs": [],
   "source": [
    "revs_exist_hst =[h for h in revs_df_en.hostel]\n",
    "hostels_df_en = hostels_df.loc[hostels_df.hostel.isin(revs_exist_hst)].reset_index()\n",
    "del hostels_df_en['index']"
   ]
  },
  {
   "cell_type": "code",
   "execution_count": 31,
   "metadata": {
    "collapsed": false
   },
   "outputs": [
    {
     "data": {
      "text/plain": [
       "(5453, 14)"
      ]
     },
     "execution_count": 31,
     "metadata": {},
     "output_type": "execute_result"
    }
   ],
   "source": [
    "hostels_df_en.shape"
   ]
  },
  {
   "cell_type": "markdown",
   "metadata": {},
   "source": [
    "## Make Hostel and country ID's"
   ]
  },
  {
   "cell_type": "code",
   "execution_count": 33,
   "metadata": {
    "collapsed": false
   },
   "outputs": [],
   "source": [
    "# create DFs for country and user ids\n",
    "hostels_df_en['hostel_id'] = [i for i in hostels_df_en.index]\n",
    "\n",
    "hostel_ids_df = pd.DataFrame(hostels_df_en['hostel'],hostels_df_en['hostel_id'])\n",
    "hostel_ids_df= hostel_ids_df.reset_index()\n",
    "\n",
    "country_ids_df = pd.DataFrame(users_df_en.nationality.unique())\n",
    "country_ids_df=country_ids_df.reset_index()\n",
    "country_ids_df.columns = ['country_id','country']"
   ]
  },
  {
   "cell_type": "code",
   "execution_count": 34,
   "metadata": {
    "collapsed": true
   },
   "outputs": [],
   "source": [
    "# def to add country id to dfs \n",
    "def c_id(value):\n",
    "    for i,c in enumerate(country_ids_df.country):\n",
    "        if str(c) == str(value):\n",
    "            return country_ids_df.country_id[i]\n",
    "        \n",
    "        \n",
    "# def to add hostel id to dfs\n",
    "def h_id(value):\n",
    "    for i,h in enumerate(hostel_ids_df.hostel):\n",
    "        if str(h) == str(value):\n",
    "            return hostel_ids_df.hostel_id[i]"
   ]
  },
  {
   "cell_type": "code",
   "execution_count": 35,
   "metadata": {
    "collapsed": true
   },
   "outputs": [],
   "source": [
    "hostels_df_en['country_id'] = hostels_df_en['country'].map(c_id)\n",
    "users_df_en['country_id'] = users_df_en['nationality'].map(c_id)\n",
    "revs_df_en['country_id'] = revs_df_en['country'].map(c_id)"
   ]
  },
  {
   "cell_type": "code",
   "execution_count": 36,
   "metadata": {
    "collapsed": true
   },
   "outputs": [],
   "source": [
    "revs_df_en['hostel_id'] = revs_df_en['hostel'].map(h_id)"
   ]
  },
  {
   "cell_type": "code",
   "execution_count": 55,
   "metadata": {
    "collapsed": false
   },
   "outputs": [],
   "source": [
    "del revs_df_en['Unnamed: 0']\n",
    "del users_df_en['Unnamed: 0.1']"
   ]
  },
  {
   "cell_type": "code",
   "execution_count": 56,
   "metadata": {
    "collapsed": true
   },
   "outputs": [],
   "source": [
    "# Save clean DFs\n",
    "\n",
    "hostels_df_en.to_csv(path_or_buf='/Users/caitlinmowdy/Desktop/DSI-SF-2-caitlinmowdy/capstone-hostelworld/clean-data/clean_hostles_oct7.csv',encoding='utf8')\n",
    "users_df_en.to_csv(path_or_buf='/Users/caitlinmowdy/Desktop/DSI-SF-2-caitlinmowdy/capstone-hostelworld/clean-data/clean_users_oct7.csv',encoding='utf8')\n",
    "revs_df_en.to_csv(path_or_buf='/Users/caitlinmowdy/Desktop/DSI-SF-2-caitlinmowdy/capstone-hostelworld/clean-data/clean_revs_oct7.csv',encoding='utf8')"
   ]
  },
  {
   "cell_type": "code",
   "execution_count": 58,
   "metadata": {
    "collapsed": true
   },
   "outputs": [],
   "source": [
    "# save Hostel and Country Ids\n",
    "\n",
    "country_ids_df.to_csv(path_or_buf='/Users/caitlinmowdy/Desktop/DSI-SF-2-caitlinmowdy/capstone-hostelworld/clean-data/country_ids_oct7.csv',encoding='utf8')\n",
    "hostel_ids_df.to_csv(path_or_buf='/Users/caitlinmowdy/Desktop/DSI-SF-2-caitlinmowdy/capstone-hostelworld/clean-data/hostles_ids_oct7.csv',encoding='utf8')"
   ]
  },
  {
   "cell_type": "code",
   "execution_count": null,
   "metadata": {
    "collapsed": true
   },
   "outputs": [],
   "source": []
  }
 ],
 "metadata": {
  "anaconda-cloud": {},
  "kernelspec": {
   "display_name": "Python [dsi]",
   "language": "python",
   "name": "Python [dsi]"
  },
  "language_info": {
   "codemirror_mode": {
    "name": "ipython",
    "version": 2
   },
   "file_extension": ".py",
   "mimetype": "text/x-python",
   "name": "python",
   "nbconvert_exporter": "python",
   "pygments_lexer": "ipython2",
   "version": "2.7.12"
  }
 },
 "nbformat": 4,
 "nbformat_minor": 0
}

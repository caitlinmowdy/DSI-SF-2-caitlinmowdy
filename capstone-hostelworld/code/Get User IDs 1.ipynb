{
 "cells": [
  {
   "cell_type": "markdown",
   "metadata": {},
   "source": [
    "# Get Random User IDs "
   ]
  },
  {
   "cell_type": "code",
   "execution_count": 22,
   "metadata": {
    "collapsed": true
   },
   "outputs": [],
   "source": [
    "import pandas as pd\n",
    "import numpy as np\n",
    "from scrapy.selector import Selector\n",
    "from scrapy.http import HtmlResponse\n",
    "import requests\n",
    "import random\n",
    "import sys\n",
    "\n",
    "# create a list of random numbers\n",
    "numbs = np.random.randint(1000000,5000000,1000000)"
   ]
  },
  {
   "cell_type": "code",
   "execution_count": 27,
   "metadata": {
    "collapsed": false
   },
   "outputs": [],
   "source": [
    "# check if numbers from numbs list belong to profiels \n",
    "\n",
    "%time\n",
    "users3 = []\n",
    "\n",
    "for i,n in enumerate(numbs):\n",
    "    N = str(n)\n",
    "    X = 'http://www.hostelworld.com/profile/' + N + '/reviews'\n",
    "    response = requests.get(X)\n",
    "    HTML = response.text\n",
    "    revs = Selector(text=HTML).xpath(\"//div[@class='reviewlisting clearfix']/div[@class='reviewdetails rounded']/div[@class='ratingsection']/div[@class='textrating']\").extract()\n",
    "    if len(revs) != 0:\n",
    "        users3.append(N)\n",
    "    if i%100 == 0:\n",
    "        sys.stdout.write('\\r'+ str((float(i)/len(numbs))*100)+'%')\n",
    "\n",
    "print len(users3)"
   ]
  },
  {
   "cell_type": "code",
   "execution_count": 25,
   "metadata": {
    "collapsed": false
   },
   "outputs": [
    {
     "name": "stdout",
     "output_type": "stream",
     "text": [
      "369\n"
     ]
    }
   ],
   "source": [
    "# save list of numbers that belong to profiels to a dataframe\n",
    "\n",
    "print len(users3)\n",
    "users1=pd.DataFrame(users3)"
   ]
  },
  {
   "cell_type": "code",
   "execution_count": 26,
   "metadata": {
    "collapsed": false
   },
   "outputs": [],
   "source": [
    "# same df to csv\n",
    "\n",
    "users1.to_csv(path_or_buf='/Users/caitlinmowdy/Desktop/DSI-SF-2-caitlinmowdy/capstone-hostelworld/raw-data/user_ids1_sep29.csv')"
   ]
  },
  {
   "cell_type": "code",
   "execution_count": null,
   "metadata": {
    "collapsed": true
   },
   "outputs": [],
   "source": []
  }
 ],
 "metadata": {
  "anaconda-cloud": {},
  "kernelspec": {
   "display_name": "Python [dsi]",
   "language": "python",
   "name": "Python [dsi]"
  },
  "language_info": {
   "codemirror_mode": {
    "name": "ipython",
    "version": 2
   },
   "file_extension": ".py",
   "mimetype": "text/x-python",
   "name": "python",
   "nbconvert_exporter": "python",
   "pygments_lexer": "ipython2",
   "version": "2.7.12"
  }
 },
 "nbformat": 4,
 "nbformat_minor": 0
}

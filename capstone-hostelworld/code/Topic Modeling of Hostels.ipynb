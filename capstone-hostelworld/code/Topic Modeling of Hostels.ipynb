{
 "cells": [
  {
   "cell_type": "markdown",
   "metadata": {},
   "source": [
    "#  Topic Modeling and Feature Enginering of Hostels Data\n",
    "# Create DF for calculating hostel distance\n",
    "- want to find topics for hostel descriptions\n",
    "- form a dataframe of probabilities that a topic is in a hostel descrition \n",
    "- make numberic columns for hostel features\n",
    "- combine relevnat hostel columns with topic prob df "
   ]
  },
  {
   "cell_type": "code",
   "execution_count": 2,
   "metadata": {
    "collapsed": true
   },
   "outputs": [],
   "source": [
    "import pandas as pd\n",
    "from IPython.display import display\n",
    "from sklearn.feature_extraction.text import CountVectorizer\n",
    "from collections import Counter\n",
    "import seaborn as sns\n",
    "%matplotlib inline\n",
    "from gensim import corpora, models, matutils\n",
    "from collections import defaultdict\n",
    "from sklearn.feature_extraction import text\n",
    "import numpy as np"
   ]
  },
  {
   "cell_type": "code",
   "execution_count": 3,
   "metadata": {
    "collapsed": false
   },
   "outputs": [
    {
     "data": {
      "text/plain": [
       "(5453, 17)"
      ]
     },
     "metadata": {},
     "output_type": "display_data"
    },
    {
     "data": {
      "text/html": [
       "<div>\n",
       "<table border=\"1\" class=\"dataframe\">\n",
       "  <thead>\n",
       "    <tr style=\"text-align: right;\">\n",
       "      <th></th>\n",
       "      <th>Unnamed: 0</th>\n",
       "      <th>rating</th>\n",
       "      <th>desc</th>\n",
       "      <th>FREE</th>\n",
       "      <th>GENERAL</th>\n",
       "      <th>SERVICES</th>\n",
       "      <th>FOOD_DRINK</th>\n",
       "      <th>ENTERTAINMENT</th>\n",
       "      <th>POLICIES</th>\n",
       "      <th>hostel</th>\n",
       "      <th>location</th>\n",
       "      <th>num_awards</th>\n",
       "      <th>rev_highlights</th>\n",
       "      <th>country</th>\n",
       "      <th>city</th>\n",
       "      <th>hostel_id</th>\n",
       "      <th>country_id</th>\n",
       "    </tr>\n",
       "  </thead>\n",
       "  <tbody>\n",
       "    <tr>\n",
       "      <th>0</th>\n",
       "      <td>0</td>\n",
       "      <td>2.0</td>\n",
       "      <td>[stay with us near to the city center of budap...</td>\n",
       "      <td>[Linen Included , Free City Maps , Towels Incl...</td>\n",
       "      <td>[Breakfast Not Included, Air Conditioning, Out...</td>\n",
       "      <td>[Airport Transfers, Bicycle Hire, Luggage Stor...</td>\n",
       "      <td>[Restaurant, Meals Available, ]</td>\n",
       "      <td>[Wi-Fi, ]</td>\n",
       "      <td>[]</td>\n",
       "      <td>Fortuna Botel</td>\n",
       "      <td>Budapest, Hungary</td>\n",
       "      <td>0</td>\n",
       "      <td>[]</td>\n",
       "      <td>Hungary</td>\n",
       "      <td>Budapest</td>\n",
       "      <td>0</td>\n",
       "      <td>28.0</td>\n",
       "    </tr>\n",
       "  </tbody>\n",
       "</table>\n",
       "</div>"
      ],
      "text/plain": [
       "   Unnamed: 0  rating                                               desc  \\\n",
       "0           0     2.0  [stay with us near to the city center of budap...   \n",
       "\n",
       "                                                FREE  \\\n",
       "0  [Linen Included , Free City Maps , Towels Incl...   \n",
       "\n",
       "                                             GENERAL  \\\n",
       "0  [Breakfast Not Included, Air Conditioning, Out...   \n",
       "\n",
       "                                            SERVICES  \\\n",
       "0  [Airport Transfers, Bicycle Hire, Luggage Stor...   \n",
       "\n",
       "                        FOOD_DRINK ENTERTAINMENT POLICIES         hostel  \\\n",
       "0  [Restaurant, Meals Available, ]     [Wi-Fi, ]       []  Fortuna Botel   \n",
       "\n",
       "            location  num_awards rev_highlights  country      city  hostel_id  \\\n",
       "0  Budapest, Hungary           0             []  Hungary  Budapest          0   \n",
       "\n",
       "   country_id  \n",
       "0        28.0  "
      ]
     },
     "metadata": {},
     "output_type": "display_data"
    },
    {
     "data": {
      "text/plain": [
       "array(['Unnamed: 0', 'rating', 'desc', 'FREE', 'GENERAL', 'SERVICES',\n",
       "       'FOOD_DRINK', 'ENTERTAINMENT', 'POLICIES', 'hostel', 'location',\n",
       "       'num_awards', 'rev_highlights', 'country', 'city', 'hostel_id',\n",
       "       'country_id'], dtype=object)"
      ]
     },
     "metadata": {},
     "output_type": "display_data"
    }
   ],
   "source": [
    "# import clean revs data\n",
    "\n",
    "hostels_df = pd.read_csv('/Users/caitlinmowdy/Desktop/DSI-SF-2-caitlinmowdy/capstone-hostelworld/clean-data/clean_hostles_oct7.csv')\n",
    "display(hostels_df.shape, hostels_df.head(1),hostels_df.columns.values)"
   ]
  },
  {
   "cell_type": "markdown",
   "metadata": {},
   "source": [
    "## Observe the distribution of word counts"
   ]
  },
  {
   "cell_type": "code",
   "execution_count": 4,
   "metadata": {
    "collapsed": false
   },
   "outputs": [
    {
     "data": {
      "text/plain": [
       "matrix([[0, 0, 0, ..., 0, 0, 0],\n",
       "        [0, 0, 0, ..., 0, 0, 0],\n",
       "        [0, 0, 0, ..., 0, 0, 0],\n",
       "        ..., \n",
       "        [0, 0, 0, ..., 0, 0, 0],\n",
       "        [0, 0, 0, ..., 0, 0, 0],\n",
       "        [0, 0, 0, ..., 0, 0, 0]])"
      ]
     },
     "execution_count": 4,
     "metadata": {},
     "output_type": "execute_result"
    }
   ],
   "source": [
    "vectorizer = CountVectorizer(stop_words= 'english', ngram_range=(2,2))\n",
    "X = vectorizer.fit_transform(hostels_df.desc)\n",
    "X.todense()"
   ]
  },
  {
   "cell_type": "code",
   "execution_count": 5,
   "metadata": {
    "collapsed": false
   },
   "outputs": [
    {
     "data": {
      "text/plain": [
       "<matplotlib.axes._subplots.AxesSubplot at 0x11d034290>"
      ]
     },
     "execution_count": 5,
     "metadata": {},
     "output_type": "execute_result"
    },
    {
     "data": {
      "image/png": "[encoded data removed]",
      "text/plain": [
       "<matplotlib.figure.Figure at 0x11cfed8d0>"
      ]
     },
     "metadata": {},
     "output_type": "display_data"
    }
   ],
   "source": [
    "words = pd.DataFrame(X.toarray(), columns=vectorizer.get_feature_names())\n",
    "word_count = words.sum(axis=0).reset_index()\n",
    "word_count.columns = ['words','counts']\n",
    "word_count.sort_values('counts', ascending=False, inplace=True)\n",
    "word_count.head(50).plot(x='words', y='counts', kind='bar', figsize=(18,4))"
   ]
  },
  {
   "cell_type": "code",
   "execution_count": 6,
   "metadata": {
    "collapsed": false
   },
   "outputs": [
    {
     "data": {
      "text/plain": [
       "<matplotlib.axes._subplots.AxesSubplot at 0x11f5cab50>"
      ]
     },
     "execution_count": 6,
     "metadata": {},
     "output_type": "execute_result"
    },
    {
     "data": {
      "image/png": "[encoded data removed]",
      "text/plain": [
       "<matplotlib.figure.Figure at 0x11cfed450>"
      ]
     },
     "metadata": {},
     "output_type": "display_data"
    }
   ],
   "source": [
    "# look at what percentiles counts fall in \n",
    "# The counts of words are normally distributed\n",
    "\n",
    "word_count_percentiles = pd.DataFrame({\n",
    "        'percentile':np.arange(1,100,1),\n",
    "        'word_count':np.percentile(word_count.counts, np.arange(1., 100., 1))\n",
    "    })\n",
    "word_count_percentiles.plot(x='percentile', y='word_count', kind='bar', figsize=(18,4))"
   ]
  },
  {
   "cell_type": "markdown",
   "metadata": {},
   "source": [
    "## Use CountVectorizeer and LdaModel to create topics for hostel descriptions"
   ]
  },
  {
   "cell_type": "code",
   "execution_count": 29,
   "metadata": {
    "collapsed": true
   },
   "outputs": [],
   "source": [
    "# these are words I've decided to add to my stop words through a process of trial and error\n",
    "stop_wrds = ['hostel','hostels','customer','ive','comment','nice','place','did','10','min', 'youre',\n",
    "             'minutes','friendly','bit','minute','think','know','im','sure','great','temple','nights',\n",
    "             'really','stayed','hotel','like','just','didnt','id','ok','stay','dont','ve','light','red',\n",
    "             'wasnt','definitely','best','good','didn','don','free', 'walking', 'walk','taxes','payment','time',\n",
    "            'hours', 'storage','prior','card']\n",
    "\n",
    "# make a list my_stop_words with english stop words and new stop words\n",
    "my_stop_words = text.ENGLISH_STOP_WORDS.union(stop_wrds)"
   ]
  },
  {
   "cell_type": "code",
   "execution_count": 34,
   "metadata": {
    "collapsed": false
   },
   "outputs": [],
   "source": [
    "vectorizer = CountVectorizer(ngram_range=(2,2),stop_words=my_stop_words,max_df=.1)\n",
    "\n",
    "X = vectorizer.fit_transform(hostels_df.desc)\n",
    "X.todense()\n",
    "\n",
    "vocab2 = {v: k for k, v in vectorizer.vocabulary_.iteritems()}\n"
   ]
  },
  {
   "cell_type": "code",
   "execution_count": 35,
   "metadata": {
    "collapsed": false
   },
   "outputs": [
    {
     "data": {
      "text/plain": [
       "[(0,\n",
       "  u'0.001*equipped kitchen + 0.001*24 hour + 0.001*tea coffee + 0.001*air conditioning + 0.001*note cancellation'),\n",
       " (1,\n",
       "  u'0.001*arrival cash + 0.001*credit cards + 0.001*note cancellation + 0.001*cash credit + 0.001*guest house'),\n",
       " (2,\n",
       "  u'0.001*24 hour + 0.001*equipped kitchen + 0.001*hot water + 0.001*dorm rooms + 0.001*coffee tea'),\n",
       " (3,\n",
       "  u'0.001*air conditioning + 0.001*train station + 0.000*shared bathroom + 0.000*old town + 0.000*common room'),\n",
       " (4,\n",
       "  u'0.001*ks house + 0.001*credit cards + 0.001*old town + 0.001*train station + 0.001*air conditioning'),\n",
       " (5,\n",
       "  u'0.001*hot water + 0.001*train station + 0.001*24 hour + 0.001*city centre + 0.001*laundry service'),\n",
       " (6,\n",
       "  u'0.002*days arrival + 0.001*total price + 0.001*arrival date + 0.001*expected arrival + 0.001*cancellation conditions'),\n",
       " (7,\n",
       "  u'0.001*double bed + 0.001*private bathroom + 0.001*air conditioning + 0.001*guest house + 0.001*shared bathroom'),\n",
       " (8,\n",
       "  u'0.001*bed linen + 0.001*policies conditions + 0.001*check 1100 + 0.001*tourist information + 0.001*hot water'),\n",
       " (9,\n",
       "  u'0.001*arrival cash + 0.001*check 1100 + 0.001*credit cards + 0.001*old town + 0.001*rooms private')]"
      ]
     },
     "execution_count": 35,
     "metadata": {},
     "output_type": "execute_result"
    }
   ],
   "source": [
    "lda2 = models.LdaModel(\n",
    "   matutils.Sparse2Corpus(X, documents_columns=False),\n",
    "   num_topics  =  10,\n",
    "   passes      =  25,\n",
    "   iterations = 2500,\n",
    "   id2word     =  vocab2,\n",
    "   eval_every = 100,\n",
    "   chunksize = 2000\n",
    ")\n",
    "lda2.print_topics(num_topics=10, num_words=5)\n"
   ]
  },
  {
   "cell_type": "code",
   "execution_count": 13,
   "metadata": {
    "collapsed": false
   },
   "outputs": [
    {
     "ename": "SyntaxError",
     "evalue": "invalid syntax (<ipython-input-13-aa1705eae3e3>, line 1)",
     "output_type": "error",
     "traceback": [
      "\u001b[0;36m  File \u001b[0;32m\"<ipython-input-13-aa1705eae3e3>\"\u001b[0;36m, line \u001b[0;32m1\u001b[0m\n\u001b[0;31m    24 hours, private rooms, breakfast included,bus station,internet access\u001b[0m\n\u001b[0m           ^\u001b[0m\n\u001b[0;31mSyntaxError\u001b[0m\u001b[0;31m:\u001b[0m invalid syntax\n"
     ]
    }
   ],
   "source": [
    "24 hours, private rooms, breakfast included,bus station,internet access\n",
    "private rooms, 24 hours, fully equipped, 24 hour,cancellation policy\n",
    "cancellation policy,breakfast included, arrival cash,credit card,note cancellation\n",
    "prior arrival,credit card,cancellation policy,days prior,breakfast included\n",
    "private rooms,24 hours,prior arrival,total price, ks house\n",
    "cancellation policy,24 hours,breakfast included,private rooms,fully equipped\n",
    "private rooms,24 hours,cancellation policy,fully equipped,old town\n",
    "breakfast included,cancellation polic,24 hours,guest house,arrival cash\n",
    "double bed,private bathroom,breakfast included,private rooms,hot water\n",
    "cancellation policy,24 hours,private rooms,breakfast included,fully equipped"
   ]
  },
  {
   "cell_type": "code",
   "execution_count": 9,
   "metadata": {
    "collapsed": false
   },
   "outputs": [],
   "source": [
    "bow = []\n",
    "blank_documents = 0\n",
    "\n",
    "for document in X.toarray():\n",
    "\n",
    "    single_document = []\n",
    "\n",
    "    for token_id, token_count in enumerate(document):\n",
    "        \n",
    "        if token_count > 0:\n",
    "              single_document.append((token_id, token_count))\n",
    "            \n",
    "    if len(single_document)>0:\n",
    "        bow.append(single_document)\n",
    "    else:\n",
    "        blank_documents += 1\n",
    "        bow.append([])\n",
    "        "
   ]
  },
  {
   "cell_type": "code",
   "execution_count": 1,
   "metadata": {
    "collapsed": false
   },
   "outputs": [
    {
     "ename": "NameError",
     "evalue": "name 'lda2' is not defined",
     "output_type": "error",
     "traceback": [
      "\u001b[0;31m---------------------------------------------------------------------------\u001b[0m",
      "\u001b[0;31mNameError\u001b[0m                                 Traceback (most recent call last)",
      "\u001b[0;32m<ipython-input-1-d2533d95f921>\u001b[0m in \u001b[0;36m<module>\u001b[0;34m()\u001b[0m\n\u001b[0;32m----> 1\u001b[0;31m \u001b[0mtopic_proba\u001b[0m \u001b[0;34m=\u001b[0m\u001b[0mlda2\u001b[0m\u001b[0;34m.\u001b[0m\u001b[0mget_document_topics\u001b[0m\u001b[0;34m(\u001b[0m\u001b[0mbow\u001b[0m\u001b[0;34m)\u001b[0m\u001b[0;34m\u001b[0m\u001b[0m\n\u001b[0m",
      "\u001b[0;31mNameError\u001b[0m: name 'lda2' is not defined"
     ]
    }
   ],
   "source": [
    "topic_proba =lda2.get_document_topics(bow)"
   ]
  },
  {
   "cell_type": "code",
   "execution_count": 13,
   "metadata": {
    "collapsed": false
   },
   "outputs": [],
   "source": [
    "# put topic prob into dataframe\n",
    "topic_df = np.zeros((len(topic_proba), 10))\n",
    "for rowid, tp in enumerate(topic_proba):\n",
    "    for colid, p in tp:\n",
    "        topic_df[rowid, colid] = p\n",
    "        \n",
    "topic_df = pd.DataFrame(topic_df, columns=['t'+str(i+1) for i in range(topic_df.shape[1])])\n"
   ]
  },
  {
   "cell_type": "code",
   "execution_count": 14,
   "metadata": {
    "collapsed": false
   },
   "outputs": [
    {
     "data": {
      "text/html": [
       "<div>\n",
       "<table border=\"1\" class=\"dataframe\">\n",
       "  <thead>\n",
       "    <tr style=\"text-align: right;\">\n",
       "      <th></th>\n",
       "      <th>t1</th>\n",
       "      <th>t2</th>\n",
       "      <th>t3</th>\n",
       "      <th>t4</th>\n",
       "      <th>t5</th>\n",
       "      <th>t6</th>\n",
       "      <th>t7</th>\n",
       "      <th>t8</th>\n",
       "      <th>t9</th>\n",
       "      <th>t10</th>\n",
       "    </tr>\n",
       "  </thead>\n",
       "  <tbody>\n",
       "    <tr>\n",
       "      <th>0</th>\n",
       "      <td>0.0</td>\n",
       "      <td>0.986955</td>\n",
       "      <td>0.000000</td>\n",
       "      <td>0.0</td>\n",
       "      <td>0.0</td>\n",
       "      <td>0.000000</td>\n",
       "      <td>0.0</td>\n",
       "      <td>0.0</td>\n",
       "      <td>0.0</td>\n",
       "      <td>0.000000</td>\n",
       "    </tr>\n",
       "    <tr>\n",
       "      <th>1</th>\n",
       "      <td>0.0</td>\n",
       "      <td>0.000000</td>\n",
       "      <td>0.000000</td>\n",
       "      <td>0.0</td>\n",
       "      <td>0.0</td>\n",
       "      <td>0.000000</td>\n",
       "      <td>0.0</td>\n",
       "      <td>0.0</td>\n",
       "      <td>0.0</td>\n",
       "      <td>0.994193</td>\n",
       "    </tr>\n",
       "    <tr>\n",
       "      <th>2</th>\n",
       "      <td>0.0</td>\n",
       "      <td>0.000000</td>\n",
       "      <td>0.122432</td>\n",
       "      <td>0.0</td>\n",
       "      <td>0.0</td>\n",
       "      <td>0.871552</td>\n",
       "      <td>0.0</td>\n",
       "      <td>0.0</td>\n",
       "      <td>0.0</td>\n",
       "      <td>0.000000</td>\n",
       "    </tr>\n",
       "  </tbody>\n",
       "</table>\n",
       "</div>"
      ],
      "text/plain": [
       "    t1        t2        t3   t4   t5        t6   t7   t8   t9       t10\n",
       "0  0.0  0.986955  0.000000  0.0  0.0  0.000000  0.0  0.0  0.0  0.000000\n",
       "1  0.0  0.000000  0.000000  0.0  0.0  0.000000  0.0  0.0  0.0  0.994193\n",
       "2  0.0  0.000000  0.122432  0.0  0.0  0.871552  0.0  0.0  0.0  0.000000"
      ]
     },
     "execution_count": 14,
     "metadata": {},
     "output_type": "execute_result"
    }
   ],
   "source": [
    "topic_df.head(3)\n"
   ]
  },
  {
   "cell_type": "code",
   "execution_count": 17,
   "metadata": {
    "collapsed": false
   },
   "outputs": [],
   "source": [
    "# create new columns to topic porb dataframe for the sum of topic prob and max topic probabitliyt for every document\n",
    "\n",
    "cols = topic_df.columns = ['H_t1','H_t2','H_t3','H_t4','H_t5','H_t6','H_t7','H_t8','H_t9','H_t10']\n",
    "topic_df['max_prob'] =  topic_df[cols].apply(np.max, axis=1)"
   ]
  },
  {
   "cell_type": "code",
   "execution_count": 19,
   "metadata": {
    "collapsed": false
   },
   "outputs": [
    {
     "data": {
      "text/html": [
       "<div>\n",
       "<table border=\"1\" class=\"dataframe\">\n",
       "  <thead>\n",
       "    <tr style=\"text-align: right;\">\n",
       "      <th></th>\n",
       "      <th>H_t1</th>\n",
       "      <th>H_t2</th>\n",
       "      <th>H_t3</th>\n",
       "      <th>H_t4</th>\n",
       "      <th>H_t5</th>\n",
       "      <th>H_t6</th>\n",
       "      <th>H_t7</th>\n",
       "      <th>H_t8</th>\n",
       "      <th>H_t9</th>\n",
       "      <th>H_t10</th>\n",
       "      <th>max_prob</th>\n",
       "    </tr>\n",
       "  </thead>\n",
       "  <tbody>\n",
       "  </tbody>\n",
       "</table>\n",
       "</div>"
      ],
      "text/plain": [
       "Empty DataFrame\n",
       "Columns: [H_t1, H_t2, H_t3, H_t4, H_t5, H_t6, H_t7, H_t8, H_t9, H_t10, max_prob]\n",
       "Index: []"
      ]
     },
     "execution_count": 19,
     "metadata": {},
     "output_type": "execute_result"
    }
   ],
   "source": [
    "topic_df[topic_df.max_prob==0]"
   ]
  },
  {
   "cell_type": "code",
   "execution_count": 20,
   "metadata": {
    "collapsed": false
   },
   "outputs": [
    {
     "data": {
      "text/plain": [
       "<matplotlib.axes._subplots.AxesSubplot at 0x10627ea90>"
      ]
     },
     "execution_count": 20,
     "metadata": {},
     "output_type": "execute_result"
    },
    {
     "data": {
      "image/png": "[encoded data removed]",
      "text/plain": [
       "<matplotlib.figure.Figure at 0x964e0b690>"
      ]
     },
     "metadata": {},
     "output_type": "display_data"
    }
   ],
   "source": [
    "# look at dist of max topic prob\n",
    "# want max topic prob to be high \n",
    "topic_df['max_prob'].hist()"
   ]
  },
  {
   "cell_type": "code",
   "execution_count": 21,
   "metadata": {
    "collapsed": true
   },
   "outputs": [],
   "source": [
    "# Make columns for the number of free, services, food-drink, and entertainment features hostels offer\n",
    "\n",
    "hostels_df['num_free'] = [len(list(h.split(','))) for h in hostels_df.FREE]\n",
    "hostels_df['num_serv'] = [(len(list(h.split(',')))-1) for h in hostels_df.SERVICES]\n",
    "hostels_df['num_food'] = [(len(list(h.split(',')))-1) for h in hostels_df.FOOD_DRINK]\n",
    "hostels_df['num_ent'] = [(len(list(h.split(',')))-1) for h in hostels_df.ENTERTAINMENT]"
   ]
  },
  {
   "cell_type": "code",
   "execution_count": 22,
   "metadata": {
    "collapsed": true
   },
   "outputs": [],
   "source": [
    "# find the most common hostel policies\n",
    "\n",
    "cv_like = CountVectorizer(ngram_range=(2,2), binary=True, stop_words='english')#, max_features=2500\n",
    "words_like = cv_like.fit_transform(hostels_df.POLICIES).todense()\n",
    "\n",
    "summaries = \"\".join(hostels_df['POLICIES'])\n",
    "poli_summaries = cv_like.build_analyzer()(summaries)\n",
    "poli_vocab = Counter(poli_summaries).most_common(40)\n",
    "poli_vocab = pd.DataFrame(poli_vocab)\n",
    "poli_vocab.columns=['word','count']"
   ]
  },
  {
   "cell_type": "code",
   "execution_count": 23,
   "metadata": {
    "collapsed": false
   },
   "outputs": [],
   "source": [
    "# make a list of the most relevant top policies\n",
    "\n",
    "keys = ['Cards Accepted','Taxes Included','Non Smoking','Child Friendly','Smoking Taxes','Age Restriction']"
   ]
  },
  {
   "cell_type": "code",
   "execution_count": 24,
   "metadata": {
    "collapsed": false
   },
   "outputs": [],
   "source": [
    "# make a column that is the number of the top policies a hostel has \n",
    "\n",
    "def num_polis(value):\n",
    "    t = value.split(',')\n",
    "    return len([k for k in keys if (str(k) in str(t))])\n",
    "\n",
    "hostels_df['num_poli'] = hostels_df.POLICIES.map(num_polis)"
   ]
  },
  {
   "cell_type": "code",
   "execution_count": 25,
   "metadata": {
    "collapsed": false
   },
   "outputs": [],
   "source": [
    "# def to find the number of review highlights a hostel has \n",
    "\n",
    "def num_hl(value):\n",
    "    if len(value)>2:\n",
    "        value = len(value.split(','))\n",
    "    else:\n",
    "        value = 0\n",
    "    return value\n",
    "\n",
    "# use review highlights function to create a new column that is the number of review highlights a hostel has\n",
    "\n",
    "hostels_df['num_highlights'] = hostels_df.rev_highlights.map(num_hl)\n"
   ]
  },
  {
   "cell_type": "code",
   "execution_count": 26,
   "metadata": {
    "collapsed": false
   },
   "outputs": [
    {
     "data": {
      "text/html": [
       "<div>\n",
       "<table border=\"1\" class=\"dataframe\">\n",
       "  <thead>\n",
       "    <tr style=\"text-align: right;\">\n",
       "      <th></th>\n",
       "      <th>Unnamed: 0</th>\n",
       "      <th>rating</th>\n",
       "      <th>desc</th>\n",
       "      <th>FREE</th>\n",
       "      <th>GENERAL</th>\n",
       "      <th>SERVICES</th>\n",
       "      <th>FOOD_DRINK</th>\n",
       "      <th>ENTERTAINMENT</th>\n",
       "      <th>POLICIES</th>\n",
       "      <th>hostel</th>\n",
       "      <th>...</th>\n",
       "      <th>country</th>\n",
       "      <th>city</th>\n",
       "      <th>hostel_id</th>\n",
       "      <th>country_id</th>\n",
       "      <th>num_free</th>\n",
       "      <th>num_serv</th>\n",
       "      <th>num_food</th>\n",
       "      <th>num_ent</th>\n",
       "      <th>num_poli</th>\n",
       "      <th>num_highlights</th>\n",
       "    </tr>\n",
       "  </thead>\n",
       "  <tbody>\n",
       "    <tr>\n",
       "      <th>0</th>\n",
       "      <td>0</td>\n",
       "      <td>2.0</td>\n",
       "      <td>[stay with us near to the city center of budap...</td>\n",
       "      <td>[Linen Included , Free City Maps , Towels Incl...</td>\n",
       "      <td>[Breakfast Not Included, Air Conditioning, Out...</td>\n",
       "      <td>[Airport Transfers, Bicycle Hire, Luggage Stor...</td>\n",
       "      <td>[Restaurant, Meals Available, ]</td>\n",
       "      <td>[Wi-Fi, ]</td>\n",
       "      <td>[]</td>\n",
       "      <td>Fortuna Botel</td>\n",
       "      <td>...</td>\n",
       "      <td>Hungary</td>\n",
       "      <td>Budapest</td>\n",
       "      <td>0</td>\n",
       "      <td>28.0</td>\n",
       "      <td>5</td>\n",
       "      <td>6</td>\n",
       "      <td>2</td>\n",
       "      <td>1</td>\n",
       "      <td>0</td>\n",
       "      <td>0</td>\n",
       "    </tr>\n",
       "    <tr>\n",
       "      <th>1</th>\n",
       "      <td>1</td>\n",
       "      <td>7.5</td>\n",
       "      <td>[the equity point sea is a lively hostel locat...</td>\n",
       "      <td>[Free Breakfast , Free Internet Access ]</td>\n",
       "      <td>[Wheelchair Friendly, Security Lockers, Common...</td>\n",
       "      <td>[Luggage Storage, 24 Hour Reception, Tours/Tra...</td>\n",
       "      <td>[Restaurant, Bar, ]</td>\n",
       "      <td>[Games Room, ]</td>\n",
       "      <td>[Age Restriction, Credit Cards Accepted, No Cu...</td>\n",
       "      <td>Equity Point Sea</td>\n",
       "      <td>...</td>\n",
       "      <td>Spain</td>\n",
       "      <td>Barcelona</td>\n",
       "      <td>1</td>\n",
       "      <td>5.0</td>\n",
       "      <td>2</td>\n",
       "      <td>5</td>\n",
       "      <td>2</td>\n",
       "      <td>1</td>\n",
       "      <td>2</td>\n",
       "      <td>3</td>\n",
       "    </tr>\n",
       "  </tbody>\n",
       "</table>\n",
       "<p>2 rows × 23 columns</p>\n",
       "</div>"
      ],
      "text/plain": [
       "   Unnamed: 0  rating                                               desc  \\\n",
       "0           0     2.0  [stay with us near to the city center of budap...   \n",
       "1           1     7.5  [the equity point sea is a lively hostel locat...   \n",
       "\n",
       "                                                FREE  \\\n",
       "0  [Linen Included , Free City Maps , Towels Incl...   \n",
       "1           [Free Breakfast , Free Internet Access ]   \n",
       "\n",
       "                                             GENERAL  \\\n",
       "0  [Breakfast Not Included, Air Conditioning, Out...   \n",
       "1  [Wheelchair Friendly, Security Lockers, Common...   \n",
       "\n",
       "                                            SERVICES  \\\n",
       "0  [Airport Transfers, Bicycle Hire, Luggage Stor...   \n",
       "1  [Luggage Storage, 24 Hour Reception, Tours/Tra...   \n",
       "\n",
       "                        FOOD_DRINK   ENTERTAINMENT  \\\n",
       "0  [Restaurant, Meals Available, ]       [Wi-Fi, ]   \n",
       "1              [Restaurant, Bar, ]  [Games Room, ]   \n",
       "\n",
       "                                            POLICIES            hostel  \\\n",
       "0                                                 []     Fortuna Botel   \n",
       "1  [Age Restriction, Credit Cards Accepted, No Cu...  Equity Point Sea   \n",
       "\n",
       "        ...        country       city hostel_id country_id num_free  num_serv  \\\n",
       "0       ...        Hungary   Budapest         0       28.0        5         6   \n",
       "1       ...          Spain  Barcelona         1        5.0        2         5   \n",
       "\n",
       "   num_food  num_ent  num_poli  num_highlights  \n",
       "0         2        1         0               0  \n",
       "1         2        1         2               3  \n",
       "\n",
       "[2 rows x 23 columns]"
      ]
     },
     "execution_count": 26,
     "metadata": {},
     "output_type": "execute_result"
    }
   ],
   "source": [
    "# view hostel DF with new columns \n",
    "hostels_df.head(2)"
   ]
  },
  {
   "cell_type": "code",
   "execution_count": 27,
   "metadata": {
    "collapsed": false
   },
   "outputs": [
    {
     "data": {
      "text/plain": [
       "array(['Unnamed: 0', 'rating', 'desc', 'FREE', 'GENERAL', 'SERVICES',\n",
       "       'FOOD_DRINK', 'ENTERTAINMENT', 'POLICIES', 'hostel', 'location',\n",
       "       'num_awards', 'rev_highlights', 'country', 'city', 'hostel_id',\n",
       "       'country_id', 'num_free', 'num_serv', 'num_food', 'num_ent',\n",
       "       'num_poli', 'num_highlights'], dtype=object)"
      ]
     },
     "execution_count": 27,
     "metadata": {},
     "output_type": "execute_result"
    }
   ],
   "source": [
    "hostels_df.columns.values"
   ]
  },
  {
   "cell_type": "code",
   "execution_count": 28,
   "metadata": {
    "collapsed": false
   },
   "outputs": [
    {
     "data": {
      "text/plain": [
       "((5453, 23), (5453, 11))"
      ]
     },
     "execution_count": 28,
     "metadata": {},
     "output_type": "execute_result"
    }
   ],
   "source": [
    "hostels_df.shape, topic_df.shape"
   ]
  },
  {
   "cell_type": "code",
   "execution_count": 31,
   "metadata": {
    "collapsed": false
   },
   "outputs": [
    {
     "data": {
      "text/html": [
       "<div>\n",
       "<table border=\"1\" class=\"dataframe\">\n",
       "  <thead>\n",
       "    <tr style=\"text-align: right;\">\n",
       "      <th></th>\n",
       "      <th>Unnamed: 0</th>\n",
       "      <th>rating</th>\n",
       "      <th>desc</th>\n",
       "      <th>FREE</th>\n",
       "      <th>GENERAL</th>\n",
       "      <th>SERVICES</th>\n",
       "      <th>FOOD_DRINK</th>\n",
       "      <th>ENTERTAINMENT</th>\n",
       "      <th>POLICIES</th>\n",
       "      <th>hostel</th>\n",
       "      <th>...</th>\n",
       "      <th>H_t2</th>\n",
       "      <th>H_t3</th>\n",
       "      <th>H_t4</th>\n",
       "      <th>H_t5</th>\n",
       "      <th>H_t6</th>\n",
       "      <th>H_t7</th>\n",
       "      <th>H_t8</th>\n",
       "      <th>H_t9</th>\n",
       "      <th>H_t10</th>\n",
       "      <th>max_prob</th>\n",
       "    </tr>\n",
       "  </thead>\n",
       "  <tbody>\n",
       "    <tr>\n",
       "      <th>0</th>\n",
       "      <td>0</td>\n",
       "      <td>2.0</td>\n",
       "      <td>[stay with us near to the city center of budap...</td>\n",
       "      <td>[Linen Included , Free City Maps , Towels Incl...</td>\n",
       "      <td>[Breakfast Not Included, Air Conditioning, Out...</td>\n",
       "      <td>[Airport Transfers, Bicycle Hire, Luggage Stor...</td>\n",
       "      <td>[Restaurant, Meals Available, ]</td>\n",
       "      <td>[Wi-Fi, ]</td>\n",
       "      <td>[]</td>\n",
       "      <td>Fortuna Botel</td>\n",
       "      <td>...</td>\n",
       "      <td>0.986955</td>\n",
       "      <td>0.0</td>\n",
       "      <td>0.0</td>\n",
       "      <td>0.0</td>\n",
       "      <td>0.0</td>\n",
       "      <td>0.0</td>\n",
       "      <td>0.0</td>\n",
       "      <td>0.0</td>\n",
       "      <td>0.000000</td>\n",
       "      <td>0.986955</td>\n",
       "    </tr>\n",
       "    <tr>\n",
       "      <th>1</th>\n",
       "      <td>1</td>\n",
       "      <td>7.5</td>\n",
       "      <td>[the equity point sea is a lively hostel locat...</td>\n",
       "      <td>[Free Breakfast , Free Internet Access ]</td>\n",
       "      <td>[Wheelchair Friendly, Security Lockers, Common...</td>\n",
       "      <td>[Luggage Storage, 24 Hour Reception, Tours/Tra...</td>\n",
       "      <td>[Restaurant, Bar, ]</td>\n",
       "      <td>[Games Room, ]</td>\n",
       "      <td>[Age Restriction, Credit Cards Accepted, No Cu...</td>\n",
       "      <td>Equity Point Sea</td>\n",
       "      <td>...</td>\n",
       "      <td>0.000000</td>\n",
       "      <td>0.0</td>\n",
       "      <td>0.0</td>\n",
       "      <td>0.0</td>\n",
       "      <td>0.0</td>\n",
       "      <td>0.0</td>\n",
       "      <td>0.0</td>\n",
       "      <td>0.0</td>\n",
       "      <td>0.994193</td>\n",
       "      <td>0.994193</td>\n",
       "    </tr>\n",
       "  </tbody>\n",
       "</table>\n",
       "<p>2 rows × 34 columns</p>\n",
       "</div>"
      ],
      "text/plain": [
       "   Unnamed: 0  rating                                               desc  \\\n",
       "0           0     2.0  [stay with us near to the city center of budap...   \n",
       "1           1     7.5  [the equity point sea is a lively hostel locat...   \n",
       "\n",
       "                                                FREE  \\\n",
       "0  [Linen Included , Free City Maps , Towels Incl...   \n",
       "1           [Free Breakfast , Free Internet Access ]   \n",
       "\n",
       "                                             GENERAL  \\\n",
       "0  [Breakfast Not Included, Air Conditioning, Out...   \n",
       "1  [Wheelchair Friendly, Security Lockers, Common...   \n",
       "\n",
       "                                            SERVICES  \\\n",
       "0  [Airport Transfers, Bicycle Hire, Luggage Stor...   \n",
       "1  [Luggage Storage, 24 Hour Reception, Tours/Tra...   \n",
       "\n",
       "                        FOOD_DRINK   ENTERTAINMENT  \\\n",
       "0  [Restaurant, Meals Available, ]       [Wi-Fi, ]   \n",
       "1              [Restaurant, Bar, ]  [Games Room, ]   \n",
       "\n",
       "                                            POLICIES            hostel  \\\n",
       "0                                                 []     Fortuna Botel   \n",
       "1  [Age Restriction, Credit Cards Accepted, No Cu...  Equity Point Sea   \n",
       "\n",
       "     ...         H_t2  H_t3 H_t4 H_t5 H_t6  H_t7  H_t8  H_t9     H_t10  \\\n",
       "0    ...     0.986955   0.0  0.0  0.0  0.0   0.0   0.0   0.0  0.000000   \n",
       "1    ...     0.000000   0.0  0.0  0.0  0.0   0.0   0.0   0.0  0.994193   \n",
       "\n",
       "   max_prob  \n",
       "0  0.986955  \n",
       "1  0.994193  \n",
       "\n",
       "[2 rows x 34 columns]"
      ]
     },
     "execution_count": 31,
     "metadata": {},
     "output_type": "execute_result"
    }
   ],
   "source": [
    "result = pd.concat([hostels_df, topic_df], axis=1)\n",
    "result.shape\n",
    "result.head(2)"
   ]
  },
  {
   "cell_type": "code",
   "execution_count": 33,
   "metadata": {
    "collapsed": false
   },
   "outputs": [],
   "source": [
    "result.to_csv(path_or_buf='/Users/caitlinmowdy/Desktop/DSI-SF-2-caitlinmowdy/capstone-hostelworld/clean-data/hostel_revs_oct9.csv',encoding='utf8')"
   ]
  },
  {
   "cell_type": "code",
   "execution_count": 35,
   "metadata": {
    "collapsed": false
   },
   "outputs": [
    {
     "data": {
      "text/plain": [
       "array(['Unnamed: 0', 'rating', 'desc', 'FREE', 'GENERAL', 'SERVICES',\n",
       "       'FOOD_DRINK', 'ENTERTAINMENT', 'POLICIES', 'hostel', 'location',\n",
       "       'num_awards', 'rev_highlights', 'country', 'city', 'hostel_id',\n",
       "       'country_id', 'num_free', 'num_serv', 'num_food', 'num_ent',\n",
       "       'num_poli', 'num_highlights', 'H_t1', 'H_t2', 'H_t3', 'H_t4',\n",
       "       'H_t5', 'H_t6', 'H_t7', 'H_t8', 'H_t9', 'H_t10', 'max_prob'], dtype=object)"
      ]
     },
     "execution_count": 35,
     "metadata": {},
     "output_type": "execute_result"
    }
   ],
   "source": [
    "result.columns.values"
   ]
  },
  {
   "cell_type": "code",
   "execution_count": 37,
   "metadata": {
    "collapsed": false
   },
   "outputs": [
    {
     "data": {
      "text/html": [
       "<div>\n",
       "<table border=\"1\" class=\"dataframe\">\n",
       "  <thead>\n",
       "    <tr style=\"text-align: right;\">\n",
       "      <th></th>\n",
       "      <th>hostel_id</th>\n",
       "      <th>rating</th>\n",
       "      <th>num_awards</th>\n",
       "      <th>country_id</th>\n",
       "      <th>num_free</th>\n",
       "      <th>num_serv</th>\n",
       "      <th>num_food</th>\n",
       "      <th>num_ent</th>\n",
       "      <th>num_poli</th>\n",
       "      <th>num_highlights</th>\n",
       "      <th>H_t1</th>\n",
       "      <th>H_t2</th>\n",
       "      <th>H_t3</th>\n",
       "      <th>H_t4</th>\n",
       "      <th>H_t5</th>\n",
       "      <th>H_t6</th>\n",
       "      <th>H_t7</th>\n",
       "      <th>H_t8</th>\n",
       "      <th>H_t9</th>\n",
       "      <th>H_t10</th>\n",
       "    </tr>\n",
       "  </thead>\n",
       "  <tbody>\n",
       "    <tr>\n",
       "      <th>0</th>\n",
       "      <td>0</td>\n",
       "      <td>2.0</td>\n",
       "      <td>0</td>\n",
       "      <td>28.0</td>\n",
       "      <td>5</td>\n",
       "      <td>6</td>\n",
       "      <td>2</td>\n",
       "      <td>1</td>\n",
       "      <td>0</td>\n",
       "      <td>0</td>\n",
       "      <td>0.0</td>\n",
       "      <td>0.986955</td>\n",
       "      <td>0.0</td>\n",
       "      <td>0.0</td>\n",
       "      <td>0.0</td>\n",
       "      <td>0.0</td>\n",
       "      <td>0.0</td>\n",
       "      <td>0.0</td>\n",
       "      <td>0.0</td>\n",
       "      <td>0.000000</td>\n",
       "    </tr>\n",
       "    <tr>\n",
       "      <th>1</th>\n",
       "      <td>1</td>\n",
       "      <td>7.5</td>\n",
       "      <td>0</td>\n",
       "      <td>5.0</td>\n",
       "      <td>2</td>\n",
       "      <td>5</td>\n",
       "      <td>2</td>\n",
       "      <td>1</td>\n",
       "      <td>2</td>\n",
       "      <td>3</td>\n",
       "      <td>0.0</td>\n",
       "      <td>0.000000</td>\n",
       "      <td>0.0</td>\n",
       "      <td>0.0</td>\n",
       "      <td>0.0</td>\n",
       "      <td>0.0</td>\n",
       "      <td>0.0</td>\n",
       "      <td>0.0</td>\n",
       "      <td>0.0</td>\n",
       "      <td>0.994193</td>\n",
       "    </tr>\n",
       "  </tbody>\n",
       "</table>\n",
       "</div>"
      ],
      "text/plain": [
       "   hostel_id  rating  num_awards  country_id  num_free  num_serv  num_food  \\\n",
       "0          0     2.0           0        28.0         5         6         2   \n",
       "1          1     7.5           0         5.0         2         5         2   \n",
       "\n",
       "   num_ent  num_poli  num_highlights  H_t1      H_t2  H_t3  H_t4  H_t5  H_t6  \\\n",
       "0        1         0               0   0.0  0.986955   0.0   0.0   0.0   0.0   \n",
       "1        1         2               3   0.0  0.000000   0.0   0.0   0.0   0.0   \n",
       "\n",
       "   H_t7  H_t8  H_t9     H_t10  \n",
       "0   0.0   0.0   0.0  0.000000  \n",
       "1   0.0   0.0   0.0  0.994193  "
      ]
     },
     "execution_count": 37,
     "metadata": {},
     "output_type": "execute_result"
    }
   ],
   "source": [
    "# Hostel relevant hostel features\n",
    "hostels_small = pd.DataFrame(result[[ 'hostel_id', 'rating','num_awards',\n",
    "       'country_id', 'num_free', 'num_serv', 'num_food', 'num_ent',\n",
    "       'num_poli', 'num_highlights', 'H_t1', 'H_t2', 'H_t3', 'H_t4',\n",
    "       'H_t5', 'H_t6', 'H_t7', 'H_t8', 'H_t9', 'H_t10']])\n",
    "hostels_small.head(2)"
   ]
  },
  {
   "cell_type": "code",
   "execution_count": 38,
   "metadata": {
    "collapsed": false
   },
   "outputs": [
    {
     "data": {
      "text/plain": [
       "<matplotlib.axes._subplots.AxesSubplot at 0x964fcc250>"
      ]
     },
     "execution_count": 38,
     "metadata": {},
     "output_type": "execute_result"
    },
    {
     "data": {
      "image/png": "[encoded data removed]",
      "text/plain": [
       "<matplotlib.figure.Figure at 0x964fccbd0>"
      ]
     },
     "metadata": {},
     "output_type": "display_data"
    }
   ],
   "source": [
    "cor = hostels_small.corr()\n",
    "sns.heatmap(cor)"
   ]
  },
  {
   "cell_type": "code",
   "execution_count": null,
   "metadata": {
    "collapsed": true
   },
   "outputs": [],
   "source": []
  }
 ],
 "metadata": {
  "anaconda-cloud": {},
  "kernelspec": {
   "display_name": "Python [dsi]",
   "language": "python",
   "name": "Python [dsi]"
  },
  "language_info": {
   "codemirror_mode": {
    "name": "ipython",
    "version": 2
   },
   "file_extension": ".py",
   "mimetype": "text/x-python",
   "name": "python",
   "nbconvert_exporter": "python",
   "pygments_lexer": "ipython2",
   "version": "2.7.12"
  }
 },
 "nbformat": 4,
 "nbformat_minor": 0
}

{
 "cells": [
  {
   "cell_type": "markdown",
   "metadata": {},
   "source": [
    "# Topic Modeling of Hostels"
   ]
  },
  {
   "cell_type": "code",
   "execution_count": 16,
   "metadata": {
    "collapsed": true
   },
   "outputs": [],
   "source": [
    "import pandas as pd\n",
    "from IPython.display import display\n",
    "from sklearn.feature_extraction.text import CountVectorizer\n",
    "from collections import Counter\n",
    "import seaborn as sns\n",
    "%matplotlib inline\n",
    "from gensim import corpora, models, matutils\n",
    "from collections import defaultdict\n",
    "from sklearn.feature_extraction import text\n",
    "import numpy as np"
   ]
  },
  {
   "cell_type": "code",
   "execution_count": 8,
   "metadata": {
    "collapsed": false
   },
   "outputs": [
    {
     "data": {
      "text/plain": [
       "(5453, 15)"
      ]
     },
     "metadata": {},
     "output_type": "display_data"
    },
    {
     "data": {
      "text/html": [
       "<div>\n",
       "<table border=\"1\" class=\"dataframe\">\n",
       "  <thead>\n",
       "    <tr style=\"text-align: right;\">\n",
       "      <th></th>\n",
       "      <th>Unnamed: 0</th>\n",
       "      <th>rating</th>\n",
       "      <th>desc</th>\n",
       "      <th>FREE</th>\n",
       "      <th>GENERAL</th>\n",
       "      <th>SERVICES</th>\n",
       "      <th>FOOD_DRINK</th>\n",
       "      <th>ENTERTAINMENT</th>\n",
       "      <th>POLICIES</th>\n",
       "      <th>hostel</th>\n",
       "      <th>location</th>\n",
       "      <th>num_awards</th>\n",
       "      <th>rev_highlights</th>\n",
       "      <th>country</th>\n",
       "      <th>city</th>\n",
       "    </tr>\n",
       "  </thead>\n",
       "  <tbody>\n",
       "    <tr>\n",
       "      <th>0</th>\n",
       "      <td>0</td>\n",
       "      <td>2.0</td>\n",
       "      <td>[stay with us near to the city center of budap...</td>\n",
       "      <td>[Linen Included , Free City Maps , Towels Incl...</td>\n",
       "      <td>[Breakfast Not Included, Air Conditioning, Out...</td>\n",
       "      <td>[Airport Transfers, Bicycle Hire, Luggage Stor...</td>\n",
       "      <td>[Restaurant, Meals Available, ]</td>\n",
       "      <td>[Wi-Fi, ]</td>\n",
       "      <td>[]</td>\n",
       "      <td>Fortuna Botel</td>\n",
       "      <td>Budapest, Hungary</td>\n",
       "      <td>0</td>\n",
       "      <td>[]</td>\n",
       "      <td>Hungary</td>\n",
       "      <td>Budapest</td>\n",
       "    </tr>\n",
       "    <tr>\n",
       "      <th>1</th>\n",
       "      <td>1</td>\n",
       "      <td>7.5</td>\n",
       "      <td>[the equity point sea is a lively hostel locat...</td>\n",
       "      <td>[Free Breakfast , Free Internet Access ]</td>\n",
       "      <td>[Wheelchair Friendly, Security Lockers, Common...</td>\n",
       "      <td>[Luggage Storage, 24 Hour Reception, Tours/Tra...</td>\n",
       "      <td>[Restaurant, Bar, ]</td>\n",
       "      <td>[Games Room, ]</td>\n",
       "      <td>[Age Restriction, Credit Cards Accepted, No Cu...</td>\n",
       "      <td>Equity Point Sea</td>\n",
       "      <td>Barcelona, Spain</td>\n",
       "      <td>0</td>\n",
       "      <td>[Perfect Location, Brilliant Staff, Good Clean...</td>\n",
       "      <td>Spain</td>\n",
       "      <td>Barcelona</td>\n",
       "    </tr>\n",
       "  </tbody>\n",
       "</table>\n",
       "</div>"
      ],
      "text/plain": [
       "   Unnamed: 0  rating                                               desc  \\\n",
       "0           0     2.0  [stay with us near to the city center of budap...   \n",
       "1           1     7.5  [the equity point sea is a lively hostel locat...   \n",
       "\n",
       "                                                FREE  \\\n",
       "0  [Linen Included , Free City Maps , Towels Incl...   \n",
       "1           [Free Breakfast , Free Internet Access ]   \n",
       "\n",
       "                                             GENERAL  \\\n",
       "0  [Breakfast Not Included, Air Conditioning, Out...   \n",
       "1  [Wheelchair Friendly, Security Lockers, Common...   \n",
       "\n",
       "                                            SERVICES  \\\n",
       "0  [Airport Transfers, Bicycle Hire, Luggage Stor...   \n",
       "1  [Luggage Storage, 24 Hour Reception, Tours/Tra...   \n",
       "\n",
       "                        FOOD_DRINK   ENTERTAINMENT  \\\n",
       "0  [Restaurant, Meals Available, ]       [Wi-Fi, ]   \n",
       "1              [Restaurant, Bar, ]  [Games Room, ]   \n",
       "\n",
       "                                            POLICIES            hostel  \\\n",
       "0                                                 []     Fortuna Botel   \n",
       "1  [Age Restriction, Credit Cards Accepted, No Cu...  Equity Point Sea   \n",
       "\n",
       "            location  num_awards  \\\n",
       "0  Budapest, Hungary           0   \n",
       "1   Barcelona, Spain           0   \n",
       "\n",
       "                                      rev_highlights   country       city  \n",
       "0                                                 []   Hungary   Budapest  \n",
       "1  [Perfect Location, Brilliant Staff, Good Clean...     Spain  Barcelona  "
      ]
     },
     "metadata": {},
     "output_type": "display_data"
    }
   ],
   "source": [
    "# import clean revs data\n",
    "\n",
    "hostels_df = pd.read_csv('/Users/caitlinmowdy/Desktop/DSI-SF-2-caitlinmowdy/capstone-hostelworld/clean-data/clean_hostles_en_oct5.csv')\n",
    "display(hostels_clean_df.shape, hostels_clean_df.head(2))"
   ]
  },
  {
   "cell_type": "markdown",
   "metadata": {},
   "source": [
    "# Find Most common words in Hostel Descriptions \n",
    "- Subset into like and dislike dfs\n",
    "- Find  the most common words in each\n",
    "- Add binary columns to revs_df to show if each revew contains those words"
   ]
  },
  {
   "cell_type": "code",
   "execution_count": 11,
   "metadata": {
    "collapsed": false
   },
   "outputs": [],
   "source": [
    "vectorizer = CountVectorizer(ngram_range=(2,2), max_features=2500, binary=True, \n",
    "                             stop_words='english')#, min_df=.00008, max_df=.005)\n",
    "\n",
    "X = vectorizer.fit_transform(hostels_clean_df.desc).todense()\n",
    "\n",
    "vocab2 = {v: k for k, v in vectorizer.vocabulary_.iteritems()}"
   ]
  },
  {
   "cell_type": "code",
   "execution_count": 12,
   "metadata": {
    "collapsed": false
   },
   "outputs": [
    {
     "data": {
      "text/plain": [
       "[(0,\n",
       "  u'0.001*pubs restaurants + 0.001*forward welcoming + 0.001*ensuite bathroom + 0.001*desk free + 0.001*use luggage'),\n",
       " (1,\n",
       "  u'0.001*cards payment + 0.001*perfect base + 0.001*included rates + 0.001*internet available + 0.001*easily accessible'),\n",
       " (2,\n",
       "  u'0.001*cash check + 0.001*communal area + 0.001*family room + 0.001*away famous + 0.001*night clubs'),\n",
       " (3,\n",
       "  u'0.001*outside door + 0.001*guests receive + 0.001*service charge + 0.001*guests welcome + 0.001*time 1300'),\n",
       " (4,\n",
       "  u'0.001*snack bar + 0.001*office hours + 0.001*tv rooms + 0.001*low cost + 0.001*indoor outdoor'),\n",
       " (5,\n",
       "  u'0.001*beds free + 0.001*new zealand + 0.001*ironing facilities + 0.001*quiet area + 0.001*maps advice'),\n",
       " (6,\n",
       "  u'0.001*day trips + 0.001*walk central + 0.001*reservation charged + 0.001*walk train + 0.001*walk bus'),\n",
       " (7,\n",
       "  u'0.001*family atmosphere + 0.001*check 11 + 0.001*guest rooms + 0.001*leave luggage + 0.001*conditioning free'),\n",
       " (8,\n",
       "  u'0.001*beautiful view + 0.001*relax meet + 0.001*beds clean + 0.001*towels linens + 0.001*free clean'),\n",
       " (9,\n",
       "  u'0.001*charged cancelled + 0.001*cold water + 0.001*drink free + 0.001*town hostel + 0.001*tour desk')]"
      ]
     },
     "execution_count": 12,
     "metadata": {},
     "output_type": "execute_result"
    }
   ],
   "source": [
    "lda2 = models.LdaModel(\n",
    "    num_topics  =  10,\n",
    "    passes      =  2,\n",
    "    id2word     =  vocab2\n",
    "    )\n",
    "\n",
    "lda2.print_topics(num_topics=10, num_words=5)"
   ]
  },
  {
   "cell_type": "code",
   "execution_count": 13,
   "metadata": {
    "collapsed": true
   },
   "outputs": [],
   "source": [
    "bow = []\n",
    "blank_documents = 0\n",
    "\n",
    "for document in X.tolist():\n",
    "\n",
    "    single_document = []\n",
    "\n",
    "    for token_id, token_count in enumerate(document):\n",
    "        \n",
    "        if token_count > 0:\n",
    "              single_document.append((token_id, token_count))\n",
    "            \n",
    "    if len(single_document)>0:\n",
    "        bow.append(single_document)\n",
    "    else:\n",
    "        blank_documents += 1\n",
    "        bow.append([])"
   ]
  },
  {
   "cell_type": "code",
   "execution_count": 14,
   "metadata": {
    "collapsed": true
   },
   "outputs": [],
   "source": [
    "# create a dataframe of probabilites by topics \n",
    "\n",
    "topic_proba =lda2.get_document_topics(bow)\n",
    "\n",
    "simplelist =[]\n",
    "for x in topic_proba:\n",
    "    simplelist.append(x)\n",
    "\n",
    "# list of lists , inner list, each one should be only 10 (topic numbers) values (non-tuples)\n",
    "valuelist = [[y[1] for y in line] for line in simplelist]\n",
    "\n",
    "topicdf_nomax = pd.DataFrame(valuelist, columns = ['t1','t2','t3','t4','t5','t6','t7','t8','t9','t10'])"
   ]
  },
  {
   "cell_type": "code",
   "execution_count": 17,
   "metadata": {
    "collapsed": false
   },
   "outputs": [],
   "source": [
    "# create new columns to topic porb dataframe for the sum of topic prob and max topic probabitliyt for every document\n",
    "\n",
    "columns = ['t1','t2','t3','t4','t5','t6','t7','t8','t9','t10']\n",
    "topicdf_nomax['sum_prob'] =  topicdf_nomax[columns].apply(np.sum, axis=1)\n",
    "topicdf_nomax['max_prob'] =  topicdf_nomax[columns].apply(np.max, axis=1)"
   ]
  },
  {
   "cell_type": "code",
   "execution_count": 18,
   "metadata": {
    "collapsed": false
   },
   "outputs": [
    {
     "data": {
      "text/plain": [
       "<matplotlib.axes._subplots.AxesSubplot at 0x1197d83d0>"
      ]
     },
     "execution_count": 18,
     "metadata": {},
     "output_type": "execute_result"
    },
    {
     "data": {
      "image/png": "[encoded data removed]",
      "text/plain": [
       "<matplotlib.figure.Figure at 0x116474d90>"
      ]
     },
     "metadata": {},
     "output_type": "display_data"
    }
   ],
   "source": [
    "topicdf_nomax['max_prob'].hist()"
   ]
  },
  {
   "cell_type": "code",
   "execution_count": null,
   "metadata": {
    "collapsed": true
   },
   "outputs": [],
   "source": []
  },
  {
   "cell_type": "code",
   "execution_count": null,
   "metadata": {
    "collapsed": true
   },
   "outputs": [],
   "source": []
  },
  {
   "cell_type": "code",
   "execution_count": 62,
   "metadata": {
    "collapsed": true
   },
   "outputs": [],
   "source": [
    "hostels_df['num_free'] = [len(list(h.split(','))) for h in hostels_df.FREE]\n",
    "hostels_df['num_serv'] = [(len(list(h.split(',')))-1) for h in hostels_df.SERVICES]\n",
    "hostels_df['num_food'] = [(len(list(h.split(',')))-1) for h in hostels_df.FOOD_DRINK]\n",
    "hostels_df['num_ent'] = [(len(list(h.split(',')))-1) for h in hostels_df.ENTERTAINMENT]"
   ]
  },
  {
   "cell_type": "code",
   "execution_count": 63,
   "metadata": {
    "collapsed": false
   },
   "outputs": [
    {
     "data": {
      "text/html": [
       "<div>\n",
       "<table border=\"1\" class=\"dataframe\">\n",
       "  <thead>\n",
       "    <tr style=\"text-align: right;\">\n",
       "      <th></th>\n",
       "      <th>Unnamed: 0</th>\n",
       "      <th>rating</th>\n",
       "      <th>desc</th>\n",
       "      <th>FREE</th>\n",
       "      <th>GENERAL</th>\n",
       "      <th>SERVICES</th>\n",
       "      <th>FOOD_DRINK</th>\n",
       "      <th>ENTERTAINMENT</th>\n",
       "      <th>POLICIES</th>\n",
       "      <th>hostel</th>\n",
       "      <th>location</th>\n",
       "      <th>num_awards</th>\n",
       "      <th>rev_highlights</th>\n",
       "      <th>country</th>\n",
       "      <th>city</th>\n",
       "      <th>num_free</th>\n",
       "      <th>num_serv</th>\n",
       "      <th>num_food</th>\n",
       "    </tr>\n",
       "  </thead>\n",
       "  <tbody>\n",
       "    <tr>\n",
       "      <th>0</th>\n",
       "      <td>0</td>\n",
       "      <td>2.0</td>\n",
       "      <td>[stay with us near to the city center of budap...</td>\n",
       "      <td>[Linen Included , Free City Maps , Towels Incl...</td>\n",
       "      <td>[Breakfast Not Included, Air Conditioning, Out...</td>\n",
       "      <td>[Airport Transfers, Bicycle Hire, Luggage Stor...</td>\n",
       "      <td>[Restaurant, Meals Available, ]</td>\n",
       "      <td>[Wi-Fi, ]</td>\n",
       "      <td>[]</td>\n",
       "      <td>Fortuna Botel</td>\n",
       "      <td>Budapest, Hungary</td>\n",
       "      <td>0</td>\n",
       "      <td>[]</td>\n",
       "      <td>Hungary</td>\n",
       "      <td>Budapest</td>\n",
       "      <td>5</td>\n",
       "      <td>6</td>\n",
       "      <td>2</td>\n",
       "    </tr>\n",
       "    <tr>\n",
       "      <th>1</th>\n",
       "      <td>1</td>\n",
       "      <td>7.5</td>\n",
       "      <td>[the equity point sea is a lively hostel locat...</td>\n",
       "      <td>[Free Breakfast , Free Internet Access ]</td>\n",
       "      <td>[Wheelchair Friendly, Security Lockers, Common...</td>\n",
       "      <td>[Luggage Storage, 24 Hour Reception, Tours/Tra...</td>\n",
       "      <td>[Restaurant, Bar, ]</td>\n",
       "      <td>[Games Room, ]</td>\n",
       "      <td>[Age Restriction, Credit Cards Accepted, No Cu...</td>\n",
       "      <td>Equity Point Sea</td>\n",
       "      <td>Barcelona, Spain</td>\n",
       "      <td>0</td>\n",
       "      <td>[Perfect Location, Brilliant Staff, Good Clean...</td>\n",
       "      <td>Spain</td>\n",
       "      <td>Barcelona</td>\n",
       "      <td>2</td>\n",
       "      <td>5</td>\n",
       "      <td>2</td>\n",
       "    </tr>\n",
       "  </tbody>\n",
       "</table>\n",
       "</div>"
      ],
      "text/plain": [
       "   Unnamed: 0  rating                                               desc  \\\n",
       "0           0     2.0  [stay with us near to the city center of budap...   \n",
       "1           1     7.5  [the equity point sea is a lively hostel locat...   \n",
       "\n",
       "                                                FREE  \\\n",
       "0  [Linen Included , Free City Maps , Towels Incl...   \n",
       "1           [Free Breakfast , Free Internet Access ]   \n",
       "\n",
       "                                             GENERAL  \\\n",
       "0  [Breakfast Not Included, Air Conditioning, Out...   \n",
       "1  [Wheelchair Friendly, Security Lockers, Common...   \n",
       "\n",
       "                                            SERVICES  \\\n",
       "0  [Airport Transfers, Bicycle Hire, Luggage Stor...   \n",
       "1  [Luggage Storage, 24 Hour Reception, Tours/Tra...   \n",
       "\n",
       "                        FOOD_DRINK   ENTERTAINMENT  \\\n",
       "0  [Restaurant, Meals Available, ]       [Wi-Fi, ]   \n",
       "1              [Restaurant, Bar, ]  [Games Room, ]   \n",
       "\n",
       "                                            POLICIES            hostel  \\\n",
       "0                                                 []     Fortuna Botel   \n",
       "1  [Age Restriction, Credit Cards Accepted, No Cu...  Equity Point Sea   \n",
       "\n",
       "            location  num_awards  \\\n",
       "0  Budapest, Hungary           0   \n",
       "1   Barcelona, Spain           0   \n",
       "\n",
       "                                      rev_highlights   country       city  \\\n",
       "0                                                 []   Hungary   Budapest   \n",
       "1  [Perfect Location, Brilliant Staff, Good Clean...     Spain  Barcelona   \n",
       "\n",
       "   num_free  num_serv  num_food  \n",
       "0         5         6         2  \n",
       "1         2         5         2  "
      ]
     },
     "execution_count": 63,
     "metadata": {},
     "output_type": "execute_result"
    }
   ],
   "source": [
    "hostels_df.head(2)"
   ]
  },
  {
   "cell_type": "code",
   "execution_count": 123,
   "metadata": {
    "collapsed": true
   },
   "outputs": [],
   "source": [
    "cv_like = CountVectorizer(ngram_range=(2,2), binary=True, stop_words='english')#, max_features=2500\n",
    "words_like = cv_like.fit_transform(hostels_df.POLICIES).todense()\n",
    "\n",
    "summaries = \"\".join(hostels_df['POLICIES'])\n",
    "poli_summaries = cv_like.build_analyzer()(summaries)\n",
    "poli_vocab = Counter(poli_summaries).most_common(40)\n",
    "poli_vocab = pd.DataFrame(poli_vocab)\n",
    "poli_vocab.columns=['word','count']"
   ]
  },
  {
   "cell_type": "code",
   "execution_count": 201,
   "metadata": {
    "collapsed": false
   },
   "outputs": [],
   "source": [
    "poli_vocab\n",
    "\n",
    "def no_uni(value):\n",
    "    return value.decode('unicode_escape').encode('ascii','ignore')\n",
    "\n",
    "keys = [no_uni(i) for i in list(like_vocab.word[[0,3,4,6,7,10]].values)]\n",
    "keys\n",
    "keys = ['Cards Accepted','Taxes Included','Non Smoking','Child Friendly','Smoking Taxes','Age Restriction']"
   ]
  },
  {
   "cell_type": "code",
   "execution_count": 206,
   "metadata": {
    "collapsed": false
   },
   "outputs": [
    {
     "data": {
      "text/plain": [
       "'[Age Restriction, Credit Cards Accepted, No Curfew, Taxes Not Included,]'"
      ]
     },
     "execution_count": 206,
     "metadata": {},
     "output_type": "execute_result"
    }
   ],
   "source": [
    "hostels_df.POLICIES[1]"
   ]
  },
  {
   "cell_type": "code",
   "execution_count": 225,
   "metadata": {
    "collapsed": false
   },
   "outputs": [],
   "source": [
    "def num_polis(value):\n",
    "    t = value.split(',')\n",
    "    return len([k for k in keys if (str(k) in str(t))])"
   ]
  },
  {
   "cell_type": "code",
   "execution_count": 226,
   "metadata": {
    "collapsed": false
   },
   "outputs": [
    {
     "data": {
      "text/plain": [
       "2"
      ]
     },
     "execution_count": 226,
     "metadata": {},
     "output_type": "execute_result"
    }
   ],
   "source": [
    "num_polis(hostels_df.POLICIES[1])"
   ]
  },
  {
   "cell_type": "code",
   "execution_count": 227,
   "metadata": {
    "collapsed": false
   },
   "outputs": [],
   "source": [
    "hostels_df['num_poli'] = hostels_df.POLICIES.map(num_polis)"
   ]
  },
  {
   "cell_type": "code",
   "execution_count": 228,
   "metadata": {
    "collapsed": false
   },
   "outputs": [
    {
     "data": {
      "text/html": [
       "<div>\n",
       "<table border=\"1\" class=\"dataframe\">\n",
       "  <thead>\n",
       "    <tr style=\"text-align: right;\">\n",
       "      <th></th>\n",
       "      <th>Unnamed: 0</th>\n",
       "      <th>rating</th>\n",
       "      <th>desc</th>\n",
       "      <th>FREE</th>\n",
       "      <th>GENERAL</th>\n",
       "      <th>SERVICES</th>\n",
       "      <th>FOOD_DRINK</th>\n",
       "      <th>ENTERTAINMENT</th>\n",
       "      <th>POLICIES</th>\n",
       "      <th>hostel</th>\n",
       "      <th>location</th>\n",
       "      <th>num_awards</th>\n",
       "      <th>rev_highlights</th>\n",
       "      <th>country</th>\n",
       "      <th>city</th>\n",
       "      <th>num_free</th>\n",
       "      <th>num_serv</th>\n",
       "      <th>num_food</th>\n",
       "      <th>num_ent</th>\n",
       "      <th>num_poli</th>\n",
       "    </tr>\n",
       "  </thead>\n",
       "  <tbody>\n",
       "    <tr>\n",
       "      <th>0</th>\n",
       "      <td>0</td>\n",
       "      <td>2.0</td>\n",
       "      <td>[stay with us near to the city center of budap...</td>\n",
       "      <td>[Linen Included , Free City Maps , Towels Incl...</td>\n",
       "      <td>[Breakfast Not Included, Air Conditioning, Out...</td>\n",
       "      <td>[Airport Transfers, Bicycle Hire, Luggage Stor...</td>\n",
       "      <td>[Restaurant, Meals Available, ]</td>\n",
       "      <td>[Wi-Fi, ]</td>\n",
       "      <td>[]</td>\n",
       "      <td>Fortuna Botel</td>\n",
       "      <td>Budapest, Hungary</td>\n",
       "      <td>0</td>\n",
       "      <td>[]</td>\n",
       "      <td>Hungary</td>\n",
       "      <td>Budapest</td>\n",
       "      <td>5</td>\n",
       "      <td>6</td>\n",
       "      <td>2</td>\n",
       "      <td>1</td>\n",
       "      <td>0</td>\n",
       "    </tr>\n",
       "    <tr>\n",
       "      <th>1</th>\n",
       "      <td>1</td>\n",
       "      <td>7.5</td>\n",
       "      <td>[the equity point sea is a lively hostel locat...</td>\n",
       "      <td>[Free Breakfast , Free Internet Access ]</td>\n",
       "      <td>[Wheelchair Friendly, Security Lockers, Common...</td>\n",
       "      <td>[Luggage Storage, 24 Hour Reception, Tours/Tra...</td>\n",
       "      <td>[Restaurant, Bar, ]</td>\n",
       "      <td>[Games Room, ]</td>\n",
       "      <td>[Age Restriction, Credit Cards Accepted, No Cu...</td>\n",
       "      <td>Equity Point Sea</td>\n",
       "      <td>Barcelona, Spain</td>\n",
       "      <td>0</td>\n",
       "      <td>[Perfect Location, Brilliant Staff, Good Clean...</td>\n",
       "      <td>Spain</td>\n",
       "      <td>Barcelona</td>\n",
       "      <td>2</td>\n",
       "      <td>5</td>\n",
       "      <td>2</td>\n",
       "      <td>1</td>\n",
       "      <td>2</td>\n",
       "    </tr>\n",
       "    <tr>\n",
       "      <th>2</th>\n",
       "      <td>2</td>\n",
       "      <td>9.5</td>\n",
       "      <td>[voted no1 hostel in latvia 2013 2012 2011 201...</td>\n",
       "      <td>[Linen Included , Free City Maps , Towels Incl...</td>\n",
       "      <td>[Security Lockers, Key Card Access, Common Roo...</td>\n",
       "      <td>[Internet Access, Laundry Facilities, Luggage ...</td>\n",
       "      <td>[Bar, Tea &amp; Coffee Making Facilities, ]</td>\n",
       "      <td>[DVD's, Board Games, Foosball, ]</td>\n",
       "      <td>[Credit Cards Accepted, No Curfew, Non Smoking...</td>\n",
       "      <td>The Naughty Squirrel Backpackers Hostel</td>\n",
       "      <td>Riga, Latvia</td>\n",
       "      <td>16</td>\n",
       "      <td>[Perfect Location, Superb Staff, Fantastic Cle...</td>\n",
       "      <td>Latvia</td>\n",
       "      <td>Riga</td>\n",
       "      <td>5</td>\n",
       "      <td>7</td>\n",
       "      <td>2</td>\n",
       "      <td>3</td>\n",
       "      <td>3</td>\n",
       "    </tr>\n",
       "    <tr>\n",
       "      <th>3</th>\n",
       "      <td>3</td>\n",
       "      <td>8.5</td>\n",
       "      <td>[la chimba hostel has been a favourite of inte...</td>\n",
       "      <td>[Free Breakfast , Linen Included , Free City M...</td>\n",
       "      <td>[Security Lockers, Common Room, Bicycle Parkin...</td>\n",
       "      <td>[Internet Access, Laundry Facilities, Airport ...</td>\n",
       "      <td>[Tea &amp; Coffee Making Facilities, ]</td>\n",
       "      <td>[DVD's, Board Games, Pool Table, Foosball, ]</td>\n",
       "      <td>[Credit Cards Accepted, No Curfew, Non Smoking,]</td>\n",
       "      <td>La Chimba Hostel</td>\n",
       "      <td>Santiago, Chile</td>\n",
       "      <td>3</td>\n",
       "      <td>[Perfect Location, Marvelous Staff, Excellent ...</td>\n",
       "      <td>Chile</td>\n",
       "      <td>Santiago</td>\n",
       "      <td>6</td>\n",
       "      <td>9</td>\n",
       "      <td>1</td>\n",
       "      <td>4</td>\n",
       "      <td>2</td>\n",
       "    </tr>\n",
       "    <tr>\n",
       "      <th>4</th>\n",
       "      <td>4</td>\n",
       "      <td>6.3</td>\n",
       "      <td>[our hostel is nice small perfectly located co...</td>\n",
       "      <td>[Linen Included , Free City Maps , Free Intern...</td>\n",
       "      <td>[Security Lockers, Common Room, Breakfast Not ...</td>\n",
       "      <td>[Internet Access, Laundry Facilities, Bicycle ...</td>\n",
       "      <td>[Mini-Supermarket, Cafe, Tea &amp; Coffee Making F...</td>\n",
       "      <td>[]</td>\n",
       "      <td>[]</td>\n",
       "      <td>Barcelona 4 Fun Hostel</td>\n",
       "      <td>Barcelona, Spain</td>\n",
       "      <td>0</td>\n",
       "      <td>[Wonderful Location, Brilliant Staff]</td>\n",
       "      <td>Spain</td>\n",
       "      <td>Barcelona</td>\n",
       "      <td>3</td>\n",
       "      <td>8</td>\n",
       "      <td>3</td>\n",
       "      <td>0</td>\n",
       "      <td>0</td>\n",
       "    </tr>\n",
       "  </tbody>\n",
       "</table>\n",
       "</div>"
      ],
      "text/plain": [
       "   Unnamed: 0  rating                                               desc  \\\n",
       "0           0     2.0  [stay with us near to the city center of budap...   \n",
       "1           1     7.5  [the equity point sea is a lively hostel locat...   \n",
       "2           2     9.5  [voted no1 hostel in latvia 2013 2012 2011 201...   \n",
       "3           3     8.5  [la chimba hostel has been a favourite of inte...   \n",
       "4           4     6.3  [our hostel is nice small perfectly located co...   \n",
       "\n",
       "                                                FREE  \\\n",
       "0  [Linen Included , Free City Maps , Towels Incl...   \n",
       "1           [Free Breakfast , Free Internet Access ]   \n",
       "2  [Linen Included , Free City Maps , Towels Incl...   \n",
       "3  [Free Breakfast , Linen Included , Free City M...   \n",
       "4  [Linen Included , Free City Maps , Free Intern...   \n",
       "\n",
       "                                             GENERAL  \\\n",
       "0  [Breakfast Not Included, Air Conditioning, Out...   \n",
       "1  [Wheelchair Friendly, Security Lockers, Common...   \n",
       "2  [Security Lockers, Key Card Access, Common Roo...   \n",
       "3  [Security Lockers, Common Room, Bicycle Parkin...   \n",
       "4  [Security Lockers, Common Room, Breakfast Not ...   \n",
       "\n",
       "                                            SERVICES  \\\n",
       "0  [Airport Transfers, Bicycle Hire, Luggage Stor...   \n",
       "1  [Luggage Storage, 24 Hour Reception, Tours/Tra...   \n",
       "2  [Internet Access, Laundry Facilities, Luggage ...   \n",
       "3  [Internet Access, Laundry Facilities, Airport ...   \n",
       "4  [Internet Access, Laundry Facilities, Bicycle ...   \n",
       "\n",
       "                                          FOOD_DRINK  \\\n",
       "0                    [Restaurant, Meals Available, ]   \n",
       "1                                [Restaurant, Bar, ]   \n",
       "2            [Bar, Tea & Coffee Making Facilities, ]   \n",
       "3                 [Tea & Coffee Making Facilities, ]   \n",
       "4  [Mini-Supermarket, Cafe, Tea & Coffee Making F...   \n",
       "\n",
       "                                  ENTERTAINMENT  \\\n",
       "0                                     [Wi-Fi, ]   \n",
       "1                                [Games Room, ]   \n",
       "2              [DVD's, Board Games, Foosball, ]   \n",
       "3  [DVD's, Board Games, Pool Table, Foosball, ]   \n",
       "4                                            []   \n",
       "\n",
       "                                            POLICIES  \\\n",
       "0                                                 []   \n",
       "1  [Age Restriction, Credit Cards Accepted, No Cu...   \n",
       "2  [Credit Cards Accepted, No Curfew, Non Smoking...   \n",
       "3   [Credit Cards Accepted, No Curfew, Non Smoking,]   \n",
       "4                                                 []   \n",
       "\n",
       "                                    hostel           location  num_awards  \\\n",
       "0                            Fortuna Botel  Budapest, Hungary           0   \n",
       "1                         Equity Point Sea   Barcelona, Spain           0   \n",
       "2  The Naughty Squirrel Backpackers Hostel       Riga, Latvia          16   \n",
       "3                         La Chimba Hostel    Santiago, Chile           3   \n",
       "4                   Barcelona 4 Fun Hostel   Barcelona, Spain           0   \n",
       "\n",
       "                                      rev_highlights   country       city  \\\n",
       "0                                                 []   Hungary   Budapest   \n",
       "1  [Perfect Location, Brilliant Staff, Good Clean...     Spain  Barcelona   \n",
       "2  [Perfect Location, Superb Staff, Fantastic Cle...    Latvia       Riga   \n",
       "3  [Perfect Location, Marvelous Staff, Excellent ...     Chile   Santiago   \n",
       "4              [Wonderful Location, Brilliant Staff]     Spain  Barcelona   \n",
       "\n",
       "   num_free  num_serv  num_food  num_ent  num_poli  \n",
       "0         5         6         2        1         0  \n",
       "1         2         5         2        1         2  \n",
       "2         5         7         2        3         3  \n",
       "3         6         9         1        4         2  \n",
       "4         3         8         3        0         0  "
      ]
     },
     "execution_count": 228,
     "metadata": {},
     "output_type": "execute_result"
    }
   ],
   "source": [
    "hostels_df.head()"
   ]
  },
  {
   "cell_type": "code",
   "execution_count": 179,
   "metadata": {
    "collapsed": false
   },
   "outputs": [
    {
     "data": {
      "text/plain": [
       "'[Age Restriction'"
      ]
     },
     "execution_count": 179,
     "metadata": {},
     "output_type": "execute_result"
    }
   ],
   "source": [
    "hostels_df.POLICIES[1].split(',')[0]"
   ]
  },
  {
   "cell_type": "code",
   "execution_count": null,
   "metadata": {
    "collapsed": true
   },
   "outputs": [],
   "source": []
  }
 ],
 "metadata": {
  "anaconda-cloud": {},
  "kernelspec": {
   "display_name": "Python [dsi]",
   "language": "python",
   "name": "Python [dsi]"
  },
  "language_info": {
   "codemirror_mode": {
    "name": "ipython",
    "version": 2
   },
   "file_extension": ".py",
   "mimetype": "text/x-python",
   "name": "python",
   "nbconvert_exporter": "python",
   "pygments_lexer": "ipython2",
   "version": "2.7.12"
  }
 },
 "nbformat": 4,
 "nbformat_minor": 0
}

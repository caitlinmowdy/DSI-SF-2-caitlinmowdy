{
 "cells": [
  {
   "cell_type": "code",
   "execution_count": 1,
   "metadata": {
    "collapsed": true
   },
   "outputs": [],
   "source": [
    "import numpy as np\n",
    "import scipy \n",
    "import seaborn as sns\n",
    "import pandas as pd\n",
    "import sys"
   ]
  },
  {
   "cell_type": "code",
   "execution_count": 2,
   "metadata": {
    "collapsed": false
   },
   "outputs": [
    {
     "data": {
      "text/html": [
       "<div>\n",
       "<table border=\"1\" class=\"dataframe\">\n",
       "  <thead>\n",
       "    <tr style=\"text-align: right;\">\n",
       "      <th></th>\n",
       "      <th>Unnamed: 0</th>\n",
       "      <th>text</th>\n",
       "      <th>user_id</th>\n",
       "      <th>rev_date</th>\n",
       "      <th>score</th>\n",
       "      <th>hostel</th>\n",
       "      <th>location</th>\n",
       "      <th>link</th>\n",
       "      <th>country</th>\n",
       "      <th>city</th>\n",
       "      <th>day</th>\n",
       "      <th>month</th>\n",
       "      <th>year</th>\n",
       "      <th>country_id</th>\n",
       "      <th>hostel_id</th>\n",
       "    </tr>\n",
       "  </thead>\n",
       "  <tbody>\n",
       "    <tr>\n",
       "      <th>0</th>\n",
       "      <td>0</td>\n",
       "      <td>excellent value</td>\n",
       "      <td>1189474</td>\n",
       "      <td>30th Jun 2004</td>\n",
       "      <td>7.7</td>\n",
       "      <td>Fortuna Botel</td>\n",
       "      <td>Budapest, Hungary</td>\n",
       "      <td>http://www.hostelworld.com/hosteldetails.php/F...</td>\n",
       "      <td>Hungary</td>\n",
       "      <td>Budapest</td>\n",
       "      <td>30</td>\n",
       "      <td>6</td>\n",
       "      <td>2004</td>\n",
       "      <td>28.0</td>\n",
       "      <td>0</td>\n",
       "    </tr>\n",
       "    <tr>\n",
       "      <th>1</th>\n",
       "      <td>1</td>\n",
       "      <td>i had a great time there because of the beach ...</td>\n",
       "      <td>1595059</td>\n",
       "      <td>23rd Dec 2004</td>\n",
       "      <td>7.7</td>\n",
       "      <td>Equity Point Sea</td>\n",
       "      <td>Barcelona, Spain</td>\n",
       "      <td>http://www.hostelworld.com/hosteldetails.php/E...</td>\n",
       "      <td>Spain</td>\n",
       "      <td>Barcelona</td>\n",
       "      <td>23</td>\n",
       "      <td>12</td>\n",
       "      <td>2004</td>\n",
       "      <td>5.0</td>\n",
       "      <td>1</td>\n",
       "    </tr>\n",
       "  </tbody>\n",
       "</table>\n",
       "</div>"
      ],
      "text/plain": [
       "   Unnamed: 0                                               text  user_id  \\\n",
       "0           0                                    excellent value  1189474   \n",
       "1           1  i had a great time there because of the beach ...  1595059   \n",
       "\n",
       "         rev_date  score            hostel           location  \\\n",
       "0   30th Jun 2004    7.7     Fortuna Botel  Budapest, Hungary   \n",
       "1   23rd Dec 2004    7.7  Equity Point Sea   Barcelona, Spain   \n",
       "\n",
       "                                                link  country       city  day  \\\n",
       "0  http://www.hostelworld.com/hosteldetails.php/F...  Hungary   Budapest   30   \n",
       "1  http://www.hostelworld.com/hosteldetails.php/E...    Spain  Barcelona   23   \n",
       "\n",
       "   month  year  country_id  hostel_id  \n",
       "0      6  2004        28.0          0  \n",
       "1     12  2004         5.0          1  "
      ]
     },
     "execution_count": 2,
     "metadata": {},
     "output_type": "execute_result"
    }
   ],
   "source": [
    "# Import reviews to find the hostels users liked\n",
    "revs_df = pd.read_csv('/Users/caitlinmowdy/Desktop/DSI-SF-2-caitlinmowdy/capstone-hostelworld/clean-data/clean_revs_oct7.csv')\n",
    "revs_df.head(2)"
   ]
  },
  {
   "cell_type": "code",
   "execution_count": 3,
   "metadata": {
    "collapsed": false
   },
   "outputs": [
    {
     "data": {
      "text/plain": [
       "(10929, 10929, 10929)"
      ]
     },
     "execution_count": 3,
     "metadata": {},
     "output_type": "execute_result"
    }
   ],
   "source": [
    "# find reviews with scores above a 7.5\n",
    "X = revs_df[revs_df['score']>7.5]\n",
    "\n",
    "# save every users hostels reviewed above a 7.5 to lists\n",
    "ids = []\n",
    "hostels1 = []\n",
    "countries1 = []\n",
    "for id in revs_df['user_id'].unique():\n",
    "    ids.append(id)\n",
    "    hostels1.append(list(X['hostel'][X['user_id'] == id]))\n",
    "    countries1.append(list(revs_df['country'][revs_df['user_id'] == id]))\n",
    "len(ids),len(hostels1), len(countries1)"
   ]
  },
  {
   "cell_type": "code",
   "execution_count": 4,
   "metadata": {
    "collapsed": false
   },
   "outputs": [
    {
     "data": {
      "text/html": [
       "<div>\n",
       "<table border=\"1\" class=\"dataframe\">\n",
       "  <thead>\n",
       "    <tr style=\"text-align: right;\">\n",
       "      <th></th>\n",
       "      <th>user_id</th>\n",
       "      <th>hsts_liked</th>\n",
       "      <th>countries</th>\n",
       "    </tr>\n",
       "  </thead>\n",
       "  <tbody>\n",
       "    <tr>\n",
       "      <th>0</th>\n",
       "      <td>1189474</td>\n",
       "      <td>[Fortuna Botel]</td>\n",
       "      <td>[Hungary]</td>\n",
       "    </tr>\n",
       "    <tr>\n",
       "      <th>1</th>\n",
       "      <td>1595059</td>\n",
       "      <td>[Equity Point Sea]</td>\n",
       "      <td>[Spain]</td>\n",
       "    </tr>\n",
       "    <tr>\n",
       "      <th>2</th>\n",
       "      <td>3637809</td>\n",
       "      <td>[The Naughty Squirrel Backpackers Hostel]</td>\n",
       "      <td>[Latvia]</td>\n",
       "    </tr>\n",
       "  </tbody>\n",
       "</table>\n",
       "</div>"
      ],
      "text/plain": [
       "   user_id                                 hsts_liked  countries\n",
       "0  1189474                            [Fortuna Botel]  [Hungary]\n",
       "1  1595059                         [Equity Point Sea]    [Spain]\n",
       "2  3637809  [The Naughty Squirrel Backpackers Hostel]   [Latvia]"
      ]
     },
     "execution_count": 4,
     "metadata": {},
     "output_type": "execute_result"
    }
   ],
   "source": [
    "# create a df with users and hostels liked\n",
    "user_travels = pd.DataFrame()\n",
    "user_travels['user_id'] = ids\n",
    "user_travels['hsts_liked'] = hostels1\n",
    "user_travels['countries'] = countries1\n",
    "\n",
    "user_travels.head(3)"
   ]
  },
  {
   "cell_type": "code",
   "execution_count": 5,
   "metadata": {
    "collapsed": false
   },
   "outputs": [
    {
     "data": {
      "text/html": [
       "<div>\n",
       "<table border=\"1\" class=\"dataframe\">\n",
       "  <thead>\n",
       "    <tr style=\"text-align: right;\">\n",
       "      <th></th>\n",
       "      <th>user_id</th>\n",
       "      <th>nationality</th>\n",
       "      <th>group</th>\n",
       "      <th>age</th>\n",
       "    </tr>\n",
       "  </thead>\n",
       "  <tbody>\n",
       "    <tr>\n",
       "      <th>0</th>\n",
       "      <td>1189474</td>\n",
       "      <td>England</td>\n",
       "      <td>NaN</td>\n",
       "      <td>not specified</td>\n",
       "    </tr>\n",
       "    <tr>\n",
       "      <th>1</th>\n",
       "      <td>1595059</td>\n",
       "      <td>Hong Kong</td>\n",
       "      <td>NaN</td>\n",
       "      <td>not specified</td>\n",
       "    </tr>\n",
       "  </tbody>\n",
       "</table>\n",
       "</div>"
      ],
      "text/plain": [
       "   user_id nationality group            age\n",
       "0  1189474     England   NaN  not specified\n",
       "1  1595059   Hong Kong   NaN  not specified"
      ]
     },
     "execution_count": 5,
     "metadata": {},
     "output_type": "execute_result"
    }
   ],
   "source": [
    "# import users information\n",
    "users_df = pd.read_csv('/Users/caitlinmowdy/Desktop/DSI-SF-2-caitlinmowdy/capstone-hostelworld/clean-data/clean_users_oct7.csv')\n",
    "del users_df['Unnamed: 0']\n",
    "del users_df['num_revs']\n",
    "del users_df['country_id']\n",
    "users_df.head(2)"
   ]
  },
  {
   "cell_type": "code",
   "execution_count": 6,
   "metadata": {
    "collapsed": false
   },
   "outputs": [
    {
     "data": {
      "text/html": [
       "<div>\n",
       "<table border=\"1\" class=\"dataframe\">\n",
       "  <thead>\n",
       "    <tr style=\"text-align: right;\">\n",
       "      <th></th>\n",
       "      <th>user_id</th>\n",
       "      <th>score</th>\n",
       "      <th>Rt1</th>\n",
       "      <th>Rt2</th>\n",
       "      <th>Rt3</th>\n",
       "      <th>Rt4</th>\n",
       "      <th>Rt5</th>\n",
       "      <th>Rt6</th>\n",
       "      <th>Rt7</th>\n",
       "      <th>Rt8</th>\n",
       "      <th>Rt9</th>\n",
       "      <th>Rt10</th>\n",
       "      <th>num_hostels</th>\n",
       "    </tr>\n",
       "  </thead>\n",
       "  <tbody>\n",
       "    <tr>\n",
       "      <th>0</th>\n",
       "      <td>1004454</td>\n",
       "      <td>8.3</td>\n",
       "      <td>0.011112</td>\n",
       "      <td>0.011112</td>\n",
       "      <td>0.011112</td>\n",
       "      <td>0.011112</td>\n",
       "      <td>0.011112</td>\n",
       "      <td>0.011112</td>\n",
       "      <td>0.011112</td>\n",
       "      <td>0.899995</td>\n",
       "      <td>0.011112</td>\n",
       "      <td>0.011112</td>\n",
       "      <td>1</td>\n",
       "    </tr>\n",
       "    <tr>\n",
       "      <th>1</th>\n",
       "      <td>1004711</td>\n",
       "      <td>8.9</td>\n",
       "      <td>0.050000</td>\n",
       "      <td>0.050000</td>\n",
       "      <td>0.050000</td>\n",
       "      <td>0.050000</td>\n",
       "      <td>0.050000</td>\n",
       "      <td>0.050000</td>\n",
       "      <td>0.050000</td>\n",
       "      <td>0.550000</td>\n",
       "      <td>0.050000</td>\n",
       "      <td>0.050000</td>\n",
       "      <td>1</td>\n",
       "    </tr>\n",
       "  </tbody>\n",
       "</table>\n",
       "</div>"
      ],
      "text/plain": [
       "   user_id  score       Rt1       Rt2       Rt3       Rt4       Rt5       Rt6  \\\n",
       "0  1004454    8.3  0.011112  0.011112  0.011112  0.011112  0.011112  0.011112   \n",
       "1  1004711    8.9  0.050000  0.050000  0.050000  0.050000  0.050000  0.050000   \n",
       "\n",
       "        Rt7       Rt8       Rt9      Rt10  num_hostels  \n",
       "0  0.011112  0.899995  0.011112  0.011112            1  \n",
       "1  0.050000  0.550000  0.050000  0.050000            1  "
      ]
     },
     "execution_count": 6,
     "metadata": {},
     "output_type": "execute_result"
    }
   ],
   "source": [
    "# import the topic prob for users \n",
    "users_topics = pd.read_csv('/Users/caitlinmowdy/Desktop/DSI-SF-2-caitlinmowdy/capstone-hostelworld/clean-data/user_rev_info_4dist_oct7.csv')\n",
    "del users_topics['Unnamed: 0']\n",
    "del users_topics['num_revs']\n",
    "del users_topics['country_id']\n",
    "del users_topics['group_id']\n",
    "del users_topics['age_id']\n",
    "users_topics.head(2)"
   ]
  },
  {
   "cell_type": "code",
   "execution_count": 7,
   "metadata": {
    "collapsed": false
   },
   "outputs": [
    {
     "data": {
      "text/html": [
       "<div>\n",
       "<table border=\"1\" class=\"dataframe\">\n",
       "  <thead>\n",
       "    <tr style=\"text-align: right;\">\n",
       "      <th></th>\n",
       "      <th>user_id</th>\n",
       "      <th>score</th>\n",
       "      <th>Rt1</th>\n",
       "      <th>Rt2</th>\n",
       "      <th>Rt3</th>\n",
       "      <th>Rt4</th>\n",
       "      <th>Rt5</th>\n",
       "      <th>Rt6</th>\n",
       "      <th>Rt7</th>\n",
       "      <th>Rt8</th>\n",
       "      <th>Rt9</th>\n",
       "      <th>Rt10</th>\n",
       "      <th>num_hostels</th>\n",
       "      <th>topics</th>\n",
       "    </tr>\n",
       "  </thead>\n",
       "  <tbody>\n",
       "    <tr>\n",
       "      <th>0</th>\n",
       "      <td>1004454</td>\n",
       "      <td>8.3</td>\n",
       "      <td>0.011112</td>\n",
       "      <td>0.011112</td>\n",
       "      <td>0.011112</td>\n",
       "      <td>0.011112</td>\n",
       "      <td>0.011112</td>\n",
       "      <td>0.011112</td>\n",
       "      <td>0.011112</td>\n",
       "      <td>0.899995</td>\n",
       "      <td>0.011112</td>\n",
       "      <td>0.011112</td>\n",
       "      <td>1</td>\n",
       "      <td>[Rt8]</td>\n",
       "    </tr>\n",
       "    <tr>\n",
       "      <th>1</th>\n",
       "      <td>1004711</td>\n",
       "      <td>8.9</td>\n",
       "      <td>0.050000</td>\n",
       "      <td>0.050000</td>\n",
       "      <td>0.050000</td>\n",
       "      <td>0.050000</td>\n",
       "      <td>0.050000</td>\n",
       "      <td>0.050000</td>\n",
       "      <td>0.050000</td>\n",
       "      <td>0.550000</td>\n",
       "      <td>0.050000</td>\n",
       "      <td>0.050000</td>\n",
       "      <td>1</td>\n",
       "      <td>[Rt8]</td>\n",
       "    </tr>\n",
       "  </tbody>\n",
       "</table>\n",
       "</div>"
      ],
      "text/plain": [
       "   user_id  score       Rt1       Rt2       Rt3       Rt4       Rt5       Rt6  \\\n",
       "0  1004454    8.3  0.011112  0.011112  0.011112  0.011112  0.011112  0.011112   \n",
       "1  1004711    8.9  0.050000  0.050000  0.050000  0.050000  0.050000  0.050000   \n",
       "\n",
       "        Rt7       Rt8       Rt9      Rt10  num_hostels topics  \n",
       "0  0.011112  0.899995  0.011112  0.011112            1  [Rt8]  \n",
       "1  0.050000  0.550000  0.050000  0.050000            1  [Rt8]  "
      ]
     },
     "execution_count": 7,
     "metadata": {},
     "output_type": "execute_result"
    }
   ],
   "source": [
    "# make a list of topics users have a high prob in \n",
    "top_topics = []\n",
    "for i,u in enumerate(users_topics['user_id']):\n",
    "    topics = []\n",
    "    if users_topics['Rt1'][i] >= 0.3:\n",
    "        topics.append('Rt1')\n",
    "    if users_topics['Rt2'][i] >= .3:\n",
    "        topics.append('Rt2')\n",
    "    if users_topics['Rt3'][i] >=.3:\n",
    "        topics.append('Rt3')\n",
    "    if users_topics['Rt4'][i] >=.3:\n",
    "        topics.append('Rt4')\n",
    "    if users_topics['Rt5'][i] >=.3:\n",
    "        topics.append('Rt5')\n",
    "    if users_topics['Rt6'][i] >=.3:\n",
    "        topics.append('Rt6')\n",
    "    if users_topics['Rt7'][i] >=.3:\n",
    "        topics.append('Rt7')\n",
    "    if users_topics['Rt8'][i] >=.3:\n",
    "        topics.append('Rt8')\n",
    "    if users_topics['Rt9'][i] >=.3:\n",
    "        topics.append('Rt9')\n",
    "    if users_topics['Rt10'][i] >=.3:\n",
    "        topics.append('Rt10')\n",
    "    top_topics.append(topics)\n",
    "    \n",
    "users_topics['topics'] = top_topics\n",
    "users_topics.head(2)"
   ]
  },
  {
   "cell_type": "code",
   "execution_count": 8,
   "metadata": {
    "collapsed": false
   },
   "outputs": [
    {
     "data": {
      "text/html": [
       "<div>\n",
       "<table border=\"1\" class=\"dataframe\">\n",
       "  <thead>\n",
       "    <tr style=\"text-align: right;\">\n",
       "      <th></th>\n",
       "      <th>user_id</th>\n",
       "      <th>score</th>\n",
       "      <th>Rt1</th>\n",
       "      <th>Rt2</th>\n",
       "      <th>Rt3</th>\n",
       "      <th>Rt4</th>\n",
       "      <th>Rt5</th>\n",
       "      <th>Rt6</th>\n",
       "      <th>Rt7</th>\n",
       "      <th>Rt8</th>\n",
       "      <th>Rt9</th>\n",
       "      <th>Rt10</th>\n",
       "      <th>num_hostels</th>\n",
       "      <th>topics</th>\n",
       "    </tr>\n",
       "  </thead>\n",
       "  <tbody>\n",
       "    <tr>\n",
       "      <th>0</th>\n",
       "      <td>1004454</td>\n",
       "      <td>7-8.5</td>\n",
       "      <td>0.011112</td>\n",
       "      <td>0.011112</td>\n",
       "      <td>0.011112</td>\n",
       "      <td>0.011112</td>\n",
       "      <td>0.011112</td>\n",
       "      <td>0.011112</td>\n",
       "      <td>0.011112</td>\n",
       "      <td>0.899995</td>\n",
       "      <td>0.011112</td>\n",
       "      <td>0.011112</td>\n",
       "      <td>1</td>\n",
       "      <td>[Rt8]</td>\n",
       "    </tr>\n",
       "    <tr>\n",
       "      <th>1</th>\n",
       "      <td>1004711</td>\n",
       "      <td>&gt;8.5</td>\n",
       "      <td>0.050000</td>\n",
       "      <td>0.050000</td>\n",
       "      <td>0.050000</td>\n",
       "      <td>0.050000</td>\n",
       "      <td>0.050000</td>\n",
       "      <td>0.050000</td>\n",
       "      <td>0.050000</td>\n",
       "      <td>0.550000</td>\n",
       "      <td>0.050000</td>\n",
       "      <td>0.050000</td>\n",
       "      <td>1</td>\n",
       "      <td>[Rt8]</td>\n",
       "    </tr>\n",
       "  </tbody>\n",
       "</table>\n",
       "</div>"
      ],
      "text/plain": [
       "   user_id  score       Rt1       Rt2       Rt3       Rt4       Rt5       Rt6  \\\n",
       "0  1004454  7-8.5  0.011112  0.011112  0.011112  0.011112  0.011112  0.011112   \n",
       "1  1004711   >8.5  0.050000  0.050000  0.050000  0.050000  0.050000  0.050000   \n",
       "\n",
       "        Rt7       Rt8       Rt9      Rt10  num_hostels topics  \n",
       "0  0.011112  0.899995  0.011112  0.011112            1  [Rt8]  \n",
       "1  0.050000  0.550000  0.050000  0.050000            1  [Rt8]  "
      ]
     },
     "execution_count": 8,
     "metadata": {},
     "output_type": "execute_result"
    }
   ],
   "source": [
    "# put socres in groups\n",
    "def score(value):\n",
    "    if value >8.5:\n",
    "        return '>8.5'\n",
    "    elif value > 7:\n",
    "        return '7-8.5'\n",
    "    elif value >5:\n",
    "        return '5-7'\n",
    "    else:\n",
    "        return '<5'\n",
    "\n",
    "users_topics['score'] = users_topics['score'].map(score)\n",
    "users_topics.head(2)"
   ]
  },
  {
   "cell_type": "code",
   "execution_count": 9,
   "metadata": {
    "collapsed": false
   },
   "outputs": [
    {
     "data": {
      "text/html": [
       "<div>\n",
       "<table border=\"1\" class=\"dataframe\">\n",
       "  <thead>\n",
       "    <tr style=\"text-align: right;\">\n",
       "      <th></th>\n",
       "      <th>user_id</th>\n",
       "      <th>score</th>\n",
       "      <th>Rt1</th>\n",
       "      <th>Rt2</th>\n",
       "      <th>Rt3</th>\n",
       "      <th>Rt4</th>\n",
       "      <th>Rt5</th>\n",
       "      <th>Rt6</th>\n",
       "      <th>Rt7</th>\n",
       "      <th>Rt8</th>\n",
       "      <th>Rt9</th>\n",
       "      <th>Rt10</th>\n",
       "      <th>num_hostels</th>\n",
       "      <th>topics</th>\n",
       "    </tr>\n",
       "  </thead>\n",
       "  <tbody>\n",
       "    <tr>\n",
       "      <th>0</th>\n",
       "      <td>1004454</td>\n",
       "      <td>7-8.5</td>\n",
       "      <td>0.011112</td>\n",
       "      <td>0.011112</td>\n",
       "      <td>0.011112</td>\n",
       "      <td>0.011112</td>\n",
       "      <td>0.011112</td>\n",
       "      <td>0.011112</td>\n",
       "      <td>0.011112</td>\n",
       "      <td>0.899995</td>\n",
       "      <td>0.011112</td>\n",
       "      <td>0.011112</td>\n",
       "      <td>Hs:1</td>\n",
       "      <td>[Rt8]</td>\n",
       "    </tr>\n",
       "    <tr>\n",
       "      <th>1</th>\n",
       "      <td>1004711</td>\n",
       "      <td>&gt;8.5</td>\n",
       "      <td>0.050000</td>\n",
       "      <td>0.050000</td>\n",
       "      <td>0.050000</td>\n",
       "      <td>0.050000</td>\n",
       "      <td>0.050000</td>\n",
       "      <td>0.050000</td>\n",
       "      <td>0.050000</td>\n",
       "      <td>0.550000</td>\n",
       "      <td>0.050000</td>\n",
       "      <td>0.050000</td>\n",
       "      <td>Hs:1</td>\n",
       "      <td>[Rt8]</td>\n",
       "    </tr>\n",
       "  </tbody>\n",
       "</table>\n",
       "</div>"
      ],
      "text/plain": [
       "   user_id  score       Rt1       Rt2       Rt3       Rt4       Rt5       Rt6  \\\n",
       "0  1004454  7-8.5  0.011112  0.011112  0.011112  0.011112  0.011112  0.011112   \n",
       "1  1004711   >8.5  0.050000  0.050000  0.050000  0.050000  0.050000  0.050000   \n",
       "\n",
       "        Rt7       Rt8       Rt9      Rt10 num_hostels topics  \n",
       "0  0.011112  0.899995  0.011112  0.011112        Hs:1  [Rt8]  \n",
       "1  0.050000  0.550000  0.050000  0.050000        Hs:1  [Rt8]  "
      ]
     },
     "execution_count": 9,
     "metadata": {},
     "output_type": "execute_result"
    }
   ],
   "source": [
    "# add 'hs' for hostels to the num_hostels \n",
    "def hsts(value):\n",
    "    return 'Hs:'+ str(value)\n",
    "\n",
    "users_topics['num_hostels'] = users_topics['num_hostels'].map(hsts)\n",
    "users_topics.head(2)"
   ]
  },
  {
   "cell_type": "code",
   "execution_count": 10,
   "metadata": {
    "collapsed": false
   },
   "outputs": [
    {
     "data": {
      "text/plain": [
       "((10929, 4), (10929, 3))"
      ]
     },
     "execution_count": 10,
     "metadata": {},
     "output_type": "execute_result"
    }
   ],
   "source": [
    "X = users_topics[['user_id','score','num_hostels','topics']]\n",
    "X.shape, user_travels.shape"
   ]
  },
  {
   "cell_type": "code",
   "execution_count": 11,
   "metadata": {
    "collapsed": false
   },
   "outputs": [
    {
     "data": {
      "text/html": [
       "<div>\n",
       "<table border=\"1\" class=\"dataframe\">\n",
       "  <thead>\n",
       "    <tr style=\"text-align: right;\">\n",
       "      <th></th>\n",
       "      <th>user_id</th>\n",
       "      <th>hsts_liked</th>\n",
       "      <th>countries</th>\n",
       "      <th>score</th>\n",
       "      <th>num_hostels</th>\n",
       "      <th>topics</th>\n",
       "    </tr>\n",
       "  </thead>\n",
       "  <tbody>\n",
       "    <tr>\n",
       "      <th>0</th>\n",
       "      <td>1189474</td>\n",
       "      <td>[Fortuna Botel]</td>\n",
       "      <td>[Hungary]</td>\n",
       "      <td>7-8.5</td>\n",
       "      <td>Hs:1</td>\n",
       "      <td>[Rt6]</td>\n",
       "    </tr>\n",
       "    <tr>\n",
       "      <th>1</th>\n",
       "      <td>1595059</td>\n",
       "      <td>[Equity Point Sea]</td>\n",
       "      <td>[Spain]</td>\n",
       "      <td>7-8.5</td>\n",
       "      <td>Hs:1</td>\n",
       "      <td>[Rt2]</td>\n",
       "    </tr>\n",
       "    <tr>\n",
       "      <th>2</th>\n",
       "      <td>3637809</td>\n",
       "      <td>[The Naughty Squirrel Backpackers Hostel]</td>\n",
       "      <td>[Latvia]</td>\n",
       "      <td>&gt;8.5</td>\n",
       "      <td>Hs:1</td>\n",
       "      <td>[]</td>\n",
       "    </tr>\n",
       "  </tbody>\n",
       "</table>\n",
       "</div>"
      ],
      "text/plain": [
       "   user_id                                 hsts_liked  countries  score  \\\n",
       "0  1189474                            [Fortuna Botel]  [Hungary]  7-8.5   \n",
       "1  1595059                         [Equity Point Sea]    [Spain]  7-8.5   \n",
       "2  3637809  [The Naughty Squirrel Backpackers Hostel]   [Latvia]   >8.5   \n",
       "\n",
       "  num_hostels topics  \n",
       "0        Hs:1  [Rt6]  \n",
       "1        Hs:1  [Rt2]  \n",
       "2        Hs:1     []  "
      ]
     },
     "execution_count": 11,
     "metadata": {},
     "output_type": "execute_result"
    }
   ],
   "source": [
    "# merge X from user topics with user_travels df on user id\n",
    "users = pd.merge(user_travels, X, on='user_id')\n",
    "users.head(3)"
   ]
  },
  {
   "cell_type": "code",
   "execution_count": 12,
   "metadata": {
    "collapsed": false
   },
   "outputs": [
    {
     "data": {
      "text/html": [
       "<div>\n",
       "<table border=\"1\" class=\"dataframe\">\n",
       "  <thead>\n",
       "    <tr style=\"text-align: right;\">\n",
       "      <th></th>\n",
       "      <th>user_id</th>\n",
       "      <th>nationality</th>\n",
       "      <th>group</th>\n",
       "      <th>age</th>\n",
       "    </tr>\n",
       "  </thead>\n",
       "  <tbody>\n",
       "    <tr>\n",
       "      <th>0</th>\n",
       "      <td>1189474</td>\n",
       "      <td>nationality: England</td>\n",
       "      <td>NaN</td>\n",
       "      <td>not specified</td>\n",
       "    </tr>\n",
       "    <tr>\n",
       "      <th>1</th>\n",
       "      <td>1595059</td>\n",
       "      <td>nationality: Hong Kong</td>\n",
       "      <td>NaN</td>\n",
       "      <td>not specified</td>\n",
       "    </tr>\n",
       "    <tr>\n",
       "      <th>2</th>\n",
       "      <td>3637809</td>\n",
       "      <td>nationality: Australia</td>\n",
       "      <td>Male</td>\n",
       "      <td>31-40</td>\n",
       "    </tr>\n",
       "  </tbody>\n",
       "</table>\n",
       "</div>"
      ],
      "text/plain": [
       "   user_id             nationality group            age\n",
       "0  1189474    nationality: England   NaN  not specified\n",
       "1  1595059  nationality: Hong Kong   NaN  not specified\n",
       "2  3637809  nationality: Australia  Male          31-40"
      ]
     },
     "execution_count": 12,
     "metadata": {},
     "output_type": "execute_result"
    }
   ],
   "source": [
    "# edit use rnationality so it says nationality in the values\n",
    "def nat(value):\n",
    "    return 'nationality: '+ str(value)\n",
    "\n",
    "users_df['nationality'] = users_df['nationality'].map(nat)\n",
    "users_df.head(3)"
   ]
  },
  {
   "cell_type": "code",
   "execution_count": 13,
   "metadata": {
    "collapsed": false
   },
   "outputs": [
    {
     "data": {
      "text/html": [
       "<div>\n",
       "<table border=\"1\" class=\"dataframe\">\n",
       "  <thead>\n",
       "    <tr style=\"text-align: right;\">\n",
       "      <th></th>\n",
       "      <th>user_id</th>\n",
       "      <th>nationality</th>\n",
       "      <th>group</th>\n",
       "      <th>age</th>\n",
       "      <th>hsts_liked</th>\n",
       "      <th>countries</th>\n",
       "      <th>score</th>\n",
       "      <th>num_hostels</th>\n",
       "      <th>topics</th>\n",
       "    </tr>\n",
       "  </thead>\n",
       "  <tbody>\n",
       "    <tr>\n",
       "      <th>0</th>\n",
       "      <td>1189474</td>\n",
       "      <td>nationality: England</td>\n",
       "      <td>NaN</td>\n",
       "      <td>not specified</td>\n",
       "      <td>[Fortuna Botel]</td>\n",
       "      <td>[Hungary]</td>\n",
       "      <td>7-8.5</td>\n",
       "      <td>Hs:1</td>\n",
       "      <td>[Rt6]</td>\n",
       "    </tr>\n",
       "    <tr>\n",
       "      <th>1</th>\n",
       "      <td>1595059</td>\n",
       "      <td>nationality: Hong Kong</td>\n",
       "      <td>NaN</td>\n",
       "      <td>not specified</td>\n",
       "      <td>[Equity Point Sea]</td>\n",
       "      <td>[Spain]</td>\n",
       "      <td>7-8.5</td>\n",
       "      <td>Hs:1</td>\n",
       "      <td>[Rt2]</td>\n",
       "    </tr>\n",
       "    <tr>\n",
       "      <th>2</th>\n",
       "      <td>3637809</td>\n",
       "      <td>nationality: Australia</td>\n",
       "      <td>Male</td>\n",
       "      <td>31-40</td>\n",
       "      <td>[The Naughty Squirrel Backpackers Hostel]</td>\n",
       "      <td>[Latvia]</td>\n",
       "      <td>&gt;8.5</td>\n",
       "      <td>Hs:1</td>\n",
       "      <td>[]</td>\n",
       "    </tr>\n",
       "  </tbody>\n",
       "</table>\n",
       "</div>"
      ],
      "text/plain": [
       "   user_id             nationality group            age  \\\n",
       "0  1189474    nationality: England   NaN  not specified   \n",
       "1  1595059  nationality: Hong Kong   NaN  not specified   \n",
       "2  3637809  nationality: Australia  Male          31-40   \n",
       "\n",
       "                                  hsts_liked  countries  score num_hostels  \\\n",
       "0                            [Fortuna Botel]  [Hungary]  7-8.5        Hs:1   \n",
       "1                         [Equity Point Sea]    [Spain]  7-8.5        Hs:1   \n",
       "2  [The Naughty Squirrel Backpackers Hostel]   [Latvia]   >8.5        Hs:1   \n",
       "\n",
       "  topics  \n",
       "0  [Rt6]  \n",
       "1  [Rt2]  \n",
       "2     []  "
      ]
     },
     "execution_count": 13,
     "metadata": {},
     "output_type": "execute_result"
    }
   ],
   "source": [
    "# merge users df with user info df \n",
    "Users = pd.merge(users_df, users, on='user_id')\n",
    "Users.head(3)"
   ]
  },
  {
   "cell_type": "code",
   "execution_count": 14,
   "metadata": {
    "collapsed": false
   },
   "outputs": [],
   "source": [
    "# make a column that is a list of the users information\n",
    "users_stuff = []\n",
    "for i,u in enumerate(Users['user_id']):\n",
    "    u_info =[]\n",
    "    for h in Users['hsts_liked'][i]: \n",
    "        u_info.append(h)\n",
    "    for c in Users['countries'][i]:\n",
    "        u_info.append(c)\n",
    "    u_info.append(Users['score'][i])\n",
    "    u_info.append(Users['num_hostels'][i])\n",
    "    for t in Users['topics'][i]:\n",
    "        u_info.append(t)\n",
    "    u_info.append(Users['nationality'][i])\n",
    "    u_info.append(Users['group'][i])\n",
    "    u_info.append(Users['age'][i])\n",
    "    users_stuff.append(u_info)\n",
    "    \n",
    "# add new column to Users df \n",
    "Users['user_stuff'] = users_stuff"
   ]
  },
  {
   "cell_type": "code",
   "execution_count": 15,
   "metadata": {
    "collapsed": false
   },
   "outputs": [
    {
     "data": {
      "text/html": [
       "<div>\n",
       "<table border=\"1\" class=\"dataframe\">\n",
       "  <thead>\n",
       "    <tr style=\"text-align: right;\">\n",
       "      <th></th>\n",
       "      <th>user_id</th>\n",
       "      <th>user_stuff</th>\n",
       "      <th>hsts_liked</th>\n",
       "    </tr>\n",
       "  </thead>\n",
       "  <tbody>\n",
       "    <tr>\n",
       "      <th>0</th>\n",
       "      <td>1189474</td>\n",
       "      <td>[Fortuna Botel, Hungary, 7-8.5, Hs:1, Rt6, nat...</td>\n",
       "      <td>[Fortuna Botel]</td>\n",
       "    </tr>\n",
       "    <tr>\n",
       "      <th>1</th>\n",
       "      <td>1595059</td>\n",
       "      <td>[Equity Point Sea, Spain, 7-8.5, Hs:1, Rt2, na...</td>\n",
       "      <td>[Equity Point Sea]</td>\n",
       "    </tr>\n",
       "    <tr>\n",
       "      <th>2</th>\n",
       "      <td>3637809</td>\n",
       "      <td>[The Naughty Squirrel Backpackers Hostel, Latv...</td>\n",
       "      <td>[The Naughty Squirrel Backpackers Hostel]</td>\n",
       "    </tr>\n",
       "  </tbody>\n",
       "</table>\n",
       "</div>"
      ],
      "text/plain": [
       "   user_id                                         user_stuff  \\\n",
       "0  1189474  [Fortuna Botel, Hungary, 7-8.5, Hs:1, Rt6, nat...   \n",
       "1  1595059  [Equity Point Sea, Spain, 7-8.5, Hs:1, Rt2, na...   \n",
       "2  3637809  [The Naughty Squirrel Backpackers Hostel, Latv...   \n",
       "\n",
       "                                  hsts_liked  \n",
       "0                            [Fortuna Botel]  \n",
       "1                         [Equity Point Sea]  \n",
       "2  [The Naughty Squirrel Backpackers Hostel]  "
      ]
     },
     "execution_count": 15,
     "metadata": {},
     "output_type": "execute_result"
    }
   ],
   "source": [
    "# put info into a df for finding distance\n",
    "user_dist = Users[['user_id','user_stuff','hsts_liked']]\n",
    "user_dist.head(3)"
   ]
  },
  {
   "cell_type": "code",
   "execution_count": 20,
   "metadata": {
    "collapsed": false
   },
   "outputs": [],
   "source": [
    "user_dist.to_csv(path_or_buf='/Users/caitlinmowdy/Desktop/DSI-SF-2-caitlinmowdy/capstone-hostelworld/clean-data/user_dist_oct10.csv',encoding='utf8')"
   ]
  },
  {
   "cell_type": "code",
   "execution_count": 16,
   "metadata": {
    "collapsed": true
   },
   "outputs": [],
   "source": [
    "# equation for finding jaccard distance between users \n",
    "def j_dist(user):\n",
    "    distance = []\n",
    "    users1 = []\n",
    "    hostels = []\n",
    "    user_a = set(user_dist ['user_stuff'][user_dist.user_id == user].values[0])\n",
    "    for i,id in enumerate(user_dist.user_id):\n",
    "        user_b = set(user_dist.user_stuff[i])\n",
    "\n",
    "        numerator = len(user_a.intersection(user_b)) * 1.0 # * 1.0 to cast as a float\n",
    "        denominator = len(user_a.union(user_b)) * 1.0\n",
    "        distance.append(numerator / denominator)\n",
    "        users1.append(id)\n",
    "        hostels.append(user_dist['hsts_liked'][i])\n",
    "    distances = pd.DataFrame()\n",
    "    distances['users'] = users1\n",
    "    distances['distances']=distance\n",
    "    distances['hostels'] = hostels\n",
    "    return distances.sort_values('distances', ascending = False)[1:5]"
   ]
  },
  {
   "cell_type": "code",
   "execution_count": 17,
   "metadata": {
    "collapsed": false
   },
   "outputs": [
    {
     "data": {
      "text/html": [
       "<div>\n",
       "<table border=\"1\" class=\"dataframe\">\n",
       "  <thead>\n",
       "    <tr style=\"text-align: right;\">\n",
       "      <th></th>\n",
       "      <th>users</th>\n",
       "      <th>distances</th>\n",
       "      <th>hostels</th>\n",
       "    </tr>\n",
       "  </thead>\n",
       "  <tbody>\n",
       "    <tr>\n",
       "      <th>6563</th>\n",
       "      <td>8144810</td>\n",
       "      <td>0.312500</td>\n",
       "      <td>[Iva Apartments]</td>\n",
       "    </tr>\n",
       "    <tr>\n",
       "      <th>3767</th>\n",
       "      <td>9802505</td>\n",
       "      <td>0.300000</td>\n",
       "      <td>[El Jardin Hostal, Way Hostel, Hostel Rosemary]</td>\n",
       "    </tr>\n",
       "    <tr>\n",
       "      <th>9161</th>\n",
       "      <td>9936860</td>\n",
       "      <td>0.277778</td>\n",
       "      <td>[Boipeba Bed and Breakfast, Hostal Andalucia]</td>\n",
       "    </tr>\n",
       "    <tr>\n",
       "      <th>3425</th>\n",
       "      <td>8211885</td>\n",
       "      <td>0.250000</td>\n",
       "      <td>[Bed &amp; Bike Barcelona]</td>\n",
       "    </tr>\n",
       "  </tbody>\n",
       "</table>\n",
       "</div>"
      ],
      "text/plain": [
       "        users  distances                                          hostels\n",
       "6563  8144810   0.312500                                 [Iva Apartments]\n",
       "3767  9802505   0.300000  [El Jardin Hostal, Way Hostel, Hostel Rosemary]\n",
       "9161  9936860   0.277778    [Boipeba Bed and Breakfast, Hostal Andalucia]\n",
       "3425  8211885   0.250000                           [Bed & Bike Barcelona]"
      ]
     },
     "execution_count": 17,
     "metadata": {},
     "output_type": "execute_result"
    }
   ],
   "source": [
    "j_dist(3298399)"
   ]
  },
  {
   "cell_type": "code",
   "execution_count": null,
   "metadata": {
    "collapsed": true
   },
   "outputs": [],
   "source": []
  }
 ],
 "metadata": {
  "anaconda-cloud": {},
  "kernelspec": {
   "display_name": "Python [dsi]",
   "language": "python",
   "name": "Python [dsi]"
  },
  "language_info": {
   "codemirror_mode": {
    "name": "ipython",
    "version": 2
   },
   "file_extension": ".py",
   "mimetype": "text/x-python",
   "name": "python",
   "nbconvert_exporter": "python",
   "pygments_lexer": "ipython2",
   "version": "2.7.12"
  }
 },
 "nbformat": 4,
 "nbformat_minor": 0
}
